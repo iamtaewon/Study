{
 "cells": [
  {
   "cell_type": "markdown",
   "id": "7c82f3fc",
   "metadata": {},
   "source": [
    "# Github readme"
   ]
  },
  {
   "cell_type": "code",
   "execution_count": 1,
   "id": "015e59eb",
   "metadata": {},
   "outputs": [],
   "source": [
    "<!-- ![header](https://capsule-render.vercel.app/api?type=slice&color=gradient&height=160&section=header&text=Hi!%20I'm%20Hyein!&fontAlign=50&fontAlignY=70&fontSize=90&fontColor=000000)\n",
    " -->\n",
    "![slice](https://capsule-render.vercel.app/api?type=slice&color=gradient&height=200&text=Hi!%20I%20am%20Taewon&fontAlign=70&rotate=13&fontAlignY=25&d)\n",
    "\n",
    "\n",
    "<h3 align=\"center\">👋 It's me! 👋</h3>\n",
    "<p align=\"center\">\n",
    "  <b>Studying Financial Big Data Analysis</b> 🧑🏻‍💻 <br>\n",
    "  <b>I'm growing everyday</b> 🌿\n",
    "</p>\n",
    "\n",
    "<h3 align=\"center\">📚 Tech Stack 📚</h3>\n",
    "<p align=\"center\">\n",
    "  <img src=\"https://img.shields.io/badge/Python-3766AB?style=flat-square&logo=Python&logoColor=white\"/></a>&nbsp\n",
    "  <img src=\"https://img.shields.io/badge/Mysql-E6B91E?style=flat-square&logo=MySql&logoColor=white\"/></a>&nbsp\n",
    "  <img src=\"https://img.shields.io/badge/HTML-E34F26?style=round-square&logo=HTML&logoColor=black\"/></a>&nbsp\n",
    "  <img src=\"https://img.shields.io/badge/MySQL-%2300f.svg?style=round-square&logo=mysql&logoColor=white\"/></a>&nbsp\n",
    "  <img src=\"https://img.shields.io/badge/Visual Studio Code-007ACC.svg?style=round-square&logo=Visual Studio Code&logoColor=white\"/></a>&nbsp\n",
    "  <img src=\"https://img.shields.io/badge/R-blue?logo=R\"/></a>&nbsp\n",
    "  <img src=\"https://img.shields.io/badge/RStudio-blue?logo=RStudio\"/></a>&nbsp\n",
    "  <img src=\"https://img.shields.io/badge/GitHub-181717?style=round-square&logo=GitHub&logoColor=black\"/></a>&nbsp\n",
    "</p>\n",
    "\n",
    "<h3 align=\"center\">⚡️ Contact Me ⚡️</h3>\n",
    "<p align=\"center\">\n",
    "  <a href=\"mailto:taewon971127@gmail.com\"><img src=\"https://img.shields.io/badge/Gmail-d14836?style=flat-square&logo=Gmail&logoColor=white&link=kimhyein7110@gmail.com\"/></a>\n",
    "</p>\n",
    "\n",
    "<div align=left>\n",
    "  <img src=\"https://github-readme-stats.vercel.app/api/top-langs/?username=iamtaewon&layout=compact\">\n",
    "  <img src=\"https://github-readme-stats.vercel.app/api?username=iamtaewon&show_icons=true\">\n",
    "</div>"
   ]
  }
 ],
 "metadata": {
  "kernelspec": {
   "display_name": "Python 3 (ipykernel)",
   "language": "python",
   "name": "python3"
  },
  "language_info": {
   "codemirror_mode": {
    "name": "ipython",
    "version": 3
   },
   "file_extension": ".py",
   "mimetype": "text/x-python",
   "name": "python",
   "nbconvert_exporter": "python",
   "pygments_lexer": "ipython3",
   "version": "3.9.13"
  }
 },
 "nbformat": 4,
 "nbformat_minor": 5
}
