{
 "cells": [
  {
   "cell_type": "code",
   "execution_count": 1,
   "id": "5acca218",
   "metadata": {},
   "outputs": [
    {
     "name": "stdout",
     "output_type": "stream",
     "text": [
      "Collecting finance-datareader\n",
      "  Using cached finance_datareader-0.9.50-py3-none-any.whl (19 kB)\n",
      "Requirement already satisfied: requests-file in /Users/taewon/opt/anaconda3/lib/python3.9/site-packages (from finance-datareader) (1.5.1)\n",
      "Requirement already satisfied: pandas>=0.19.2 in /Users/taewon/opt/anaconda3/lib/python3.9/site-packages (from finance-datareader) (1.4.4)\n",
      "Requirement already satisfied: lxml in /Users/taewon/opt/anaconda3/lib/python3.9/site-packages (from finance-datareader) (4.9.1)\n",
      "Requirement already satisfied: tqdm in /Users/taewon/opt/anaconda3/lib/python3.9/site-packages (from finance-datareader) (4.64.1)\n",
      "Requirement already satisfied: requests>=2.3.0 in /Users/taewon/opt/anaconda3/lib/python3.9/site-packages (from finance-datareader) (2.28.1)\n",
      "Requirement already satisfied: python-dateutil>=2.8.1 in /Users/taewon/opt/anaconda3/lib/python3.9/site-packages (from pandas>=0.19.2->finance-datareader) (2.8.2)\n",
      "Requirement already satisfied: pytz>=2020.1 in /Users/taewon/opt/anaconda3/lib/python3.9/site-packages (from pandas>=0.19.2->finance-datareader) (2022.7.1)\n",
      "Requirement already satisfied: numpy>=1.18.5 in /Users/taewon/opt/anaconda3/lib/python3.9/site-packages (from pandas>=0.19.2->finance-datareader) (1.21.5)\n",
      "Requirement already satisfied: certifi>=2017.4.17 in /Users/taewon/opt/anaconda3/lib/python3.9/site-packages (from requests>=2.3.0->finance-datareader) (2022.9.24)\n",
      "Requirement already satisfied: charset-normalizer<3,>=2 in /Users/taewon/opt/anaconda3/lib/python3.9/site-packages (from requests>=2.3.0->finance-datareader) (2.0.4)\n",
      "Requirement already satisfied: idna<4,>=2.5 in /Users/taewon/opt/anaconda3/lib/python3.9/site-packages (from requests>=2.3.0->finance-datareader) (3.3)\n",
      "Requirement already satisfied: urllib3<1.27,>=1.21.1 in /Users/taewon/opt/anaconda3/lib/python3.9/site-packages (from requests>=2.3.0->finance-datareader) (1.26.11)\n",
      "Requirement already satisfied: six in /Users/taewon/opt/anaconda3/lib/python3.9/site-packages (from requests-file->finance-datareader) (1.16.0)\n",
      "Installing collected packages: finance-datareader\n",
      "Successfully installed finance-datareader-0.9.50\n",
      "Note: you may need to restart the kernel to use updated packages.\n"
     ]
    }
   ],
   "source": [
    "pip install -U finance-datareader"
   ]
  },
  {
   "cell_type": "code",
   "execution_count": 3,
   "id": "0b8494e8",
   "metadata": {},
   "outputs": [],
   "source": [
    "import FinanceDataReader as fdr"
   ]
  },
  {
   "cell_type": "code",
   "execution_count": 4,
   "id": "27a9e872",
   "metadata": {},
   "outputs": [
    {
     "data": {
      "text/plain": [
       "'0.9.50'"
      ]
     },
     "execution_count": 4,
     "metadata": {},
     "output_type": "execute_result"
    }
   ],
   "source": [
    "# 버젼 확인하기\n",
    "fdr.__version__"
   ]
  },
  {
   "cell_type": "code",
   "execution_count": 6,
   "id": "b8c1a5fd",
   "metadata": {},
   "outputs": [
    {
     "data": {
      "text/html": [
       "<div>\n",
       "<style scoped>\n",
       "    .dataframe tbody tr th:only-of-type {\n",
       "        vertical-align: middle;\n",
       "    }\n",
       "\n",
       "    .dataframe tbody tr th {\n",
       "        vertical-align: top;\n",
       "    }\n",
       "\n",
       "    .dataframe thead th {\n",
       "        text-align: right;\n",
       "    }\n",
       "</style>\n",
       "<table border=\"1\" class=\"dataframe\">\n",
       "  <thead>\n",
       "    <tr style=\"text-align: right;\">\n",
       "      <th></th>\n",
       "      <th>Open</th>\n",
       "      <th>High</th>\n",
       "      <th>Low</th>\n",
       "      <th>Close</th>\n",
       "      <th>Volume</th>\n",
       "      <th>Change</th>\n",
       "    </tr>\n",
       "    <tr>\n",
       "      <th>Date</th>\n",
       "      <th></th>\n",
       "      <th></th>\n",
       "      <th></th>\n",
       "      <th></th>\n",
       "      <th></th>\n",
       "      <th></th>\n",
       "    </tr>\n",
       "  </thead>\n",
       "  <tbody>\n",
       "    <tr>\n",
       "      <th>2019-01-02</th>\n",
       "      <td>39400</td>\n",
       "      <td>39400</td>\n",
       "      <td>38550</td>\n",
       "      <td>38750</td>\n",
       "      <td>7847664</td>\n",
       "      <td>0.001292</td>\n",
       "    </tr>\n",
       "    <tr>\n",
       "      <th>2019-01-03</th>\n",
       "      <td>38300</td>\n",
       "      <td>38550</td>\n",
       "      <td>37450</td>\n",
       "      <td>37600</td>\n",
       "      <td>12471493</td>\n",
       "      <td>-0.029677</td>\n",
       "    </tr>\n",
       "    <tr>\n",
       "      <th>2019-01-04</th>\n",
       "      <td>37450</td>\n",
       "      <td>37600</td>\n",
       "      <td>36850</td>\n",
       "      <td>37450</td>\n",
       "      <td>14108958</td>\n",
       "      <td>-0.003989</td>\n",
       "    </tr>\n",
       "    <tr>\n",
       "      <th>2019-01-07</th>\n",
       "      <td>38000</td>\n",
       "      <td>38900</td>\n",
       "      <td>37800</td>\n",
       "      <td>38750</td>\n",
       "      <td>12748997</td>\n",
       "      <td>0.034713</td>\n",
       "    </tr>\n",
       "    <tr>\n",
       "      <th>2019-01-08</th>\n",
       "      <td>38000</td>\n",
       "      <td>39200</td>\n",
       "      <td>37950</td>\n",
       "      <td>38100</td>\n",
       "      <td>12756554</td>\n",
       "      <td>-0.016774</td>\n",
       "    </tr>\n",
       "  </tbody>\n",
       "</table>\n",
       "</div>"
      ],
      "text/plain": [
       "             Open   High    Low  Close    Volume    Change\n",
       "Date                                                      \n",
       "2019-01-02  39400  39400  38550  38750   7847664  0.001292\n",
       "2019-01-03  38300  38550  37450  37600  12471493 -0.029677\n",
       "2019-01-04  37450  37600  36850  37450  14108958 -0.003989\n",
       "2019-01-07  38000  38900  37800  38750  12748997  0.034713\n",
       "2019-01-08  38000  39200  37950  38100  12756554 -0.016774"
      ]
     },
     "execution_count": 6,
     "metadata": {},
     "output_type": "execute_result"
    }
   ],
   "source": [
    "import FinanceDataReader as fdr\n",
    "# 삼성전자, 2018년\n",
    "df = fdr.DataReader('005930', start=\"2019-01-01\", end='2023-03-17')\n",
    "import FinanceDataReader as fdr\n",
    "df. head()"
   ]
  },
  {
   "cell_type": "code",
   "execution_count": 8,
   "id": "2cbf6f6a",
   "metadata": {},
   "outputs": [
    {
     "data": {
      "text/plain": [
       "<AxesSubplot:xlabel='Date'>"
      ]
     },
     "execution_count": 8,
     "metadata": {},
     "output_type": "execute_result"
    },
    {
     "data": {
      "image/png": "[encoded data removed]",
      "text/plain": [
       "<Figure size 640x480 with 1 Axes>"
      ]
     },
     "metadata": {},
     "output_type": "display_data"
    }
   ],
   "source": [
    "import FinanceDataReader as fdr\n",
    "df= fdr.DataReader(\"005930\", start=\"2019-01-01\", end='2023-03-17')\n",
    "df['Close'].plot()"
   ]
  },
  {
   "cell_type": "code",
   "execution_count": 9,
   "id": "7b08e36a",
   "metadata": {},
   "outputs": [
    {
     "data": {
      "text/html": [
       "<div>\n",
       "<style scoped>\n",
       "    .dataframe tbody tr th:only-of-type {\n",
       "        vertical-align: middle;\n",
       "    }\n",
       "\n",
       "    .dataframe tbody tr th {\n",
       "        vertical-align: top;\n",
       "    }\n",
       "\n",
       "    .dataframe thead th {\n",
       "        text-align: right;\n",
       "    }\n",
       "</style>\n",
       "<table border=\"1\" class=\"dataframe\">\n",
       "  <thead>\n",
       "    <tr style=\"text-align: right;\">\n",
       "      <th></th>\n",
       "      <th>Open</th>\n",
       "      <th>High</th>\n",
       "      <th>Low</th>\n",
       "      <th>Close</th>\n",
       "      <th>Volume</th>\n",
       "      <th>Change</th>\n",
       "    </tr>\n",
       "    <tr>\n",
       "      <th>Date</th>\n",
       "      <th></th>\n",
       "      <th></th>\n",
       "      <th></th>\n",
       "      <th></th>\n",
       "      <th></th>\n",
       "      <th></th>\n",
       "    </tr>\n",
       "  </thead>\n",
       "  <tbody>\n",
       "    <tr>\n",
       "      <th>2018-01-02</th>\n",
       "      <td>51380</td>\n",
       "      <td>51400</td>\n",
       "      <td>50780</td>\n",
       "      <td>51020</td>\n",
       "      <td>169485</td>\n",
       "      <td>0.001177</td>\n",
       "    </tr>\n",
       "    <tr>\n",
       "      <th>2018-01-03</th>\n",
       "      <td>52540</td>\n",
       "      <td>52560</td>\n",
       "      <td>51420</td>\n",
       "      <td>51620</td>\n",
       "      <td>200270</td>\n",
       "      <td>0.011760</td>\n",
       "    </tr>\n",
       "    <tr>\n",
       "      <th>2018-01-04</th>\n",
       "      <td>52120</td>\n",
       "      <td>52180</td>\n",
       "      <td>50640</td>\n",
       "      <td>51080</td>\n",
       "      <td>233909</td>\n",
       "      <td>-0.010461</td>\n",
       "    </tr>\n",
       "    <tr>\n",
       "      <th>2018-01-05</th>\n",
       "      <td>51300</td>\n",
       "      <td>52120</td>\n",
       "      <td>51200</td>\n",
       "      <td>52120</td>\n",
       "      <td>189623</td>\n",
       "      <td>0.020360</td>\n",
       "    </tr>\n",
       "    <tr>\n",
       "      <th>2018-01-08</th>\n",
       "      <td>52400</td>\n",
       "      <td>52520</td>\n",
       "      <td>51500</td>\n",
       "      <td>52020</td>\n",
       "      <td>167673</td>\n",
       "      <td>-0.001919</td>\n",
       "    </tr>\n",
       "  </tbody>\n",
       "</table>\n",
       "</div>"
      ],
      "text/plain": [
       "             Open   High    Low  Close  Volume    Change\n",
       "Date                                                    \n",
       "2018-01-02  51380  51400  50780  51020  169485  0.001177\n",
       "2018-01-03  52540  52560  51420  51620  200270  0.011760\n",
       "2018-01-04  52120  52180  50640  51080  233909 -0.010461\n",
       "2018-01-05  51300  52120  51200  52120  189623  0.020360\n",
       "2018-01-08  52400  52520  51500  52020  167673 -0.001919"
      ]
     },
     "execution_count": 9,
     "metadata": {},
     "output_type": "execute_result"
    }
   ],
   "source": [
    "import FinanceDataReader as fdr\n",
    "# 삼성전자, 2018년\n",
    "df = fdr.DataReader('005930', \"2018\", \"2020\")\n",
    "import FinanceDataReader as fdr\n",
    "df. head()"
   ]
  },
  {
   "cell_type": "code",
   "execution_count": 10,
   "id": "ef7d2507",
   "metadata": {},
   "outputs": [],
   "source": [
    "import FinanceDataReader as fdr\n",
    "import pandas as pd\n",
    "df = fdr.DataReader('005930', \"2018\", \"2020\")\n",
    "df.to_csv('se.csv', encoding='utf-8-sig')"
   ]
  },
  {
   "cell_type": "code",
   "execution_count": 11,
   "id": "49787e9d",
   "metadata": {},
   "outputs": [],
   "source": [
    "import FinanceDataReader as fdr\n",
    "import pandas as pd\n",
    "df = fdr.DataReader('005930', \"2018\", \"2020\")\n",
    "# df.to_csv('se.csv', encoding='utf-8-sig')\n",
    "df.to_excel('se.xlsx')"
   ]
  },
  {
   "cell_type": "code",
   "execution_count": 12,
   "id": "883c01c8",
   "metadata": {},
   "outputs": [
    {
     "data": {
      "text/plain": [
       "<AxesSubplot:xlabel='Date'>"
      ]
     },
     "execution_count": 12,
     "metadata": {},
     "output_type": "execute_result"
    },
    {
     "data": {
      "image/png": "[encoded data removed]",
      "text/plain": [
       "<Figure size 640x480 with 1 Axes>"
      ]
     },
     "metadata": {},
     "output_type": "display_data"
    }
   ],
   "source": [
    "import FinanceDataReader as fdr\n",
    "df= fdr.DataReader(\"005930\", \"2018\", \"2020\")\n",
    "df['Close'].plot()"
   ]
  },
  {
   "cell_type": "code",
   "execution_count": 13,
   "id": "ed1c4447",
   "metadata": {},
   "outputs": [
    {
     "data": {
      "text/plain": [
       "<AxesSubplot:xlabel='Date'>"
      ]
     },
     "execution_count": 13,
     "metadata": {},
     "output_type": "execute_result"
    },
    {
     "data": {
      "image/png": "[encoded data removed]",
      "text/plain": [
       "<Figure size 640x480 with 1 Axes>"
      ]
     },
     "metadata": {},
     "output_type": "display_data"
    }
   ],
   "source": [
    "import FinanceDataReader as fdr\n",
    "df= fdr.DataReader(\"005930\", \"2018\", \"2021\")\n",
    "df['Close'].plot()"
   ]
  },
  {
   "cell_type": "code",
   "execution_count": 14,
   "id": "89e5e5ac",
   "metadata": {},
   "outputs": [
    {
     "data": {
      "text/plain": [
       "<AxesSubplot:xlabel='Date'>"
      ]
     },
     "execution_count": 14,
     "metadata": {},
     "output_type": "execute_result"
    },
    {
     "data": {
      "image/png": "[encoded data removed]",
      "text/plain": [
       "<Figure size 640x480 with 1 Axes>"
      ]
     },
     "metadata": {},
     "output_type": "display_data"
    }
   ],
   "source": [
    "import FinanceDataReader as fdr\n",
    "df= fdr.DataReader(\"005930\", \"2018-01-01\", \"2020-12-31\")\n",
    "df['Close'].plot()"
   ]
  },
  {
   "cell_type": "code",
   "execution_count": 15,
   "id": "c744382c",
   "metadata": {},
   "outputs": [
    {
     "data": {
      "text/html": [
       "<div>\n",
       "<style scoped>\n",
       "    .dataframe tbody tr th:only-of-type {\n",
       "        vertical-align: middle;\n",
       "    }\n",
       "\n",
       "    .dataframe tbody tr th {\n",
       "        vertical-align: top;\n",
       "    }\n",
       "\n",
       "    .dataframe thead th {\n",
       "        text-align: right;\n",
       "    }\n",
       "</style>\n",
       "<table border=\"1\" class=\"dataframe\">\n",
       "  <thead>\n",
       "    <tr style=\"text-align: right;\">\n",
       "      <th></th>\n",
       "      <th>Open</th>\n",
       "      <th>High</th>\n",
       "      <th>Low</th>\n",
       "      <th>Close</th>\n",
       "      <th>Adj Close</th>\n",
       "      <th>Volume</th>\n",
       "    </tr>\n",
       "    <tr>\n",
       "      <th>Date</th>\n",
       "      <th></th>\n",
       "      <th></th>\n",
       "      <th></th>\n",
       "      <th></th>\n",
       "      <th></th>\n",
       "      <th></th>\n",
       "    </tr>\n",
       "  </thead>\n",
       "  <tbody>\n",
       "    <tr>\n",
       "      <th>2023-03-13</th>\n",
       "      <td>147.809998</td>\n",
       "      <td>153.139999</td>\n",
       "      <td>147.699997</td>\n",
       "      <td>150.470001</td>\n",
       "      <td>150.470001</td>\n",
       "      <td>84457100</td>\n",
       "    </tr>\n",
       "    <tr>\n",
       "      <th>2023-03-14</th>\n",
       "      <td>151.279999</td>\n",
       "      <td>153.399994</td>\n",
       "      <td>150.100006</td>\n",
       "      <td>152.589996</td>\n",
       "      <td>152.589996</td>\n",
       "      <td>73695900</td>\n",
       "    </tr>\n",
       "    <tr>\n",
       "      <th>2023-03-15</th>\n",
       "      <td>151.190002</td>\n",
       "      <td>153.250000</td>\n",
       "      <td>149.919998</td>\n",
       "      <td>152.990005</td>\n",
       "      <td>152.990005</td>\n",
       "      <td>77167900</td>\n",
       "    </tr>\n",
       "    <tr>\n",
       "      <th>2023-03-16</th>\n",
       "      <td>152.160004</td>\n",
       "      <td>156.460007</td>\n",
       "      <td>151.639999</td>\n",
       "      <td>155.850006</td>\n",
       "      <td>155.850006</td>\n",
       "      <td>76161100</td>\n",
       "    </tr>\n",
       "    <tr>\n",
       "      <th>2023-03-17</th>\n",
       "      <td>156.080002</td>\n",
       "      <td>156.740005</td>\n",
       "      <td>154.279999</td>\n",
       "      <td>155.000000</td>\n",
       "      <td>155.000000</td>\n",
       "      <td>98862500</td>\n",
       "    </tr>\n",
       "  </tbody>\n",
       "</table>\n",
       "</div>"
      ],
      "text/plain": [
       "                  Open        High         Low       Close   Adj Close  \\\n",
       "Date                                                                     \n",
       "2023-03-13  147.809998  153.139999  147.699997  150.470001  150.470001   \n",
       "2023-03-14  151.279999  153.399994  150.100006  152.589996  152.589996   \n",
       "2023-03-15  151.190002  153.250000  149.919998  152.990005  152.990005   \n",
       "2023-03-16  152.160004  156.460007  151.639999  155.850006  155.850006   \n",
       "2023-03-17  156.080002  156.740005  154.279999  155.000000  155.000000   \n",
       "\n",
       "              Volume  \n",
       "Date                  \n",
       "2023-03-13  84457100  \n",
       "2023-03-14  73695900  \n",
       "2023-03-15  77167900  \n",
       "2023-03-16  76161100  \n",
       "2023-03-17  98862500  "
      ]
     },
     "execution_count": 15,
     "metadata": {},
     "output_type": "execute_result"
    }
   ],
   "source": [
    "import FinanceDataReader as fdr\n",
    "#애플주가(AAPL)\n",
    "df = fdr.DataReader('AAPL', \"2018\")\n",
    "df.tail()"
   ]
  },
  {
   "cell_type": "code",
   "execution_count": 16,
   "id": "bfe27c60",
   "metadata": {},
   "outputs": [],
   "source": [
    "import yfinance as yf"
   ]
  },
  {
   "cell_type": "code",
   "execution_count": 18,
   "id": "c24c5e9c",
   "metadata": {},
   "outputs": [
    {
     "name": "stdout",
     "output_type": "stream",
     "text": [
      "[*********************100%***********************]  1 of 1 completed\n"
     ]
    },
    {
     "data": {
      "text/html": [
       "<div>\n",
       "<style scoped>\n",
       "    .dataframe tbody tr th:only-of-type {\n",
       "        vertical-align: middle;\n",
       "    }\n",
       "\n",
       "    .dataframe tbody tr th {\n",
       "        vertical-align: top;\n",
       "    }\n",
       "\n",
       "    .dataframe thead th {\n",
       "        text-align: right;\n",
       "    }\n",
       "</style>\n",
       "<table border=\"1\" class=\"dataframe\">\n",
       "  <thead>\n",
       "    <tr style=\"text-align: right;\">\n",
       "      <th></th>\n",
       "      <th>Open</th>\n",
       "      <th>High</th>\n",
       "      <th>Low</th>\n",
       "      <th>Close</th>\n",
       "      <th>Adj Close</th>\n",
       "      <th>Volume</th>\n",
       "    </tr>\n",
       "    <tr>\n",
       "      <th>Date</th>\n",
       "      <th></th>\n",
       "      <th></th>\n",
       "      <th></th>\n",
       "      <th></th>\n",
       "      <th></th>\n",
       "      <th></th>\n",
       "    </tr>\n",
       "  </thead>\n",
       "  <tbody>\n",
       "    <tr>\n",
       "      <th>2023-03-13</th>\n",
       "      <td>147.809998</td>\n",
       "      <td>153.139999</td>\n",
       "      <td>147.699997</td>\n",
       "      <td>150.470001</td>\n",
       "      <td>150.470001</td>\n",
       "      <td>84457100</td>\n",
       "    </tr>\n",
       "    <tr>\n",
       "      <th>2023-03-14</th>\n",
       "      <td>151.279999</td>\n",
       "      <td>153.399994</td>\n",
       "      <td>150.100006</td>\n",
       "      <td>152.589996</td>\n",
       "      <td>152.589996</td>\n",
       "      <td>73695900</td>\n",
       "    </tr>\n",
       "    <tr>\n",
       "      <th>2023-03-15</th>\n",
       "      <td>151.190002</td>\n",
       "      <td>153.250000</td>\n",
       "      <td>149.919998</td>\n",
       "      <td>152.990005</td>\n",
       "      <td>152.990005</td>\n",
       "      <td>77167900</td>\n",
       "    </tr>\n",
       "    <tr>\n",
       "      <th>2023-03-16</th>\n",
       "      <td>152.160004</td>\n",
       "      <td>156.460007</td>\n",
       "      <td>151.639999</td>\n",
       "      <td>155.850006</td>\n",
       "      <td>155.850006</td>\n",
       "      <td>76161100</td>\n",
       "    </tr>\n",
       "    <tr>\n",
       "      <th>2023-03-17</th>\n",
       "      <td>156.080002</td>\n",
       "      <td>156.740005</td>\n",
       "      <td>154.279999</td>\n",
       "      <td>155.000000</td>\n",
       "      <td>155.000000</td>\n",
       "      <td>98862500</td>\n",
       "    </tr>\n",
       "  </tbody>\n",
       "</table>\n",
       "</div>"
      ],
      "text/plain": [
       "                  Open        High         Low       Close   Adj Close  \\\n",
       "Date                                                                     \n",
       "2023-03-13  147.809998  153.139999  147.699997  150.470001  150.470001   \n",
       "2023-03-14  151.279999  153.399994  150.100006  152.589996  152.589996   \n",
       "2023-03-15  151.190002  153.250000  149.919998  152.990005  152.990005   \n",
       "2023-03-16  152.160004  156.460007  151.639999  155.850006  155.850006   \n",
       "2023-03-17  156.080002  156.740005  154.279999  155.000000  155.000000   \n",
       "\n",
       "              Volume  \n",
       "Date                  \n",
       "2023-03-13  84457100  \n",
       "2023-03-14  73695900  \n",
       "2023-03-15  77167900  \n",
       "2023-03-16  76161100  \n",
       "2023-03-17  98862500  "
      ]
     },
     "execution_count": 18,
     "metadata": {},
     "output_type": "execute_result"
    }
   ],
   "source": [
    "df = yf.download('AAPL', start='2019-01-01')\n",
    "df.tail()"
   ]
  },
  {
   "cell_type": "code",
   "execution_count": 22,
   "id": "89c0a503",
   "metadata": {},
   "outputs": [
    {
     "data": {
      "text/plain": [
       "<AxesSubplot:xlabel='Date'>"
      ]
     },
     "execution_count": 22,
     "metadata": {},
     "output_type": "execute_result"
    },
    {
     "data": {
      "image/png": "[encoded data removed]",
      "text/plain": [
       "<Figure size 640x480 with 1 Axes>"
      ]
     },
     "metadata": {},
     "output_type": "display_data"
    }
   ],
   "source": [
    "import FinanceDataReader as fdr\n",
    "#애플주가(AAPL)\n",
    "df = fdr.DataReader('AAPL', \"2018\")\n",
    "df['Close'].plot()"
   ]
  },
  {
   "cell_type": "code",
   "execution_count": 23,
   "id": "3741f83d",
   "metadata": {},
   "outputs": [
    {
     "name": "stdout",
     "output_type": "stream",
     "text": [
      "Requirement already satisfied: yfinance in /Users/taewon/opt/anaconda3/lib/python3.9/site-packages (0.2.12)\n",
      "Requirement already satisfied: requests>=2.26 in /Users/taewon/opt/anaconda3/lib/python3.9/site-packages (from yfinance) (2.28.1)\n",
      "Requirement already satisfied: pytz>=2022.5 in /Users/taewon/opt/anaconda3/lib/python3.9/site-packages (from yfinance) (2022.7.1)\n",
      "Requirement already satisfied: html5lib>=1.1 in /Users/taewon/opt/anaconda3/lib/python3.9/site-packages (from yfinance) (1.1)\n",
      "Requirement already satisfied: pandas>=1.3.0 in /Users/taewon/opt/anaconda3/lib/python3.9/site-packages (from yfinance) (1.4.4)\n",
      "Requirement already satisfied: beautifulsoup4>=4.11.1 in /Users/taewon/opt/anaconda3/lib/python3.9/site-packages (from yfinance) (4.11.1)\n",
      "Requirement already satisfied: numpy>=1.16.5 in /Users/taewon/opt/anaconda3/lib/python3.9/site-packages (from yfinance) (1.21.5)\n",
      "Requirement already satisfied: multitasking>=0.0.7 in /Users/taewon/opt/anaconda3/lib/python3.9/site-packages (from yfinance) (0.0.11)\n",
      "Requirement already satisfied: cryptography>=3.3.2 in /Users/taewon/opt/anaconda3/lib/python3.9/site-packages (from yfinance) (37.0.1)\n",
      "Requirement already satisfied: frozendict>=2.3.4 in /Users/taewon/opt/anaconda3/lib/python3.9/site-packages (from yfinance) (2.3.5)\n",
      "Requirement already satisfied: lxml>=4.9.1 in /Users/taewon/opt/anaconda3/lib/python3.9/site-packages (from yfinance) (4.9.1)\n",
      "Requirement already satisfied: appdirs>=1.4.4 in /Users/taewon/opt/anaconda3/lib/python3.9/site-packages (from yfinance) (1.4.4)\n",
      "Requirement already satisfied: soupsieve>1.2 in /Users/taewon/opt/anaconda3/lib/python3.9/site-packages (from beautifulsoup4>=4.11.1->yfinance) (2.3.1)\n",
      "Requirement already satisfied: cffi>=1.12 in /Users/taewon/opt/anaconda3/lib/python3.9/site-packages (from cryptography>=3.3.2->yfinance) (1.15.1)\n",
      "Requirement already satisfied: six>=1.9 in /Users/taewon/opt/anaconda3/lib/python3.9/site-packages (from html5lib>=1.1->yfinance) (1.16.0)\n",
      "Requirement already satisfied: webencodings in /Users/taewon/opt/anaconda3/lib/python3.9/site-packages (from html5lib>=1.1->yfinance) (0.5.1)\n",
      "Requirement already satisfied: python-dateutil>=2.8.1 in /Users/taewon/opt/anaconda3/lib/python3.9/site-packages (from pandas>=1.3.0->yfinance) (2.8.2)\n",
      "Requirement already satisfied: charset-normalizer<3,>=2 in /Users/taewon/opt/anaconda3/lib/python3.9/site-packages (from requests>=2.26->yfinance) (2.0.4)\n",
      "Requirement already satisfied: urllib3<1.27,>=1.21.1 in /Users/taewon/opt/anaconda3/lib/python3.9/site-packages (from requests>=2.26->yfinance) (1.26.11)\n",
      "Requirement already satisfied: idna<4,>=2.5 in /Users/taewon/opt/anaconda3/lib/python3.9/site-packages (from requests>=2.26->yfinance) (3.3)\n",
      "Requirement already satisfied: certifi>=2017.4.17 in /Users/taewon/opt/anaconda3/lib/python3.9/site-packages (from requests>=2.26->yfinance) (2022.9.24)\n",
      "Requirement already satisfied: pycparser in /Users/taewon/opt/anaconda3/lib/python3.9/site-packages (from cffi>=1.12->cryptography>=3.3.2->yfinance) (2.21)\n",
      "Note: you may need to restart the kernel to use updated packages.\n"
     ]
    }
   ],
   "source": [
    "pip install yfinance"
   ]
  },
  {
   "cell_type": "code",
   "execution_count": 24,
   "id": "025396d5",
   "metadata": {},
   "outputs": [
    {
     "name": "stdout",
     "output_type": "stream",
     "text": [
      "Requirement already satisfied: pandas in /Users/taewon/opt/anaconda3/lib/python3.9/site-packages (1.4.4)\n",
      "Requirement already satisfied: python-dateutil>=2.8.1 in /Users/taewon/opt/anaconda3/lib/python3.9/site-packages (from pandas) (2.8.2)\n",
      "Requirement already satisfied: pytz>=2020.1 in /Users/taewon/opt/anaconda3/lib/python3.9/site-packages (from pandas) (2022.7.1)\n",
      "Requirement already satisfied: numpy>=1.18.5 in /Users/taewon/opt/anaconda3/lib/python3.9/site-packages (from pandas) (1.21.5)\n",
      "Requirement already satisfied: six>=1.5 in /Users/taewon/opt/anaconda3/lib/python3.9/site-packages (from python-dateutil>=2.8.1->pandas) (1.16.0)\n",
      "Note: you may need to restart the kernel to use updated packages.\n"
     ]
    }
   ],
   "source": [
    "pip install pandas"
   ]
  },
  {
   "cell_type": "code",
   "execution_count": 25,
   "id": "738a4b89",
   "metadata": {},
   "outputs": [
    {
     "name": "stdout",
     "output_type": "stream",
     "text": [
      "Requirement already satisfied: numpy in /Users/taewon/opt/anaconda3/lib/python3.9/site-packages (1.21.5)\n",
      "Note: you may need to restart the kernel to use updated packages.\n"
     ]
    }
   ],
   "source": [
    "pip install numpy"
   ]
  },
  {
   "cell_type": "code",
   "execution_count": 26,
   "id": "6a031966",
   "metadata": {},
   "outputs": [
    {
     "name": "stdout",
     "output_type": "stream",
     "text": [
      "ERROR: unknown command \"numpy\"\n",
      "Note: you may need to restart the kernel to use updated packages.\n"
     ]
    }
   ],
   "source": [
    "pip numpy --version"
   ]
  },
  {
   "cell_type": "code",
   "execution_count": 27,
   "id": "1d537e09",
   "metadata": {},
   "outputs": [
    {
     "name": "stdout",
     "output_type": "stream",
     "text": [
      "pip 23.0.1 from /Users/taewon/opt/anaconda3/lib/python3.9/site-packages/pip (python 3.9)\n",
      "Note: you may need to restart the kernel to use updated packages.\n"
     ]
    }
   ],
   "source": [
    "pip --version numpy"
   ]
  },
  {
   "cell_type": "code",
   "execution_count": 28,
   "id": "17318b20",
   "metadata": {},
   "outputs": [
    {
     "name": "stdout",
     "output_type": "stream",
     "text": [
      "pip 23.0.1 from /Users/taewon/opt/anaconda3/lib/python3.9/site-packages/pip (python 3.9)\n",
      "Note: you may need to restart the kernel to use updated packages.\n"
     ]
    }
   ],
   "source": [
    "pip --version pandas"
   ]
  },
  {
   "cell_type": "code",
   "execution_count": 29,
   "id": "d19c61a0",
   "metadata": {},
   "outputs": [
    {
     "ename": "NameError",
     "evalue": "name 'pandas' is not defined",
     "output_type": "error",
     "traceback": [
      "\u001b[0;31m---------------------------------------------------------------------------\u001b[0m",
      "\u001b[0;31mNameError\u001b[0m                                 Traceback (most recent call last)",
      "\u001b[0;32m/var/folders/28/yz261nq91vq_lj47hynw_10r0000gn/T/ipykernel_36389/459589897.py\u001b[0m in \u001b[0;36m<module>\u001b[0;34m\u001b[0m\n\u001b[0;32m----> 1\u001b[0;31m \u001b[0mpandas\u001b[0m \u001b[0;34m-\u001b[0m\u001b[0;34m-\u001b[0m\u001b[0mversion\u001b[0m\u001b[0;34m\u001b[0m\u001b[0;34m\u001b[0m\u001b[0m\n\u001b[0m",
      "\u001b[0;31mNameError\u001b[0m: name 'pandas' is not defined"
     ]
    }
   ],
   "source": [
    "pandas --version"
   ]
  },
  {
   "cell_type": "code",
   "execution_count": 30,
   "id": "fa94d1da",
   "metadata": {},
   "outputs": [
    {
     "data": {
      "text/plain": [
       "'1.4.4'"
      ]
     },
     "execution_count": 30,
     "metadata": {},
     "output_type": "execute_result"
    }
   ],
   "source": [
    "import pandas as pd\n",
    "pd.__version__"
   ]
  },
  {
   "cell_type": "code",
   "execution_count": 31,
   "id": "0870cfaa",
   "metadata": {},
   "outputs": [
    {
     "data": {
      "text/plain": [
       "'0.10.0'"
      ]
     },
     "execution_count": 31,
     "metadata": {},
     "output_type": "execute_result"
    }
   ],
   "source": [
    "import pandas_datareader as pdr\n",
    "pdr.__version__"
   ]
  },
  {
   "cell_type": "code",
   "execution_count": 32,
   "id": "8654ad40",
   "metadata": {},
   "outputs": [
    {
     "data": {
      "text/html": [
       "<div>\n",
       "<style scoped>\n",
       "    .dataframe tbody tr th:only-of-type {\n",
       "        vertical-align: middle;\n",
       "    }\n",
       "\n",
       "    .dataframe tbody tr th {\n",
       "        vertical-align: top;\n",
       "    }\n",
       "\n",
       "    .dataframe thead th {\n",
       "        text-align: right;\n",
       "    }\n",
       "</style>\n",
       "<table border=\"1\" class=\"dataframe\">\n",
       "  <thead>\n",
       "    <tr style=\"text-align: right;\">\n",
       "      <th></th>\n",
       "      <th>Open</th>\n",
       "      <th>High</th>\n",
       "      <th>Low</th>\n",
       "      <th>Close</th>\n",
       "      <th>Adj Close</th>\n",
       "      <th>Volume</th>\n",
       "    </tr>\n",
       "    <tr>\n",
       "      <th>Date</th>\n",
       "      <th></th>\n",
       "      <th></th>\n",
       "      <th></th>\n",
       "      <th></th>\n",
       "      <th></th>\n",
       "      <th></th>\n",
       "    </tr>\n",
       "  </thead>\n",
       "  <tbody>\n",
       "    <tr>\n",
       "      <th>2016-01-01</th>\n",
       "      <td>506092.87500</td>\n",
       "      <td>512567.25000</td>\n",
       "      <td>502287.40625</td>\n",
       "      <td>510103.59375</td>\n",
       "      <td>510103.59375</td>\n",
       "      <td>42607754105</td>\n",
       "    </tr>\n",
       "    <tr>\n",
       "      <th>2016-01-02</th>\n",
       "      <td>510441.81250</td>\n",
       "      <td>512133.03125</td>\n",
       "      <td>507209.71875</td>\n",
       "      <td>509051.25000</td>\n",
       "      <td>509051.25000</td>\n",
       "      <td>35346951870</td>\n",
       "    </tr>\n",
       "    <tr>\n",
       "      <th>2016-01-03</th>\n",
       "      <td>509215.68750</td>\n",
       "      <td>509409.46875</td>\n",
       "      <td>498978.56250</td>\n",
       "      <td>505155.40625</td>\n",
       "      <td>505155.40625</td>\n",
       "      <td>46559806550</td>\n",
       "    </tr>\n",
       "    <tr>\n",
       "      <th>2016-01-04</th>\n",
       "      <td>505214.15625</td>\n",
       "      <td>517275.09375</td>\n",
       "      <td>505932.96875</td>\n",
       "      <td>514646.37500</td>\n",
       "      <td>514646.37500</td>\n",
       "      <td>45723198025</td>\n",
       "    </tr>\n",
       "    <tr>\n",
       "      <th>2016-01-05</th>\n",
       "      <td>514620.21875</td>\n",
       "      <td>514809.59375</td>\n",
       "      <td>510081.25000</td>\n",
       "      <td>513928.71875</td>\n",
       "      <td>513928.71875</td>\n",
       "      <td>41073608576</td>\n",
       "    </tr>\n",
       "  </tbody>\n",
       "</table>\n",
       "</div>"
      ],
      "text/plain": [
       "                    Open          High           Low         Close  \\\n",
       "Date                                                                 \n",
       "2016-01-01  506092.87500  512567.25000  502287.40625  510103.59375   \n",
       "2016-01-02  510441.81250  512133.03125  507209.71875  509051.25000   \n",
       "2016-01-03  509215.68750  509409.46875  498978.56250  505155.40625   \n",
       "2016-01-04  505214.15625  517275.09375  505932.96875  514646.37500   \n",
       "2016-01-05  514620.21875  514809.59375  510081.25000  513928.71875   \n",
       "\n",
       "               Adj Close       Volume  \n",
       "Date                                   \n",
       "2016-01-01  510103.59375  42607754105  \n",
       "2016-01-02  509051.25000  35346951870  \n",
       "2016-01-03  505155.40625  46559806550  \n",
       "2016-01-04  514646.37500  45723198025  \n",
       "2016-01-05  513928.71875  41073608576  "
      ]
     },
     "execution_count": 32,
     "metadata": {},
     "output_type": "execute_result"
    }
   ],
   "source": [
    "#암호화폐가격 비트코인(빗썸)\n",
    "import FinanceDataReader as fdr\n",
    "df = fdr.DataReader('BTC/KRW', \"2016\")\n",
    "df.head()"
   ]
  },
  {
   "cell_type": "code",
   "execution_count": 33,
   "id": "b6d082de",
   "metadata": {},
   "outputs": [
    {
     "data": {
      "text/html": [
       "<div>\n",
       "<style scoped>\n",
       "    .dataframe tbody tr th:only-of-type {\n",
       "        vertical-align: middle;\n",
       "    }\n",
       "\n",
       "    .dataframe tbody tr th {\n",
       "        vertical-align: top;\n",
       "    }\n",
       "\n",
       "    .dataframe thead th {\n",
       "        text-align: right;\n",
       "    }\n",
       "</style>\n",
       "<table border=\"1\" class=\"dataframe\">\n",
       "  <thead>\n",
       "    <tr style=\"text-align: right;\">\n",
       "      <th></th>\n",
       "      <th>Open</th>\n",
       "      <th>High</th>\n",
       "      <th>Low</th>\n",
       "      <th>Close</th>\n",
       "      <th>Adj Close</th>\n",
       "      <th>Volume</th>\n",
       "    </tr>\n",
       "    <tr>\n",
       "      <th>Date</th>\n",
       "      <th></th>\n",
       "      <th></th>\n",
       "      <th></th>\n",
       "      <th></th>\n",
       "      <th></th>\n",
       "      <th></th>\n",
       "    </tr>\n",
       "  </thead>\n",
       "  <tbody>\n",
       "    <tr>\n",
       "      <th>2023-01-01</th>\n",
       "      <td>20881980.0</td>\n",
       "      <td>20983694.0</td>\n",
       "      <td>20848310.0</td>\n",
       "      <td>20976934.0</td>\n",
       "      <td>20976934.0</td>\n",
       "      <td>11664205615481</td>\n",
       "    </tr>\n",
       "    <tr>\n",
       "      <th>2023-01-02</th>\n",
       "      <td>20977476.0</td>\n",
       "      <td>21355044.0</td>\n",
       "      <td>20930146.0</td>\n",
       "      <td>21196110.0</td>\n",
       "      <td>21196110.0</td>\n",
       "      <td>15365444804389</td>\n",
       "    </tr>\n",
       "    <tr>\n",
       "      <th>2023-01-03</th>\n",
       "      <td>21196588.0</td>\n",
       "      <td>21310532.0</td>\n",
       "      <td>21286596.0</td>\n",
       "      <td>21340292.0</td>\n",
       "      <td>21340292.0</td>\n",
       "      <td>17787669052216</td>\n",
       "    </tr>\n",
       "    <tr>\n",
       "      <th>2023-01-04</th>\n",
       "      <td>21340738.0</td>\n",
       "      <td>21612098.0</td>\n",
       "      <td>21267144.0</td>\n",
       "      <td>21440006.0</td>\n",
       "      <td>21440006.0</td>\n",
       "      <td>23421496568532</td>\n",
       "    </tr>\n",
       "    <tr>\n",
       "      <th>2023-01-05</th>\n",
       "      <td>21440302.0</td>\n",
       "      <td>21411704.0</td>\n",
       "      <td>21411510.0</td>\n",
       "      <td>21458506.0</td>\n",
       "      <td>21458506.0</td>\n",
       "      <td>17451489256812</td>\n",
       "    </tr>\n",
       "  </tbody>\n",
       "</table>\n",
       "</div>"
      ],
      "text/plain": [
       "                  Open        High         Low       Close   Adj Close  \\\n",
       "Date                                                                     \n",
       "2023-01-01  20881980.0  20983694.0  20848310.0  20976934.0  20976934.0   \n",
       "2023-01-02  20977476.0  21355044.0  20930146.0  21196110.0  21196110.0   \n",
       "2023-01-03  21196588.0  21310532.0  21286596.0  21340292.0  21340292.0   \n",
       "2023-01-04  21340738.0  21612098.0  21267144.0  21440006.0  21440006.0   \n",
       "2023-01-05  21440302.0  21411704.0  21411510.0  21458506.0  21458506.0   \n",
       "\n",
       "                    Volume  \n",
       "Date                        \n",
       "2023-01-01  11664205615481  \n",
       "2023-01-02  15365444804389  \n",
       "2023-01-03  17787669052216  \n",
       "2023-01-04  23421496568532  \n",
       "2023-01-05  17451489256812  "
      ]
     },
     "execution_count": 33,
     "metadata": {},
     "output_type": "execute_result"
    }
   ],
   "source": [
    "#암호화폐가격 비트코인(빗썸)\n",
    "import FinanceDataReader as fdr\n",
    "df = fdr.DataReader('BTC/KRW', \"2023\")\n",
    "df.head()"
   ]
  },
  {
   "cell_type": "code",
   "execution_count": 34,
   "id": "f2734702",
   "metadata": {},
   "outputs": [],
   "source": [
    "import yfinance as yf"
   ]
  },
  {
   "cell_type": "code",
   "execution_count": 35,
   "id": "e120f455",
   "metadata": {},
   "outputs": [
    {
     "name": "stdout",
     "output_type": "stream",
     "text": [
      "[*********************100%***********************]  1 of 1 completed\n"
     ]
    }
   ],
   "source": [
    "from pandas_datareader import data as pdr\n",
    "import yfinance as yf\n",
    "yf.pdr_override()\n",
    "\n",
    "sec=pdr.get_data_yahoo('005930.KS',start='2022-01-1')"
   ]
  },
  {
   "cell_type": "code",
   "execution_count": 36,
   "id": "00d95add",
   "metadata": {},
   "outputs": [
    {
     "data": {
      "text/html": [
       "<div>\n",
       "<style scoped>\n",
       "    .dataframe tbody tr th:only-of-type {\n",
       "        vertical-align: middle;\n",
       "    }\n",
       "\n",
       "    .dataframe tbody tr th {\n",
       "        vertical-align: top;\n",
       "    }\n",
       "\n",
       "    .dataframe thead th {\n",
       "        text-align: right;\n",
       "    }\n",
       "</style>\n",
       "<table border=\"1\" class=\"dataframe\">\n",
       "  <thead>\n",
       "    <tr style=\"text-align: right;\">\n",
       "      <th></th>\n",
       "      <th>Open</th>\n",
       "      <th>High</th>\n",
       "      <th>Low</th>\n",
       "      <th>Close</th>\n",
       "      <th>Adj Close</th>\n",
       "      <th>Volume</th>\n",
       "    </tr>\n",
       "    <tr>\n",
       "      <th>Date</th>\n",
       "      <th></th>\n",
       "      <th></th>\n",
       "      <th></th>\n",
       "      <th></th>\n",
       "      <th></th>\n",
       "      <th></th>\n",
       "    </tr>\n",
       "  </thead>\n",
       "  <tbody>\n",
       "    <tr>\n",
       "      <th>2022-01-04</th>\n",
       "      <td>78800.0</td>\n",
       "      <td>79200.0</td>\n",
       "      <td>78300.0</td>\n",
       "      <td>78700.0</td>\n",
       "      <td>76808.164062</td>\n",
       "      <td>12427416</td>\n",
       "    </tr>\n",
       "    <tr>\n",
       "      <th>2022-01-05</th>\n",
       "      <td>78800.0</td>\n",
       "      <td>79000.0</td>\n",
       "      <td>76400.0</td>\n",
       "      <td>77400.0</td>\n",
       "      <td>75539.421875</td>\n",
       "      <td>25470640</td>\n",
       "    </tr>\n",
       "    <tr>\n",
       "      <th>2022-01-06</th>\n",
       "      <td>76700.0</td>\n",
       "      <td>77600.0</td>\n",
       "      <td>76600.0</td>\n",
       "      <td>76900.0</td>\n",
       "      <td>75051.445312</td>\n",
       "      <td>12931954</td>\n",
       "    </tr>\n",
       "    <tr>\n",
       "      <th>2022-01-07</th>\n",
       "      <td>78100.0</td>\n",
       "      <td>78400.0</td>\n",
       "      <td>77400.0</td>\n",
       "      <td>78300.0</td>\n",
       "      <td>76417.789062</td>\n",
       "      <td>15163757</td>\n",
       "    </tr>\n",
       "    <tr>\n",
       "      <th>2022-01-10</th>\n",
       "      <td>78100.0</td>\n",
       "      <td>78100.0</td>\n",
       "      <td>77100.0</td>\n",
       "      <td>78000.0</td>\n",
       "      <td>76125.007812</td>\n",
       "      <td>9947422</td>\n",
       "    </tr>\n",
       "  </tbody>\n",
       "</table>\n",
       "</div>"
      ],
      "text/plain": [
       "               Open     High      Low    Close     Adj Close    Volume\n",
       "Date                                                                  \n",
       "2022-01-04  78800.0  79200.0  78300.0  78700.0  76808.164062  12427416\n",
       "2022-01-05  78800.0  79000.0  76400.0  77400.0  75539.421875  25470640\n",
       "2022-01-06  76700.0  77600.0  76600.0  76900.0  75051.445312  12931954\n",
       "2022-01-07  78100.0  78400.0  77400.0  78300.0  76417.789062  15163757\n",
       "2022-01-10  78100.0  78100.0  77100.0  78000.0  76125.007812   9947422"
      ]
     },
     "execution_count": 36,
     "metadata": {},
     "output_type": "execute_result"
    }
   ],
   "source": [
    "sec.head()"
   ]
  },
  {
   "cell_type": "code",
   "execution_count": 37,
   "id": "1e78d99f",
   "metadata": {},
   "outputs": [
    {
     "name": "stdout",
     "output_type": "stream",
     "text": [
      "[*********************100%***********************]  1 of 1 completed\n"
     ]
    }
   ],
   "source": [
    "msft=pdr.get_data_yahoo('MSFT',start='2019-04-11')"
   ]
  },
  {
   "cell_type": "code",
   "execution_count": 38,
   "id": "d56ad6f0",
   "metadata": {},
   "outputs": [
    {
     "name": "stdout",
     "output_type": "stream",
     "text": [
      "yfinance.Ticker object <MSFT>\n"
     ]
    }
   ],
   "source": [
    "import yfinance as yf\n",
    "\n",
    "msft = yf.Ticker(\"MSFT\")\n",
    "print(msft)"
   ]
  },
  {
   "cell_type": "code",
   "execution_count": 39,
   "id": "c17ecd56",
   "metadata": {},
   "outputs": [
    {
     "ename": "Exception",
     "evalue": "yfinance failed to decrypt Yahoo data response",
     "output_type": "error",
     "traceback": [
      "\u001b[0;31m---------------------------------------------------------------------------\u001b[0m",
      "\u001b[0;31mException\u001b[0m                                 Traceback (most recent call last)",
      "\u001b[0;32m/var/folders/28/yz261nq91vq_lj47hynw_10r0000gn/T/ipykernel_36389/1210614392.py\u001b[0m in \u001b[0;36m<module>\u001b[0;34m\u001b[0m\n\u001b[0;32m----> 1\u001b[0;31m \u001b[0mmsft\u001b[0m\u001b[0;34m.\u001b[0m\u001b[0minfo\u001b[0m\u001b[0;34m\u001b[0m\u001b[0;34m\u001b[0m\u001b[0m\n\u001b[0m",
      "\u001b[0;32m~/opt/anaconda3/lib/python3.9/site-packages/yfinance/ticker.py\u001b[0m in \u001b[0;36minfo\u001b[0;34m(self)\u001b[0m\n\u001b[1;32m    136\u001b[0m     \u001b[0;34m@\u001b[0m\u001b[0mproperty\u001b[0m\u001b[0;34m\u001b[0m\u001b[0;34m\u001b[0m\u001b[0m\n\u001b[1;32m    137\u001b[0m     \u001b[0;32mdef\u001b[0m \u001b[0minfo\u001b[0m\u001b[0;34m(\u001b[0m\u001b[0mself\u001b[0m\u001b[0;34m)\u001b[0m \u001b[0;34m->\u001b[0m \u001b[0mdict\u001b[0m\u001b[0;34m:\u001b[0m\u001b[0;34m\u001b[0m\u001b[0;34m\u001b[0m\u001b[0m\n\u001b[0;32m--> 138\u001b[0;31m         \u001b[0;32mreturn\u001b[0m \u001b[0mself\u001b[0m\u001b[0;34m.\u001b[0m\u001b[0mget_info\u001b[0m\u001b[0;34m(\u001b[0m\u001b[0;34m)\u001b[0m\u001b[0;34m\u001b[0m\u001b[0;34m\u001b[0m\u001b[0m\n\u001b[0m\u001b[1;32m    139\u001b[0m \u001b[0;34m\u001b[0m\u001b[0m\n\u001b[1;32m    140\u001b[0m     \u001b[0;34m@\u001b[0m\u001b[0mproperty\u001b[0m\u001b[0;34m\u001b[0m\u001b[0;34m\u001b[0m\u001b[0m\n",
      "\u001b[0;32m~/opt/anaconda3/lib/python3.9/site-packages/yfinance/base.py\u001b[0m in \u001b[0;36mget_info\u001b[0;34m(self, proxy)\u001b[0m\n\u001b[1;32m   1473\u001b[0m     \u001b[0;32mdef\u001b[0m \u001b[0mget_info\u001b[0m\u001b[0;34m(\u001b[0m\u001b[0mself\u001b[0m\u001b[0;34m,\u001b[0m \u001b[0mproxy\u001b[0m\u001b[0;34m=\u001b[0m\u001b[0;32mNone\u001b[0m\u001b[0;34m)\u001b[0m \u001b[0;34m->\u001b[0m \u001b[0mdict\u001b[0m\u001b[0;34m:\u001b[0m\u001b[0;34m\u001b[0m\u001b[0;34m\u001b[0m\u001b[0m\n\u001b[1;32m   1474\u001b[0m         \u001b[0mself\u001b[0m\u001b[0;34m.\u001b[0m\u001b[0m_quote\u001b[0m\u001b[0;34m.\u001b[0m\u001b[0mproxy\u001b[0m \u001b[0;34m=\u001b[0m \u001b[0mproxy\u001b[0m\u001b[0;34m\u001b[0m\u001b[0;34m\u001b[0m\u001b[0m\n\u001b[0;32m-> 1475\u001b[0;31m         \u001b[0mdata\u001b[0m \u001b[0;34m=\u001b[0m \u001b[0mself\u001b[0m\u001b[0;34m.\u001b[0m\u001b[0m_quote\u001b[0m\u001b[0;34m.\u001b[0m\u001b[0minfo\u001b[0m\u001b[0;34m\u001b[0m\u001b[0;34m\u001b[0m\u001b[0m\n\u001b[0m\u001b[1;32m   1476\u001b[0m         \u001b[0;32mreturn\u001b[0m \u001b[0mdata\u001b[0m\u001b[0;34m\u001b[0m\u001b[0;34m\u001b[0m\u001b[0m\n\u001b[1;32m   1477\u001b[0m \u001b[0;34m\u001b[0m\u001b[0m\n",
      "\u001b[0;32m~/opt/anaconda3/lib/python3.9/site-packages/yfinance/scrapers/quote.py\u001b[0m in \u001b[0;36minfo\u001b[0;34m(self)\u001b[0m\n\u001b[1;32m     93\u001b[0m     \u001b[0;32mdef\u001b[0m \u001b[0minfo\u001b[0m\u001b[0;34m(\u001b[0m\u001b[0mself\u001b[0m\u001b[0;34m)\u001b[0m \u001b[0;34m->\u001b[0m \u001b[0mdict\u001b[0m\u001b[0;34m:\u001b[0m\u001b[0;34m\u001b[0m\u001b[0;34m\u001b[0m\u001b[0m\n\u001b[1;32m     94\u001b[0m         \u001b[0;32mif\u001b[0m \u001b[0mself\u001b[0m\u001b[0;34m.\u001b[0m\u001b[0m_info\u001b[0m \u001b[0;32mis\u001b[0m \u001b[0;32mNone\u001b[0m\u001b[0;34m:\u001b[0m\u001b[0;34m\u001b[0m\u001b[0;34m\u001b[0m\u001b[0m\n\u001b[0;32m---> 95\u001b[0;31m             \u001b[0mself\u001b[0m\u001b[0;34m.\u001b[0m\u001b[0m_scrape\u001b[0m\u001b[0;34m(\u001b[0m\u001b[0mself\u001b[0m\u001b[0;34m.\u001b[0m\u001b[0mproxy\u001b[0m\u001b[0;34m)\u001b[0m\u001b[0;34m\u001b[0m\u001b[0;34m\u001b[0m\u001b[0m\n\u001b[0m\u001b[1;32m     96\u001b[0m             \u001b[0mself\u001b[0m\u001b[0;34m.\u001b[0m\u001b[0m_scrape_complementary\u001b[0m\u001b[0;34m(\u001b[0m\u001b[0mself\u001b[0m\u001b[0;34m.\u001b[0m\u001b[0mproxy\u001b[0m\u001b[0;34m)\u001b[0m\u001b[0;34m\u001b[0m\u001b[0;34m\u001b[0m\u001b[0m\n\u001b[1;32m     97\u001b[0m \u001b[0;34m\u001b[0m\u001b[0m\n",
      "\u001b[0;32m~/opt/anaconda3/lib/python3.9/site-packages/yfinance/scrapers/quote.py\u001b[0m in \u001b[0;36m_scrape\u001b[0;34m(self, proxy)\u001b[0m\n\u001b[1;32m    122\u001b[0m \u001b[0;34m\u001b[0m\u001b[0m\n\u001b[1;32m    123\u001b[0m         \u001b[0;31m# get info and sustainability\u001b[0m\u001b[0;34m\u001b[0m\u001b[0;34m\u001b[0m\u001b[0m\n\u001b[0;32m--> 124\u001b[0;31m         \u001b[0mjson_data\u001b[0m \u001b[0;34m=\u001b[0m \u001b[0mself\u001b[0m\u001b[0;34m.\u001b[0m\u001b[0m_data\u001b[0m\u001b[0;34m.\u001b[0m\u001b[0mget_json_data_stores\u001b[0m\u001b[0;34m(\u001b[0m\u001b[0mproxy\u001b[0m\u001b[0;34m=\u001b[0m\u001b[0mproxy\u001b[0m\u001b[0;34m)\u001b[0m\u001b[0;34m\u001b[0m\u001b[0;34m\u001b[0m\u001b[0m\n\u001b[0m\u001b[1;32m    125\u001b[0m         \u001b[0;32mtry\u001b[0m\u001b[0;34m:\u001b[0m\u001b[0;34m\u001b[0m\u001b[0;34m\u001b[0m\u001b[0m\n\u001b[1;32m    126\u001b[0m             \u001b[0mquote_summary_store\u001b[0m \u001b[0;34m=\u001b[0m \u001b[0mjson_data\u001b[0m\u001b[0;34m[\u001b[0m\u001b[0;34m'QuoteSummaryStore'\u001b[0m\u001b[0;34m]\u001b[0m\u001b[0;34m\u001b[0m\u001b[0;34m\u001b[0m\u001b[0m\n",
      "\u001b[0;32m~/opt/anaconda3/lib/python3.9/site-packages/yfinance/data.py\u001b[0m in \u001b[0;36mwrapped\u001b[0;34m(*args, **kwargs)\u001b[0m\n\u001b[1;32m     39\u001b[0m         \u001b[0margs\u001b[0m \u001b[0;34m=\u001b[0m \u001b[0mtuple\u001b[0m\u001b[0;34m(\u001b[0m\u001b[0;34m[\u001b[0m\u001b[0mtuple\u001b[0m\u001b[0;34m(\u001b[0m\u001b[0marg\u001b[0m\u001b[0;34m)\u001b[0m \u001b[0;32mif\u001b[0m \u001b[0misinstance\u001b[0m\u001b[0;34m(\u001b[0m\u001b[0marg\u001b[0m\u001b[0;34m,\u001b[0m \u001b[0mlist\u001b[0m\u001b[0;34m)\u001b[0m \u001b[0;32melse\u001b[0m \u001b[0marg\u001b[0m \u001b[0;32mfor\u001b[0m \u001b[0marg\u001b[0m \u001b[0;32min\u001b[0m \u001b[0margs\u001b[0m\u001b[0;34m]\u001b[0m\u001b[0;34m)\u001b[0m\u001b[0;34m\u001b[0m\u001b[0;34m\u001b[0m\u001b[0m\n\u001b[1;32m     40\u001b[0m         \u001b[0mkwargs\u001b[0m \u001b[0;34m=\u001b[0m \u001b[0;34m{\u001b[0m\u001b[0mk\u001b[0m\u001b[0;34m:\u001b[0m \u001b[0mtuple\u001b[0m\u001b[0;34m(\u001b[0m\u001b[0mv\u001b[0m\u001b[0;34m)\u001b[0m \u001b[0;32mif\u001b[0m \u001b[0misinstance\u001b[0m\u001b[0;34m(\u001b[0m\u001b[0mv\u001b[0m\u001b[0;34m,\u001b[0m \u001b[0mlist\u001b[0m\u001b[0;34m)\u001b[0m \u001b[0;32melse\u001b[0m \u001b[0mv\u001b[0m \u001b[0;32mfor\u001b[0m \u001b[0mk\u001b[0m\u001b[0;34m,\u001b[0m \u001b[0mv\u001b[0m \u001b[0;32min\u001b[0m \u001b[0mkwargs\u001b[0m\u001b[0;34m.\u001b[0m\u001b[0mitems\u001b[0m\u001b[0;34m(\u001b[0m\u001b[0;34m)\u001b[0m\u001b[0;34m}\u001b[0m\u001b[0;34m\u001b[0m\u001b[0;34m\u001b[0m\u001b[0m\n\u001b[0;32m---> 41\u001b[0;31m         \u001b[0;32mreturn\u001b[0m \u001b[0mfunc\u001b[0m\u001b[0;34m(\u001b[0m\u001b[0;34m*\u001b[0m\u001b[0margs\u001b[0m\u001b[0;34m,\u001b[0m \u001b[0;34m**\u001b[0m\u001b[0mkwargs\u001b[0m\u001b[0;34m)\u001b[0m\u001b[0;34m\u001b[0m\u001b[0;34m\u001b[0m\u001b[0m\n\u001b[0m\u001b[1;32m     42\u001b[0m \u001b[0;34m\u001b[0m\u001b[0m\n\u001b[1;32m     43\u001b[0m     \u001b[0;31m# copy over the lru_cache extra methods to this wrapper to be able to access them\u001b[0m\u001b[0;34m\u001b[0m\u001b[0;34m\u001b[0m\u001b[0m\n",
      "\u001b[0;32m~/opt/anaconda3/lib/python3.9/site-packages/yfinance/data.py\u001b[0m in \u001b[0;36mget_json_data_stores\u001b[0;34m(self, sub_page, proxy)\u001b[0m\n\u001b[1;32m    309\u001b[0m \u001b[0;34m\u001b[0m\u001b[0m\n\u001b[1;32m    310\u001b[0m         \u001b[0;31m# Decrypt!\u001b[0m\u001b[0;34m\u001b[0m\u001b[0;34m\u001b[0m\u001b[0m\n\u001b[0;32m--> 311\u001b[0;31m         \u001b[0mstores\u001b[0m \u001b[0;34m=\u001b[0m \u001b[0mdecrypt_cryptojs_aes_stores\u001b[0m\u001b[0;34m(\u001b[0m\u001b[0mdata\u001b[0m\u001b[0;34m,\u001b[0m \u001b[0mkeys\u001b[0m\u001b[0;34m)\u001b[0m\u001b[0;34m\u001b[0m\u001b[0;34m\u001b[0m\u001b[0m\n\u001b[0m\u001b[1;32m    312\u001b[0m         \u001b[0;32mif\u001b[0m \u001b[0mstores\u001b[0m \u001b[0;32mis\u001b[0m \u001b[0;32mNone\u001b[0m\u001b[0;34m:\u001b[0m\u001b[0;34m\u001b[0m\u001b[0;34m\u001b[0m\u001b[0m\n\u001b[1;32m    313\u001b[0m             \u001b[0;31m# Maybe Yahoo returned old format, not encrypted\u001b[0m\u001b[0;34m\u001b[0m\u001b[0;34m\u001b[0m\u001b[0m\n",
      "\u001b[0;32m~/opt/anaconda3/lib/python3.9/site-packages/yfinance/data.py\u001b[0m in \u001b[0;36mdecrypt_cryptojs_aes_stores\u001b[0;34m(data, keys)\u001b[0m\n\u001b[1;32m    160\u001b[0m                 \u001b[0;32mpass\u001b[0m\u001b[0;34m\u001b[0m\u001b[0;34m\u001b[0m\u001b[0m\n\u001b[1;32m    161\u001b[0m         \u001b[0;32mif\u001b[0m \u001b[0;32mnot\u001b[0m \u001b[0msuccess\u001b[0m\u001b[0;34m:\u001b[0m\u001b[0;34m\u001b[0m\u001b[0;34m\u001b[0m\u001b[0m\n\u001b[0;32m--> 162\u001b[0;31m             \u001b[0;32mraise\u001b[0m \u001b[0mException\u001b[0m\u001b[0;34m(\u001b[0m\u001b[0;34m\"yfinance failed to decrypt Yahoo data response\"\u001b[0m\u001b[0;34m)\u001b[0m\u001b[0;34m\u001b[0m\u001b[0;34m\u001b[0m\u001b[0m\n\u001b[0m\u001b[1;32m    163\u001b[0m \u001b[0;34m\u001b[0m\u001b[0m\n\u001b[1;32m    164\u001b[0m     \u001b[0mdecoded_stores\u001b[0m \u001b[0;34m=\u001b[0m \u001b[0mjson\u001b[0m\u001b[0;34m.\u001b[0m\u001b[0mloads\u001b[0m\u001b[0;34m(\u001b[0m\u001b[0mplaintext\u001b[0m\u001b[0;34m)\u001b[0m\u001b[0;34m\u001b[0m\u001b[0;34m\u001b[0m\u001b[0m\n",
      "\u001b[0;31mException\u001b[0m: yfinance failed to decrypt Yahoo data response"
     ]
    }
   ],
   "source": [
    "msft.info"
   ]
  },
  {
   "cell_type": "code",
   "execution_count": 40,
   "id": "e8e1072d",
   "metadata": {},
   "outputs": [
    {
     "ename": "AttributeError",
     "evalue": "'Ticker' object has no attribute 'head'",
     "output_type": "error",
     "traceback": [
      "\u001b[0;31m---------------------------------------------------------------------------\u001b[0m",
      "\u001b[0;31mAttributeError\u001b[0m                            Traceback (most recent call last)",
      "\u001b[0;32m/var/folders/28/yz261nq91vq_lj47hynw_10r0000gn/T/ipykernel_36389/2029367924.py\u001b[0m in \u001b[0;36m<module>\u001b[0;34m\u001b[0m\n\u001b[0;32m----> 1\u001b[0;31m \u001b[0mmsft\u001b[0m\u001b[0;34m.\u001b[0m\u001b[0mhead\u001b[0m\u001b[0;34m(\u001b[0m\u001b[0;34m)\u001b[0m\u001b[0;34m\u001b[0m\u001b[0;34m\u001b[0m\u001b[0m\n\u001b[0m",
      "\u001b[0;31mAttributeError\u001b[0m: 'Ticker' object has no attribute 'head'"
     ]
    }
   ],
   "source": [
    "msft.head()"
   ]
  },
  {
   "cell_type": "code",
   "execution_count": 41,
   "id": "8ae5ed4b",
   "metadata": {},
   "outputs": [
    {
     "data": {
      "text/html": [
       "<div>\n",
       "<style scoped>\n",
       "    .dataframe tbody tr th:only-of-type {\n",
       "        vertical-align: middle;\n",
       "    }\n",
       "\n",
       "    .dataframe tbody tr th {\n",
       "        vertical-align: top;\n",
       "    }\n",
       "\n",
       "    .dataframe thead th {\n",
       "        text-align: right;\n",
       "    }\n",
       "</style>\n",
       "<table border=\"1\" class=\"dataframe\">\n",
       "  <thead>\n",
       "    <tr style=\"text-align: right;\">\n",
       "      <th></th>\n",
       "      <th>Open</th>\n",
       "      <th>High</th>\n",
       "      <th>Low</th>\n",
       "      <th>Close</th>\n",
       "      <th>Volume</th>\n",
       "      <th>Dividends</th>\n",
       "      <th>Stock Splits</th>\n",
       "    </tr>\n",
       "    <tr>\n",
       "      <th>Date</th>\n",
       "      <th></th>\n",
       "      <th></th>\n",
       "      <th></th>\n",
       "      <th></th>\n",
       "      <th></th>\n",
       "      <th></th>\n",
       "      <th></th>\n",
       "    </tr>\n",
       "  </thead>\n",
       "  <tbody>\n",
       "    <tr>\n",
       "      <th>1986-03-13 00:00:00-05:00</th>\n",
       "      <td>0.055241</td>\n",
       "      <td>0.063365</td>\n",
       "      <td>0.055241</td>\n",
       "      <td>0.060657</td>\n",
       "      <td>1031788800</td>\n",
       "      <td>0.0</td>\n",
       "      <td>0.0</td>\n",
       "    </tr>\n",
       "    <tr>\n",
       "      <th>1986-03-14 00:00:00-05:00</th>\n",
       "      <td>0.060657</td>\n",
       "      <td>0.063907</td>\n",
       "      <td>0.060657</td>\n",
       "      <td>0.062823</td>\n",
       "      <td>308160000</td>\n",
       "      <td>0.0</td>\n",
       "      <td>0.0</td>\n",
       "    </tr>\n",
       "    <tr>\n",
       "      <th>1986-03-17 00:00:00-05:00</th>\n",
       "      <td>0.062823</td>\n",
       "      <td>0.064448</td>\n",
       "      <td>0.062823</td>\n",
       "      <td>0.063907</td>\n",
       "      <td>133171200</td>\n",
       "      <td>0.0</td>\n",
       "      <td>0.0</td>\n",
       "    </tr>\n",
       "    <tr>\n",
       "      <th>1986-03-18 00:00:00-05:00</th>\n",
       "      <td>0.063907</td>\n",
       "      <td>0.064448</td>\n",
       "      <td>0.061740</td>\n",
       "      <td>0.062281</td>\n",
       "      <td>67766400</td>\n",
       "      <td>0.0</td>\n",
       "      <td>0.0</td>\n",
       "    </tr>\n",
       "    <tr>\n",
       "      <th>1986-03-19 00:00:00-05:00</th>\n",
       "      <td>0.062281</td>\n",
       "      <td>0.062823</td>\n",
       "      <td>0.060657</td>\n",
       "      <td>0.061198</td>\n",
       "      <td>47894400</td>\n",
       "      <td>0.0</td>\n",
       "      <td>0.0</td>\n",
       "    </tr>\n",
       "    <tr>\n",
       "      <th>...</th>\n",
       "      <td>...</td>\n",
       "      <td>...</td>\n",
       "      <td>...</td>\n",
       "      <td>...</td>\n",
       "      <td>...</td>\n",
       "      <td>...</td>\n",
       "      <td>...</td>\n",
       "    </tr>\n",
       "    <tr>\n",
       "      <th>2023-03-13 00:00:00-04:00</th>\n",
       "      <td>247.399994</td>\n",
       "      <td>257.910004</td>\n",
       "      <td>245.729996</td>\n",
       "      <td>253.919998</td>\n",
       "      <td>33339700</td>\n",
       "      <td>0.0</td>\n",
       "      <td>0.0</td>\n",
       "    </tr>\n",
       "    <tr>\n",
       "      <th>2023-03-14 00:00:00-04:00</th>\n",
       "      <td>256.750000</td>\n",
       "      <td>261.070007</td>\n",
       "      <td>255.860001</td>\n",
       "      <td>260.790009</td>\n",
       "      <td>33620300</td>\n",
       "      <td>0.0</td>\n",
       "      <td>0.0</td>\n",
       "    </tr>\n",
       "    <tr>\n",
       "      <th>2023-03-15 00:00:00-04:00</th>\n",
       "      <td>259.980011</td>\n",
       "      <td>266.480011</td>\n",
       "      <td>259.209991</td>\n",
       "      <td>265.440002</td>\n",
       "      <td>46028000</td>\n",
       "      <td>0.0</td>\n",
       "      <td>0.0</td>\n",
       "    </tr>\n",
       "    <tr>\n",
       "      <th>2023-03-16 00:00:00-04:00</th>\n",
       "      <td>265.209991</td>\n",
       "      <td>276.559998</td>\n",
       "      <td>263.279999</td>\n",
       "      <td>276.200012</td>\n",
       "      <td>54768800</td>\n",
       "      <td>0.0</td>\n",
       "      <td>0.0</td>\n",
       "    </tr>\n",
       "    <tr>\n",
       "      <th>2023-03-17 00:00:00-04:00</th>\n",
       "      <td>278.260010</td>\n",
       "      <td>283.329987</td>\n",
       "      <td>276.320007</td>\n",
       "      <td>279.429993</td>\n",
       "      <td>69492200</td>\n",
       "      <td>0.0</td>\n",
       "      <td>0.0</td>\n",
       "    </tr>\n",
       "  </tbody>\n",
       "</table>\n",
       "<p>9329 rows × 7 columns</p>\n",
       "</div>"
      ],
      "text/plain": [
       "                                 Open        High         Low       Close  \\\n",
       "Date                                                                        \n",
       "1986-03-13 00:00:00-05:00    0.055241    0.063365    0.055241    0.060657   \n",
       "1986-03-14 00:00:00-05:00    0.060657    0.063907    0.060657    0.062823   \n",
       "1986-03-17 00:00:00-05:00    0.062823    0.064448    0.062823    0.063907   \n",
       "1986-03-18 00:00:00-05:00    0.063907    0.064448    0.061740    0.062281   \n",
       "1986-03-19 00:00:00-05:00    0.062281    0.062823    0.060657    0.061198   \n",
       "...                               ...         ...         ...         ...   \n",
       "2023-03-13 00:00:00-04:00  247.399994  257.910004  245.729996  253.919998   \n",
       "2023-03-14 00:00:00-04:00  256.750000  261.070007  255.860001  260.790009   \n",
       "2023-03-15 00:00:00-04:00  259.980011  266.480011  259.209991  265.440002   \n",
       "2023-03-16 00:00:00-04:00  265.209991  276.559998  263.279999  276.200012   \n",
       "2023-03-17 00:00:00-04:00  278.260010  283.329987  276.320007  279.429993   \n",
       "\n",
       "                               Volume  Dividends  Stock Splits  \n",
       "Date                                                            \n",
       "1986-03-13 00:00:00-05:00  1031788800        0.0           0.0  \n",
       "1986-03-14 00:00:00-05:00   308160000        0.0           0.0  \n",
       "1986-03-17 00:00:00-05:00   133171200        0.0           0.0  \n",
       "1986-03-18 00:00:00-05:00    67766400        0.0           0.0  \n",
       "1986-03-19 00:00:00-05:00    47894400        0.0           0.0  \n",
       "...                               ...        ...           ...  \n",
       "2023-03-13 00:00:00-04:00    33339700        0.0           0.0  \n",
       "2023-03-14 00:00:00-04:00    33620300        0.0           0.0  \n",
       "2023-03-15 00:00:00-04:00    46028000        0.0           0.0  \n",
       "2023-03-16 00:00:00-04:00    54768800        0.0           0.0  \n",
       "2023-03-17 00:00:00-04:00    69492200        0.0           0.0  \n",
       "\n",
       "[9329 rows x 7 columns]"
      ]
     },
     "execution_count": 41,
     "metadata": {},
     "output_type": "execute_result"
    }
   ],
   "source": [
    "msft.history(period=\"max\")"
   ]
  },
  {
   "cell_type": "code",
   "execution_count": 42,
   "id": "22a822aa",
   "metadata": {},
   "outputs": [
    {
     "data": {
      "text/html": [
       "<div>\n",
       "<style scoped>\n",
       "    .dataframe tbody tr th:only-of-type {\n",
       "        vertical-align: middle;\n",
       "    }\n",
       "\n",
       "    .dataframe tbody tr th {\n",
       "        vertical-align: top;\n",
       "    }\n",
       "\n",
       "    .dataframe thead th {\n",
       "        text-align: right;\n",
       "    }\n",
       "</style>\n",
       "<table border=\"1\" class=\"dataframe\">\n",
       "  <thead>\n",
       "    <tr style=\"text-align: right;\">\n",
       "      <th></th>\n",
       "      <th>Open</th>\n",
       "      <th>High</th>\n",
       "      <th>Low</th>\n",
       "      <th>Close</th>\n",
       "      <th>Volume</th>\n",
       "      <th>Dividends</th>\n",
       "      <th>Stock Splits</th>\n",
       "    </tr>\n",
       "    <tr>\n",
       "      <th>Date</th>\n",
       "      <th></th>\n",
       "      <th></th>\n",
       "      <th></th>\n",
       "      <th></th>\n",
       "      <th></th>\n",
       "      <th></th>\n",
       "      <th></th>\n",
       "    </tr>\n",
       "  </thead>\n",
       "  <tbody>\n",
       "    <tr>\n",
       "      <th>2023-02-21 00:00:00-05:00</th>\n",
       "      <td>254.479996</td>\n",
       "      <td>255.490005</td>\n",
       "      <td>251.589996</td>\n",
       "      <td>252.669998</td>\n",
       "      <td>28397400</td>\n",
       "      <td>0.0</td>\n",
       "      <td>0.0</td>\n",
       "    </tr>\n",
       "    <tr>\n",
       "      <th>2023-02-22 00:00:00-05:00</th>\n",
       "      <td>254.089996</td>\n",
       "      <td>254.339996</td>\n",
       "      <td>250.339996</td>\n",
       "      <td>251.509995</td>\n",
       "      <td>22491100</td>\n",
       "      <td>0.0</td>\n",
       "      <td>0.0</td>\n",
       "    </tr>\n",
       "    <tr>\n",
       "      <th>2023-02-23 00:00:00-05:00</th>\n",
       "      <td>255.559998</td>\n",
       "      <td>256.839996</td>\n",
       "      <td>250.479996</td>\n",
       "      <td>254.770004</td>\n",
       "      <td>29219100</td>\n",
       "      <td>0.0</td>\n",
       "      <td>0.0</td>\n",
       "    </tr>\n",
       "    <tr>\n",
       "      <th>2023-02-24 00:00:00-05:00</th>\n",
       "      <td>249.960007</td>\n",
       "      <td>251.000000</td>\n",
       "      <td>248.100006</td>\n",
       "      <td>249.220001</td>\n",
       "      <td>24990900</td>\n",
       "      <td>0.0</td>\n",
       "      <td>0.0</td>\n",
       "    </tr>\n",
       "    <tr>\n",
       "      <th>2023-02-27 00:00:00-05:00</th>\n",
       "      <td>252.460007</td>\n",
       "      <td>252.820007</td>\n",
       "      <td>249.389999</td>\n",
       "      <td>250.160004</td>\n",
       "      <td>21190000</td>\n",
       "      <td>0.0</td>\n",
       "      <td>0.0</td>\n",
       "    </tr>\n",
       "    <tr>\n",
       "      <th>2023-02-28 00:00:00-05:00</th>\n",
       "      <td>249.070007</td>\n",
       "      <td>251.490005</td>\n",
       "      <td>248.729996</td>\n",
       "      <td>249.419998</td>\n",
       "      <td>22491000</td>\n",
       "      <td>0.0</td>\n",
       "      <td>0.0</td>\n",
       "    </tr>\n",
       "    <tr>\n",
       "      <th>2023-03-01 00:00:00-05:00</th>\n",
       "      <td>250.759995</td>\n",
       "      <td>250.929993</td>\n",
       "      <td>245.789993</td>\n",
       "      <td>246.270004</td>\n",
       "      <td>27565300</td>\n",
       "      <td>0.0</td>\n",
       "      <td>0.0</td>\n",
       "    </tr>\n",
       "    <tr>\n",
       "      <th>2023-03-02 00:00:00-05:00</th>\n",
       "      <td>246.550003</td>\n",
       "      <td>251.399994</td>\n",
       "      <td>245.610001</td>\n",
       "      <td>251.110001</td>\n",
       "      <td>24808200</td>\n",
       "      <td>0.0</td>\n",
       "      <td>0.0</td>\n",
       "    </tr>\n",
       "    <tr>\n",
       "      <th>2023-03-03 00:00:00-05:00</th>\n",
       "      <td>252.190002</td>\n",
       "      <td>255.619995</td>\n",
       "      <td>251.389999</td>\n",
       "      <td>255.289993</td>\n",
       "      <td>30741300</td>\n",
       "      <td>0.0</td>\n",
       "      <td>0.0</td>\n",
       "    </tr>\n",
       "    <tr>\n",
       "      <th>2023-03-06 00:00:00-05:00</th>\n",
       "      <td>256.429993</td>\n",
       "      <td>260.119995</td>\n",
       "      <td>255.979996</td>\n",
       "      <td>256.869995</td>\n",
       "      <td>24109800</td>\n",
       "      <td>0.0</td>\n",
       "      <td>0.0</td>\n",
       "    </tr>\n",
       "    <tr>\n",
       "      <th>2023-03-07 00:00:00-05:00</th>\n",
       "      <td>256.299988</td>\n",
       "      <td>257.690002</td>\n",
       "      <td>253.389999</td>\n",
       "      <td>254.149994</td>\n",
       "      <td>21473200</td>\n",
       "      <td>0.0</td>\n",
       "      <td>0.0</td>\n",
       "    </tr>\n",
       "    <tr>\n",
       "      <th>2023-03-08 00:00:00-05:00</th>\n",
       "      <td>254.039993</td>\n",
       "      <td>254.539993</td>\n",
       "      <td>250.809998</td>\n",
       "      <td>253.699997</td>\n",
       "      <td>17340200</td>\n",
       "      <td>0.0</td>\n",
       "      <td>0.0</td>\n",
       "    </tr>\n",
       "    <tr>\n",
       "      <th>2023-03-09 00:00:00-05:00</th>\n",
       "      <td>255.820007</td>\n",
       "      <td>259.559998</td>\n",
       "      <td>251.580002</td>\n",
       "      <td>252.320007</td>\n",
       "      <td>26653400</td>\n",
       "      <td>0.0</td>\n",
       "      <td>0.0</td>\n",
       "    </tr>\n",
       "    <tr>\n",
       "      <th>2023-03-10 00:00:00-05:00</th>\n",
       "      <td>251.080002</td>\n",
       "      <td>252.789993</td>\n",
       "      <td>247.600006</td>\n",
       "      <td>248.589996</td>\n",
       "      <td>28321800</td>\n",
       "      <td>0.0</td>\n",
       "      <td>0.0</td>\n",
       "    </tr>\n",
       "    <tr>\n",
       "      <th>2023-03-13 00:00:00-04:00</th>\n",
       "      <td>247.399994</td>\n",
       "      <td>257.910004</td>\n",
       "      <td>245.729996</td>\n",
       "      <td>253.919998</td>\n",
       "      <td>33339700</td>\n",
       "      <td>0.0</td>\n",
       "      <td>0.0</td>\n",
       "    </tr>\n",
       "    <tr>\n",
       "      <th>2023-03-14 00:00:00-04:00</th>\n",
       "      <td>256.750000</td>\n",
       "      <td>261.070007</td>\n",
       "      <td>255.860001</td>\n",
       "      <td>260.790009</td>\n",
       "      <td>33620300</td>\n",
       "      <td>0.0</td>\n",
       "      <td>0.0</td>\n",
       "    </tr>\n",
       "    <tr>\n",
       "      <th>2023-03-15 00:00:00-04:00</th>\n",
       "      <td>259.980011</td>\n",
       "      <td>266.480011</td>\n",
       "      <td>259.209991</td>\n",
       "      <td>265.440002</td>\n",
       "      <td>46028000</td>\n",
       "      <td>0.0</td>\n",
       "      <td>0.0</td>\n",
       "    </tr>\n",
       "    <tr>\n",
       "      <th>2023-03-16 00:00:00-04:00</th>\n",
       "      <td>265.209991</td>\n",
       "      <td>276.559998</td>\n",
       "      <td>263.279999</td>\n",
       "      <td>276.200012</td>\n",
       "      <td>54768800</td>\n",
       "      <td>0.0</td>\n",
       "      <td>0.0</td>\n",
       "    </tr>\n",
       "    <tr>\n",
       "      <th>2023-03-17 00:00:00-04:00</th>\n",
       "      <td>278.260010</td>\n",
       "      <td>283.329987</td>\n",
       "      <td>276.320007</td>\n",
       "      <td>279.429993</td>\n",
       "      <td>69492200</td>\n",
       "      <td>0.0</td>\n",
       "      <td>0.0</td>\n",
       "    </tr>\n",
       "  </tbody>\n",
       "</table>\n",
       "</div>"
      ],
      "text/plain": [
       "                                 Open        High         Low       Close  \\\n",
       "Date                                                                        \n",
       "2023-02-21 00:00:00-05:00  254.479996  255.490005  251.589996  252.669998   \n",
       "2023-02-22 00:00:00-05:00  254.089996  254.339996  250.339996  251.509995   \n",
       "2023-02-23 00:00:00-05:00  255.559998  256.839996  250.479996  254.770004   \n",
       "2023-02-24 00:00:00-05:00  249.960007  251.000000  248.100006  249.220001   \n",
       "2023-02-27 00:00:00-05:00  252.460007  252.820007  249.389999  250.160004   \n",
       "2023-02-28 00:00:00-05:00  249.070007  251.490005  248.729996  249.419998   \n",
       "2023-03-01 00:00:00-05:00  250.759995  250.929993  245.789993  246.270004   \n",
       "2023-03-02 00:00:00-05:00  246.550003  251.399994  245.610001  251.110001   \n",
       "2023-03-03 00:00:00-05:00  252.190002  255.619995  251.389999  255.289993   \n",
       "2023-03-06 00:00:00-05:00  256.429993  260.119995  255.979996  256.869995   \n",
       "2023-03-07 00:00:00-05:00  256.299988  257.690002  253.389999  254.149994   \n",
       "2023-03-08 00:00:00-05:00  254.039993  254.539993  250.809998  253.699997   \n",
       "2023-03-09 00:00:00-05:00  255.820007  259.559998  251.580002  252.320007   \n",
       "2023-03-10 00:00:00-05:00  251.080002  252.789993  247.600006  248.589996   \n",
       "2023-03-13 00:00:00-04:00  247.399994  257.910004  245.729996  253.919998   \n",
       "2023-03-14 00:00:00-04:00  256.750000  261.070007  255.860001  260.790009   \n",
       "2023-03-15 00:00:00-04:00  259.980011  266.480011  259.209991  265.440002   \n",
       "2023-03-16 00:00:00-04:00  265.209991  276.559998  263.279999  276.200012   \n",
       "2023-03-17 00:00:00-04:00  278.260010  283.329987  276.320007  279.429993   \n",
       "\n",
       "                             Volume  Dividends  Stock Splits  \n",
       "Date                                                          \n",
       "2023-02-21 00:00:00-05:00  28397400        0.0           0.0  \n",
       "2023-02-22 00:00:00-05:00  22491100        0.0           0.0  \n",
       "2023-02-23 00:00:00-05:00  29219100        0.0           0.0  \n",
       "2023-02-24 00:00:00-05:00  24990900        0.0           0.0  \n",
       "2023-02-27 00:00:00-05:00  21190000        0.0           0.0  \n",
       "2023-02-28 00:00:00-05:00  22491000        0.0           0.0  \n",
       "2023-03-01 00:00:00-05:00  27565300        0.0           0.0  \n",
       "2023-03-02 00:00:00-05:00  24808200        0.0           0.0  \n",
       "2023-03-03 00:00:00-05:00  30741300        0.0           0.0  \n",
       "2023-03-06 00:00:00-05:00  24109800        0.0           0.0  \n",
       "2023-03-07 00:00:00-05:00  21473200        0.0           0.0  \n",
       "2023-03-08 00:00:00-05:00  17340200        0.0           0.0  \n",
       "2023-03-09 00:00:00-05:00  26653400        0.0           0.0  \n",
       "2023-03-10 00:00:00-05:00  28321800        0.0           0.0  \n",
       "2023-03-13 00:00:00-04:00  33339700        0.0           0.0  \n",
       "2023-03-14 00:00:00-04:00  33620300        0.0           0.0  \n",
       "2023-03-15 00:00:00-04:00  46028000        0.0           0.0  \n",
       "2023-03-16 00:00:00-04:00  54768800        0.0           0.0  \n",
       "2023-03-17 00:00:00-04:00  69492200        0.0           0.0  "
      ]
     },
     "execution_count": 42,
     "metadata": {},
     "output_type": "execute_result"
    }
   ],
   "source": [
    "# 최근 1개월\n",
    "msft.history(period=\"1mo\")"
   ]
  },
  {
   "cell_type": "code",
   "execution_count": 43,
   "id": "2cb75709",
   "metadata": {},
   "outputs": [
    {
     "data": {
      "text/html": [
       "<div>\n",
       "<style scoped>\n",
       "    .dataframe tbody tr th:only-of-type {\n",
       "        vertical-align: middle;\n",
       "    }\n",
       "\n",
       "    .dataframe tbody tr th {\n",
       "        vertical-align: top;\n",
       "    }\n",
       "\n",
       "    .dataframe thead th {\n",
       "        text-align: right;\n",
       "    }\n",
       "</style>\n",
       "<table border=\"1\" class=\"dataframe\">\n",
       "  <thead>\n",
       "    <tr style=\"text-align: right;\">\n",
       "      <th></th>\n",
       "      <th>Open</th>\n",
       "      <th>High</th>\n",
       "      <th>Low</th>\n",
       "      <th>Close</th>\n",
       "      <th>Volume</th>\n",
       "      <th>Dividends</th>\n",
       "      <th>Stock Splits</th>\n",
       "    </tr>\n",
       "    <tr>\n",
       "      <th>Date</th>\n",
       "      <th></th>\n",
       "      <th></th>\n",
       "      <th></th>\n",
       "      <th></th>\n",
       "      <th></th>\n",
       "      <th></th>\n",
       "      <th></th>\n",
       "    </tr>\n",
       "  </thead>\n",
       "  <tbody>\n",
       "    <tr>\n",
       "      <th>2023-03-17 00:00:00-04:00</th>\n",
       "      <td>278.26001</td>\n",
       "      <td>283.329987</td>\n",
       "      <td>276.320007</td>\n",
       "      <td>279.429993</td>\n",
       "      <td>69492200</td>\n",
       "      <td>0.0</td>\n",
       "      <td>0.0</td>\n",
       "    </tr>\n",
       "  </tbody>\n",
       "</table>\n",
       "</div>"
      ],
      "text/plain": [
       "                                Open        High         Low       Close  \\\n",
       "Date                                                                       \n",
       "2023-03-17 00:00:00-04:00  278.26001  283.329987  276.320007  279.429993   \n",
       "\n",
       "                             Volume  Dividends  Stock Splits  \n",
       "Date                                                          \n",
       "2023-03-17 00:00:00-04:00  69492200        0.0           0.0  "
      ]
     },
     "execution_count": 43,
     "metadata": {},
     "output_type": "execute_result"
    }
   ],
   "source": [
    "msft.history(period=\"2022\")"
   ]
  },
  {
   "cell_type": "code",
   "execution_count": 44,
   "id": "746fabae",
   "metadata": {},
   "outputs": [
    {
     "name": "stdout",
     "output_type": "stream",
     "text": [
      "[*********************100%***********************]  2 of 2 completed\n"
     ]
    }
   ],
   "source": [
    "#여러 티커에 대한 데이터 가져오기\n",
    "import yfinance as yf\n",
    "data = yf.download(\"SPY AAPL\", start=\"2022-01-01\", end=\"2022-04-30\")"
   ]
  },
  {
   "cell_type": "code",
   "execution_count": 45,
   "id": "82930b20",
   "metadata": {},
   "outputs": [
    {
     "name": "stdout",
     "output_type": "stream",
     "text": [
      "[*********************100%***********************]  1 of 1 completed\n"
     ]
    },
    {
     "data": {
      "text/html": [
       "<div>\n",
       "<style scoped>\n",
       "    .dataframe tbody tr th:only-of-type {\n",
       "        vertical-align: middle;\n",
       "    }\n",
       "\n",
       "    .dataframe tbody tr th {\n",
       "        vertical-align: top;\n",
       "    }\n",
       "\n",
       "    .dataframe thead th {\n",
       "        text-align: right;\n",
       "    }\n",
       "</style>\n",
       "<table border=\"1\" class=\"dataframe\">\n",
       "  <thead>\n",
       "    <tr style=\"text-align: right;\">\n",
       "      <th></th>\n",
       "      <th>Open</th>\n",
       "      <th>High</th>\n",
       "      <th>Low</th>\n",
       "      <th>Close</th>\n",
       "      <th>Adj Close</th>\n",
       "      <th>Volume</th>\n",
       "    </tr>\n",
       "    <tr>\n",
       "      <th>Date</th>\n",
       "      <th></th>\n",
       "      <th></th>\n",
       "      <th></th>\n",
       "      <th></th>\n",
       "      <th></th>\n",
       "      <th></th>\n",
       "    </tr>\n",
       "  </thead>\n",
       "  <tbody>\n",
       "    <tr>\n",
       "      <th>2021-12-31</th>\n",
       "      <td>475.640015</td>\n",
       "      <td>476.859985</td>\n",
       "      <td>474.670013</td>\n",
       "      <td>474.959991</td>\n",
       "      <td>465.600616</td>\n",
       "      <td>65237400</td>\n",
       "    </tr>\n",
       "    <tr>\n",
       "      <th>2022-01-03</th>\n",
       "      <td>476.299988</td>\n",
       "      <td>477.850006</td>\n",
       "      <td>473.850006</td>\n",
       "      <td>477.709991</td>\n",
       "      <td>468.296387</td>\n",
       "      <td>72668200</td>\n",
       "    </tr>\n",
       "    <tr>\n",
       "      <th>2022-01-04</th>\n",
       "      <td>479.220001</td>\n",
       "      <td>479.980011</td>\n",
       "      <td>475.579987</td>\n",
       "      <td>477.549988</td>\n",
       "      <td>468.139587</td>\n",
       "      <td>71178700</td>\n",
       "    </tr>\n",
       "    <tr>\n",
       "      <th>2022-01-05</th>\n",
       "      <td>477.160004</td>\n",
       "      <td>477.980011</td>\n",
       "      <td>468.279999</td>\n",
       "      <td>468.380005</td>\n",
       "      <td>459.150299</td>\n",
       "      <td>104538900</td>\n",
       "    </tr>\n",
       "    <tr>\n",
       "      <th>2022-01-06</th>\n",
       "      <td>467.890015</td>\n",
       "      <td>470.820007</td>\n",
       "      <td>465.429993</td>\n",
       "      <td>467.940002</td>\n",
       "      <td>458.718933</td>\n",
       "      <td>86858900</td>\n",
       "    </tr>\n",
       "    <tr>\n",
       "      <th>...</th>\n",
       "      <td>...</td>\n",
       "      <td>...</td>\n",
       "      <td>...</td>\n",
       "      <td>...</td>\n",
       "      <td>...</td>\n",
       "      <td>...</td>\n",
       "    </tr>\n",
       "    <tr>\n",
       "      <th>2022-06-23</th>\n",
       "      <td>376.640015</td>\n",
       "      <td>378.829987</td>\n",
       "      <td>372.890015</td>\n",
       "      <td>378.059998</td>\n",
       "      <td>373.367340</td>\n",
       "      <td>79292100</td>\n",
       "    </tr>\n",
       "    <tr>\n",
       "      <th>2022-06-24</th>\n",
       "      <td>381.399994</td>\n",
       "      <td>390.089996</td>\n",
       "      <td>381.369995</td>\n",
       "      <td>390.079987</td>\n",
       "      <td>385.238129</td>\n",
       "      <td>98050300</td>\n",
       "    </tr>\n",
       "    <tr>\n",
       "      <th>2022-06-27</th>\n",
       "      <td>391.049988</td>\n",
       "      <td>391.359985</td>\n",
       "      <td>387.440002</td>\n",
       "      <td>388.589996</td>\n",
       "      <td>383.766632</td>\n",
       "      <td>66009600</td>\n",
       "    </tr>\n",
       "    <tr>\n",
       "      <th>2022-06-28</th>\n",
       "      <td>390.230011</td>\n",
       "      <td>393.160004</td>\n",
       "      <td>380.529999</td>\n",
       "      <td>380.649994</td>\n",
       "      <td>375.925171</td>\n",
       "      <td>86548900</td>\n",
       "    </tr>\n",
       "    <tr>\n",
       "      <th>2022-06-29</th>\n",
       "      <td>381.230011</td>\n",
       "      <td>382.269989</td>\n",
       "      <td>378.420013</td>\n",
       "      <td>380.339996</td>\n",
       "      <td>375.619019</td>\n",
       "      <td>65676000</td>\n",
       "    </tr>\n",
       "  </tbody>\n",
       "</table>\n",
       "<p>124 rows × 6 columns</p>\n",
       "</div>"
      ],
      "text/plain": [
       "                  Open        High         Low       Close   Adj Close  \\\n",
       "Date                                                                     \n",
       "2021-12-31  475.640015  476.859985  474.670013  474.959991  465.600616   \n",
       "2022-01-03  476.299988  477.850006  473.850006  477.709991  468.296387   \n",
       "2022-01-04  479.220001  479.980011  475.579987  477.549988  468.139587   \n",
       "2022-01-05  477.160004  477.980011  468.279999  468.380005  459.150299   \n",
       "2022-01-06  467.890015  470.820007  465.429993  467.940002  458.718933   \n",
       "...                ...         ...         ...         ...         ...   \n",
       "2022-06-23  376.640015  378.829987  372.890015  378.059998  373.367340   \n",
       "2022-06-24  381.399994  390.089996  381.369995  390.079987  385.238129   \n",
       "2022-06-27  391.049988  391.359985  387.440002  388.589996  383.766632   \n",
       "2022-06-28  390.230011  393.160004  380.529999  380.649994  375.925171   \n",
       "2022-06-29  381.230011  382.269989  378.420013  380.339996  375.619019   \n",
       "\n",
       "               Volume  \n",
       "Date                   \n",
       "2021-12-31   65237400  \n",
       "2022-01-03   72668200  \n",
       "2022-01-04   71178700  \n",
       "2022-01-05  104538900  \n",
       "2022-01-06   86858900  \n",
       "...               ...  \n",
       "2022-06-23   79292100  \n",
       "2022-06-24   98050300  \n",
       "2022-06-27   66009600  \n",
       "2022-06-28   86548900  \n",
       "2022-06-29   65676000  \n",
       "\n",
       "[124 rows x 6 columns]"
      ]
     },
     "execution_count": 45,
     "metadata": {},
     "output_type": "execute_result"
    }
   ],
   "source": [
    "from pandas_datareader import data as pdr\n",
    "\n",
    "import yfinance as yf\n",
    "yf.pdr_override() # <== that's all it takes :-)\n",
    "\n",
    "# download dataframe\n",
    "data = pdr.get_data_yahoo(\"SPY\", start=\"2021-12-31\", end=\"2022-06-30\")\n",
    "data"
   ]
  },
  {
   "cell_type": "code",
   "execution_count": 46,
   "id": "d1dd4636",
   "metadata": {},
   "outputs": [
    {
     "name": "stdout",
     "output_type": "stream",
     "text": [
      "[*********************100%***********************]  1 of 1 completed\n",
      "[*********************100%***********************]  1 of 1 completed\n"
     ]
    }
   ],
   "source": [
    "from pandas_datareader import data as pdr\n",
    "import yfinance as yf\n",
    "yf.pdr_override()\n",
    "\n",
    "sec=pdr.get_data_yahoo('005930.KS',start='2022-01-03')\n",
    "msft=pdr.get_data_yahoo('MSFT',start='2022-01-03')"
   ]
  },
  {
   "cell_type": "code",
   "execution_count": 47,
   "id": "b4dd5673",
   "metadata": {},
   "outputs": [
    {
     "data": {
      "text/html": [
       "<div>\n",
       "<style scoped>\n",
       "    .dataframe tbody tr th:only-of-type {\n",
       "        vertical-align: middle;\n",
       "    }\n",
       "\n",
       "    .dataframe tbody tr th {\n",
       "        vertical-align: top;\n",
       "    }\n",
       "\n",
       "    .dataframe thead th {\n",
       "        text-align: right;\n",
       "    }\n",
       "</style>\n",
       "<table border=\"1\" class=\"dataframe\">\n",
       "  <thead>\n",
       "    <tr style=\"text-align: right;\">\n",
       "      <th></th>\n",
       "      <th>Open</th>\n",
       "      <th>High</th>\n",
       "      <th>Low</th>\n",
       "      <th>Close</th>\n",
       "      <th>Adj Close</th>\n",
       "      <th>Volume</th>\n",
       "    </tr>\n",
       "    <tr>\n",
       "      <th>Date</th>\n",
       "      <th></th>\n",
       "      <th></th>\n",
       "      <th></th>\n",
       "      <th></th>\n",
       "      <th></th>\n",
       "      <th></th>\n",
       "    </tr>\n",
       "  </thead>\n",
       "  <tbody>\n",
       "    <tr>\n",
       "      <th>2022-01-04</th>\n",
       "      <td>78800.0</td>\n",
       "      <td>79200.0</td>\n",
       "      <td>78300.0</td>\n",
       "      <td>78700.0</td>\n",
       "      <td>76808.171875</td>\n",
       "      <td>12427416</td>\n",
       "    </tr>\n",
       "    <tr>\n",
       "      <th>2022-01-05</th>\n",
       "      <td>78800.0</td>\n",
       "      <td>79000.0</td>\n",
       "      <td>76400.0</td>\n",
       "      <td>77400.0</td>\n",
       "      <td>75539.421875</td>\n",
       "      <td>25470640</td>\n",
       "    </tr>\n",
       "    <tr>\n",
       "      <th>2022-01-06</th>\n",
       "      <td>76700.0</td>\n",
       "      <td>77600.0</td>\n",
       "      <td>76600.0</td>\n",
       "      <td>76900.0</td>\n",
       "      <td>75051.437500</td>\n",
       "      <td>12931954</td>\n",
       "    </tr>\n",
       "    <tr>\n",
       "      <th>2022-01-07</th>\n",
       "      <td>78100.0</td>\n",
       "      <td>78400.0</td>\n",
       "      <td>77400.0</td>\n",
       "      <td>78300.0</td>\n",
       "      <td>76417.781250</td>\n",
       "      <td>15163757</td>\n",
       "    </tr>\n",
       "    <tr>\n",
       "      <th>2022-01-10</th>\n",
       "      <td>78100.0</td>\n",
       "      <td>78100.0</td>\n",
       "      <td>77100.0</td>\n",
       "      <td>78000.0</td>\n",
       "      <td>76125.000000</td>\n",
       "      <td>9947422</td>\n",
       "    </tr>\n",
       "  </tbody>\n",
       "</table>\n",
       "</div>"
      ],
      "text/plain": [
       "               Open     High      Low    Close     Adj Close    Volume\n",
       "Date                                                                  \n",
       "2022-01-04  78800.0  79200.0  78300.0  78700.0  76808.171875  12427416\n",
       "2022-01-05  78800.0  79000.0  76400.0  77400.0  75539.421875  25470640\n",
       "2022-01-06  76700.0  77600.0  76600.0  76900.0  75051.437500  12931954\n",
       "2022-01-07  78100.0  78400.0  77400.0  78300.0  76417.781250  15163757\n",
       "2022-01-10  78100.0  78100.0  77100.0  78000.0  76125.000000   9947422"
      ]
     },
     "execution_count": 47,
     "metadata": {},
     "output_type": "execute_result"
    }
   ],
   "source": [
    "sec.head()"
   ]
  },
  {
   "cell_type": "code",
   "execution_count": 48,
   "id": "649a0dff",
   "metadata": {},
   "outputs": [
    {
     "ename": "FileNotFoundError",
     "evalue": "[Errno 2] No such file or directory: '/Users/taewon/Big Data/C:/Windows/Fonts/gulim.ttc'",
     "output_type": "error",
     "traceback": [
      "\u001b[0;31m---------------------------------------------------------------------------\u001b[0m",
      "\u001b[0;31mFileNotFoundError\u001b[0m                         Traceback (most recent call last)",
      "\u001b[0;32m/var/folders/28/yz261nq91vq_lj47hynw_10r0000gn/T/ipykernel_36389/4182589062.py\u001b[0m in \u001b[0;36m<module>\u001b[0;34m\u001b[0m\n\u001b[1;32m      6\u001b[0m \u001b[0;31m#한글폰트 적용\u001b[0m\u001b[0;34m\u001b[0m\u001b[0;34m\u001b[0m\u001b[0m\n\u001b[1;32m      7\u001b[0m \u001b[0mpath\u001b[0m \u001b[0;34m=\u001b[0m \u001b[0;34m'C:/Windows/Fonts/gulim.ttc'\u001b[0m\u001b[0;34m\u001b[0m\u001b[0;34m\u001b[0m\u001b[0m\n\u001b[0;32m----> 8\u001b[0;31m \u001b[0mfont_name\u001b[0m \u001b[0;34m=\u001b[0m \u001b[0mfm\u001b[0m\u001b[0;34m.\u001b[0m\u001b[0mFontProperties\u001b[0m\u001b[0;34m(\u001b[0m\u001b[0mfname\u001b[0m\u001b[0;34m=\u001b[0m\u001b[0mpath\u001b[0m\u001b[0;34m,\u001b[0m \u001b[0msize\u001b[0m\u001b[0;34m=\u001b[0m\u001b[0;36m50\u001b[0m\u001b[0;34m)\u001b[0m\u001b[0;34m.\u001b[0m\u001b[0mget_name\u001b[0m\u001b[0;34m(\u001b[0m\u001b[0;34m)\u001b[0m\u001b[0;34m\u001b[0m\u001b[0;34m\u001b[0m\u001b[0m\n\u001b[0m\u001b[1;32m      9\u001b[0m \u001b[0mplt\u001b[0m\u001b[0;34m.\u001b[0m\u001b[0mrc\u001b[0m\u001b[0;34m(\u001b[0m\u001b[0;34m'font'\u001b[0m\u001b[0;34m,\u001b[0m \u001b[0mfamily\u001b[0m\u001b[0;34m=\u001b[0m\u001b[0mfont_name\u001b[0m\u001b[0;34m)\u001b[0m\u001b[0;34m\u001b[0m\u001b[0;34m\u001b[0m\u001b[0m\n\u001b[1;32m     10\u001b[0m \u001b[0;34m\u001b[0m\u001b[0m\n",
      "\u001b[0;32m~/opt/anaconda3/lib/python3.9/site-packages/matplotlib/font_manager.py\u001b[0m in \u001b[0;36mget_name\u001b[0;34m(self)\u001b[0m\n\u001b[1;32m    735\u001b[0m         \u001b[0mReturn\u001b[0m \u001b[0mthe\u001b[0m \u001b[0mname\u001b[0m \u001b[0mof\u001b[0m \u001b[0mthe\u001b[0m \u001b[0mfont\u001b[0m \u001b[0mthat\u001b[0m \u001b[0mbest\u001b[0m \u001b[0mmatches\u001b[0m \u001b[0mthe\u001b[0m \u001b[0mfont\u001b[0m \u001b[0mproperties\u001b[0m\u001b[0;34m.\u001b[0m\u001b[0;34m\u001b[0m\u001b[0;34m\u001b[0m\u001b[0m\n\u001b[1;32m    736\u001b[0m         \"\"\"\n\u001b[0;32m--> 737\u001b[0;31m         \u001b[0;32mreturn\u001b[0m \u001b[0mget_font\u001b[0m\u001b[0;34m(\u001b[0m\u001b[0mfindfont\u001b[0m\u001b[0;34m(\u001b[0m\u001b[0mself\u001b[0m\u001b[0;34m)\u001b[0m\u001b[0;34m)\u001b[0m\u001b[0;34m.\u001b[0m\u001b[0mfamily_name\u001b[0m\u001b[0;34m\u001b[0m\u001b[0;34m\u001b[0m\u001b[0m\n\u001b[0m\u001b[1;32m    738\u001b[0m \u001b[0;34m\u001b[0m\u001b[0m\n\u001b[1;32m    739\u001b[0m     \u001b[0;32mdef\u001b[0m \u001b[0mget_style\u001b[0m\u001b[0;34m(\u001b[0m\u001b[0mself\u001b[0m\u001b[0;34m)\u001b[0m\u001b[0;34m:\u001b[0m\u001b[0;34m\u001b[0m\u001b[0;34m\u001b[0m\u001b[0m\n",
      "\u001b[0;32m~/opt/anaconda3/lib/python3.9/site-packages/matplotlib/font_manager.py\u001b[0m in \u001b[0;36mget_font\u001b[0;34m(filename, hinting_factor)\u001b[0m\n\u001b[1;32m   1422\u001b[0m         \u001b[0mhinting_factor\u001b[0m \u001b[0;34m=\u001b[0m \u001b[0mrcParams\u001b[0m\u001b[0;34m[\u001b[0m\u001b[0;34m'text.hinting_factor'\u001b[0m\u001b[0;34m]\u001b[0m\u001b[0;34m\u001b[0m\u001b[0;34m\u001b[0m\u001b[0m\n\u001b[1;32m   1423\u001b[0m     \u001b[0;31m# also key on the thread ID to prevent segfaults with multi-threading\u001b[0m\u001b[0;34m\u001b[0m\u001b[0;34m\u001b[0m\u001b[0m\n\u001b[0;32m-> 1424\u001b[0;31m     return _get_font(filename, hinting_factor,\n\u001b[0m\u001b[1;32m   1425\u001b[0m                      \u001b[0m_kerning_factor\u001b[0m\u001b[0;34m=\u001b[0m\u001b[0mrcParams\u001b[0m\u001b[0;34m[\u001b[0m\u001b[0;34m'text.kerning_factor'\u001b[0m\u001b[0;34m]\u001b[0m\u001b[0;34m,\u001b[0m\u001b[0;34m\u001b[0m\u001b[0;34m\u001b[0m\u001b[0m\n\u001b[1;32m   1426\u001b[0m                      thread_id=threading.get_ident())\n",
      "\u001b[0;32m~/opt/anaconda3/lib/python3.9/site-packages/matplotlib/font_manager.py\u001b[0m in \u001b[0;36m_get_font\u001b[0;34m(filename, hinting_factor, _kerning_factor, thread_id)\u001b[0m\n\u001b[1;32m   1403\u001b[0m \u001b[0;34m@\u001b[0m\u001b[0mlru_cache\u001b[0m\u001b[0;34m(\u001b[0m\u001b[0;36m64\u001b[0m\u001b[0;34m)\u001b[0m\u001b[0;34m\u001b[0m\u001b[0;34m\u001b[0m\u001b[0m\n\u001b[1;32m   1404\u001b[0m \u001b[0;32mdef\u001b[0m \u001b[0m_get_font\u001b[0m\u001b[0;34m(\u001b[0m\u001b[0mfilename\u001b[0m\u001b[0;34m,\u001b[0m \u001b[0mhinting_factor\u001b[0m\u001b[0;34m,\u001b[0m \u001b[0;34m*\u001b[0m\u001b[0;34m,\u001b[0m \u001b[0m_kerning_factor\u001b[0m\u001b[0;34m,\u001b[0m \u001b[0mthread_id\u001b[0m\u001b[0;34m)\u001b[0m\u001b[0;34m:\u001b[0m\u001b[0;34m\u001b[0m\u001b[0;34m\u001b[0m\u001b[0m\n\u001b[0;32m-> 1405\u001b[0;31m     return ft2font.FT2Font(\n\u001b[0m\u001b[1;32m   1406\u001b[0m         filename, hinting_factor, _kerning_factor=_kerning_factor)\n\u001b[1;32m   1407\u001b[0m \u001b[0;34m\u001b[0m\u001b[0m\n",
      "\u001b[0;31mFileNotFoundError\u001b[0m: [Errno 2] No such file or directory: '/Users/taewon/Big Data/C:/Windows/Fonts/gulim.ttc'"
     ]
    }
   ],
   "source": [
    "import matplotlib.pyplot as plt\n",
    "import matplotlib as mpl\n",
    "import matplotlib.pyplot as plt\n",
    "import matplotlib.font_manager as fm\n",
    "\n",
    "#한글폰트 적용\n",
    "path = 'C:/Windows/Fonts/gulim.ttc'\n",
    "font_name = fm.FontProperties(fname=path, size=50).get_name()\n",
    "plt.rc('font', family=font_name)\n",
    "\n",
    "\n",
    "# plt.plot(range(50), data, 'r')\n",
    "# plt.title('시간별 가격 추이', fontproperties=fontprop)\n",
    "# plt.ylabel('주식 가격', fontproperties=fontprop)\n",
    "# plt.xlabel('시간(분)', fontproperties=fontprop)\n",
    "# plt.show()\n",
    "\n",
    "plt.plot(sec.index, sec.Close, 'b', label='삼성전자')\n",
    "plt.plot(msft.index, msft.Close, 'r--', label='Microsoft')\n",
    "plt.legend(loc='best')"
   ]
  },
  {
   "cell_type": "code",
   "execution_count": 50,
   "id": "d4f4c386",
   "metadata": {},
   "outputs": [
    {
     "ename": "ModuleNotFoundError",
     "evalue": "No module named 'pyfolio'",
     "output_type": "error",
     "traceback": [
      "\u001b[0;31m---------------------------------------------------------------------------\u001b[0m",
      "\u001b[0;31mModuleNotFoundError\u001b[0m                       Traceback (most recent call last)",
      "\u001b[0;32m/var/folders/28/yz261nq91vq_lj47hynw_10r0000gn/T/ipykernel_36389/1451576259.py\u001b[0m in \u001b[0;36m<module>\u001b[0;34m\u001b[0m\n\u001b[1;32m      2\u001b[0m \u001b[0;32mimport\u001b[0m \u001b[0mnumpy\u001b[0m \u001b[0;32mas\u001b[0m \u001b[0mnp\u001b[0m\u001b[0;34m\u001b[0m\u001b[0;34m\u001b[0m\u001b[0m\n\u001b[1;32m      3\u001b[0m \u001b[0;32mimport\u001b[0m \u001b[0mpandas\u001b[0m \u001b[0;32mas\u001b[0m \u001b[0mpd\u001b[0m\u001b[0;34m\u001b[0m\u001b[0;34m\u001b[0m\u001b[0m\n\u001b[0;32m----> 4\u001b[0;31m \u001b[0;32mimport\u001b[0m \u001b[0mpyfolio\u001b[0m \u001b[0;32mas\u001b[0m \u001b[0mpf\u001b[0m\u001b[0;34m\u001b[0m\u001b[0;34m\u001b[0m\u001b[0m\n\u001b[0m\u001b[1;32m      5\u001b[0m \u001b[0;34m\u001b[0m\u001b[0m\n\u001b[1;32m      6\u001b[0m \u001b[0mRISKY_ASSETS\u001b[0m \u001b[0;34m=\u001b[0m \u001b[0;34m[\u001b[0m\u001b[0;34m'AAPL'\u001b[0m\u001b[0;34m,\u001b[0m \u001b[0;34m'IBM'\u001b[0m\u001b[0;34m,\u001b[0m \u001b[0;34m'MSFT'\u001b[0m\u001b[0;34m,\u001b[0m \u001b[0;34m'TWTR'\u001b[0m\u001b[0;34m]\u001b[0m\u001b[0;34m\u001b[0m\u001b[0;34m\u001b[0m\u001b[0m\n",
      "\u001b[0;31mModuleNotFoundError\u001b[0m: No module named 'pyfolio'"
     ]
    }
   ],
   "source": [
    "import yfinance as yf\n",
    "import numpy as np\n",
    "import pandas as pd\n",
    "import pyfolio as pf\n",
    "\n",
    "RISKY_ASSETS = ['AAPL', 'IBM', 'MSFT', 'TWTR']\n",
    "START_DATE = '2020-01-01'\n",
    "END_DATE = '2021-12-31'\n",
    "\n",
    "n_assets = len(RISKY_ASSETS)\n",
    "\n",
    "prices_df = yf.download(RISKY_ASSETS, start=START_DATE, \n",
    "                        end=END_DATE, adjusted=True)\n",
    "print(f'Downloaded {prices_df.shape[0]} rows of data.')\n",
    "prices_df['Adj Close'].plot(title='Stock prices of the considered assets')"
   ]
  },
  {
   "cell_type": "code",
   "execution_count": 51,
   "id": "9fa06d72",
   "metadata": {},
   "outputs": [
    {
     "name": "stdout",
     "output_type": "stream",
     "text": [
      "Collecting pyfolio\n",
      "  Downloading pyfolio-0.9.2.tar.gz (91 kB)\n",
      "\u001b[2K     \u001b[90m━━━━━━━━━━━━━━━━━━━━━━━━━━━━━━━━━━━━━━━━\u001b[0m \u001b[32m91.1/91.1 kB\u001b[0m \u001b[31m6.7 MB/s\u001b[0m eta \u001b[36m0:00:00\u001b[0m\n",
      "\u001b[?25h  Preparing metadata (setup.py) ... \u001b[?25ldone\n",
      "\u001b[?25hRequirement already satisfied: ipython>=3.2.3 in /Users/taewon/opt/anaconda3/lib/python3.9/site-packages (from pyfolio) (7.31.1)\n",
      "Requirement already satisfied: matplotlib>=1.4.0 in /Users/taewon/opt/anaconda3/lib/python3.9/site-packages (from pyfolio) (3.5.2)\n",
      "Requirement already satisfied: numpy>=1.11.1 in /Users/taewon/opt/anaconda3/lib/python3.9/site-packages (from pyfolio) (1.21.5)\n",
      "Requirement already satisfied: pandas>=0.18.1 in /Users/taewon/opt/anaconda3/lib/python3.9/site-packages (from pyfolio) (1.4.4)\n",
      "Requirement already satisfied: pytz>=2014.10 in /Users/taewon/opt/anaconda3/lib/python3.9/site-packages (from pyfolio) (2022.7.1)\n",
      "Requirement already satisfied: scipy>=0.14.0 in /Users/taewon/opt/anaconda3/lib/python3.9/site-packages (from pyfolio) (1.9.1)\n",
      "Requirement already satisfied: scikit-learn>=0.16.1 in /Users/taewon/.local/lib/python3.9/site-packages (from pyfolio) (1.1.2)\n",
      "Requirement already satisfied: seaborn>=0.7.1 in /Users/taewon/opt/anaconda3/lib/python3.9/site-packages (from pyfolio) (0.11.2)\n",
      "Collecting empyrical>=0.5.0\n",
      "  Downloading empyrical-0.5.5.tar.gz (52 kB)\n",
      "\u001b[2K     \u001b[90m━━━━━━━━━━━━━━━━━━━━━━━━━━━━━━━━━━━━━━━━\u001b[0m \u001b[32m52.8/52.8 kB\u001b[0m \u001b[31m1.3 MB/s\u001b[0m eta \u001b[36m0:00:00\u001b[0m\n",
      "\u001b[?25h  Preparing metadata (setup.py) ... \u001b[?25ldone\n",
      "\u001b[?25hRequirement already satisfied: pandas-datareader>=0.2 in /Users/taewon/opt/anaconda3/lib/python3.9/site-packages (from empyrical>=0.5.0->pyfolio) (0.10.0)\n",
      "Requirement already satisfied: pickleshare in /Users/taewon/opt/anaconda3/lib/python3.9/site-packages (from ipython>=3.2.3->pyfolio) (0.7.5)\n",
      "Requirement already satisfied: jedi>=0.16 in /Users/taewon/opt/anaconda3/lib/python3.9/site-packages (from ipython>=3.2.3->pyfolio) (0.18.1)\n",
      "Requirement already satisfied: matplotlib-inline in /Users/taewon/opt/anaconda3/lib/python3.9/site-packages (from ipython>=3.2.3->pyfolio) (0.1.6)\n",
      "Requirement already satisfied: pexpect>4.3 in /Users/taewon/opt/anaconda3/lib/python3.9/site-packages (from ipython>=3.2.3->pyfolio) (4.8.0)\n",
      "Requirement already satisfied: setuptools>=18.5 in /Users/taewon/opt/anaconda3/lib/python3.9/site-packages (from ipython>=3.2.3->pyfolio) (63.4.1)\n",
      "Requirement already satisfied: backcall in /Users/taewon/opt/anaconda3/lib/python3.9/site-packages (from ipython>=3.2.3->pyfolio) (0.2.0)\n",
      "Requirement already satisfied: decorator in /Users/taewon/opt/anaconda3/lib/python3.9/site-packages (from ipython>=3.2.3->pyfolio) (5.1.1)\n",
      "Requirement already satisfied: appnope in /Users/taewon/opt/anaconda3/lib/python3.9/site-packages (from ipython>=3.2.3->pyfolio) (0.1.2)\n",
      "Requirement already satisfied: traitlets>=4.2 in /Users/taewon/opt/anaconda3/lib/python3.9/site-packages (from ipython>=3.2.3->pyfolio) (5.1.1)\n",
      "Requirement already satisfied: prompt-toolkit!=3.0.0,!=3.0.1,<3.1.0,>=2.0.0 in /Users/taewon/opt/anaconda3/lib/python3.9/site-packages (from ipython>=3.2.3->pyfolio) (3.0.20)\n",
      "Requirement already satisfied: pygments in /Users/taewon/opt/anaconda3/lib/python3.9/site-packages (from ipython>=3.2.3->pyfolio) (2.11.2)\n",
      "Requirement already satisfied: packaging>=20.0 in /Users/taewon/opt/anaconda3/lib/python3.9/site-packages (from matplotlib>=1.4.0->pyfolio) (21.3)\n",
      "Requirement already satisfied: kiwisolver>=1.0.1 in /Users/taewon/opt/anaconda3/lib/python3.9/site-packages (from matplotlib>=1.4.0->pyfolio) (1.4.2)\n",
      "Requirement already satisfied: pillow>=6.2.0 in /Users/taewon/opt/anaconda3/lib/python3.9/site-packages (from matplotlib>=1.4.0->pyfolio) (9.2.0)\n",
      "Requirement already satisfied: python-dateutil>=2.7 in /Users/taewon/opt/anaconda3/lib/python3.9/site-packages (from matplotlib>=1.4.0->pyfolio) (2.8.2)\n",
      "Requirement already satisfied: cycler>=0.10 in /Users/taewon/opt/anaconda3/lib/python3.9/site-packages (from matplotlib>=1.4.0->pyfolio) (0.11.0)\n",
      "Requirement already satisfied: fonttools>=4.22.0 in /Users/taewon/opt/anaconda3/lib/python3.9/site-packages (from matplotlib>=1.4.0->pyfolio) (4.25.0)\n",
      "Requirement already satisfied: pyparsing>=2.2.1 in /Users/taewon/opt/anaconda3/lib/python3.9/site-packages (from matplotlib>=1.4.0->pyfolio) (3.0.9)\n",
      "Requirement already satisfied: joblib>=1.0.0 in /Users/taewon/opt/anaconda3/lib/python3.9/site-packages (from scikit-learn>=0.16.1->pyfolio) (1.1.0)\n",
      "Requirement already satisfied: threadpoolctl>=2.0.0 in /Users/taewon/opt/anaconda3/lib/python3.9/site-packages (from scikit-learn>=0.16.1->pyfolio) (2.2.0)\n",
      "Requirement already satisfied: parso<0.9.0,>=0.8.0 in /Users/taewon/opt/anaconda3/lib/python3.9/site-packages (from jedi>=0.16->ipython>=3.2.3->pyfolio) (0.8.3)\n",
      "Requirement already satisfied: lxml in /Users/taewon/opt/anaconda3/lib/python3.9/site-packages (from pandas-datareader>=0.2->empyrical>=0.5.0->pyfolio) (4.9.1)\n",
      "Requirement already satisfied: requests>=2.19.0 in /Users/taewon/opt/anaconda3/lib/python3.9/site-packages (from pandas-datareader>=0.2->empyrical>=0.5.0->pyfolio) (2.28.1)\n",
      "Requirement already satisfied: ptyprocess>=0.5 in /Users/taewon/opt/anaconda3/lib/python3.9/site-packages (from pexpect>4.3->ipython>=3.2.3->pyfolio) (0.7.0)\n",
      "Requirement already satisfied: wcwidth in /Users/taewon/opt/anaconda3/lib/python3.9/site-packages (from prompt-toolkit!=3.0.0,!=3.0.1,<3.1.0,>=2.0.0->ipython>=3.2.3->pyfolio) (0.2.5)\n",
      "Requirement already satisfied: six>=1.5 in /Users/taewon/opt/anaconda3/lib/python3.9/site-packages (from python-dateutil>=2.7->matplotlib>=1.4.0->pyfolio) (1.16.0)\n",
      "Requirement already satisfied: certifi>=2017.4.17 in /Users/taewon/opt/anaconda3/lib/python3.9/site-packages (from requests>=2.19.0->pandas-datareader>=0.2->empyrical>=0.5.0->pyfolio) (2022.9.24)\n",
      "Requirement already satisfied: charset-normalizer<3,>=2 in /Users/taewon/opt/anaconda3/lib/python3.9/site-packages (from requests>=2.19.0->pandas-datareader>=0.2->empyrical>=0.5.0->pyfolio) (2.0.4)\n",
      "Requirement already satisfied: idna<4,>=2.5 in /Users/taewon/opt/anaconda3/lib/python3.9/site-packages (from requests>=2.19.0->pandas-datareader>=0.2->empyrical>=0.5.0->pyfolio) (3.3)\n",
      "Requirement already satisfied: urllib3<1.27,>=1.21.1 in /Users/taewon/opt/anaconda3/lib/python3.9/site-packages (from requests>=2.19.0->pandas-datareader>=0.2->empyrical>=0.5.0->pyfolio) (1.26.11)\n",
      "Building wheels for collected packages: pyfolio, empyrical\n",
      "  Building wheel for pyfolio (setup.py) ... \u001b[?25ldone\n",
      "\u001b[?25h  Created wheel for pyfolio: filename=pyfolio-0.9.2-py3-none-any.whl size=88661 sha256=b0af9a1483963dfb3f19375b0ccd60bf2d31d49c180bff04f07abde1ae8ce605\n",
      "  Stored in directory: /Users/taewon/Library/Caches/pip/wheels/75/c7/b9/986a1ba8adb2afce230e1a497dc11aeb33efef4fc8dfd6c649\n",
      "  Building wheel for empyrical (setup.py) ... \u001b[?25ldone\n",
      "\u001b[?25h  Created wheel for empyrical: filename=empyrical-0.5.5-py3-none-any.whl size=39765 sha256=f4d6f569eeec92323675366c15af6b86e91ab748dac0b60f369813afbeae85b2\n",
      "  Stored in directory: /Users/taewon/Library/Caches/pip/wheels/67/23/d1/a4ef8ff88dc9af7b0eeb1b6fd0d90c6057eaad5a2df25f4e3f\n",
      "Successfully built pyfolio empyrical\n",
      "Installing collected packages: empyrical, pyfolio\n",
      "Successfully installed empyrical-0.5.5 pyfolio-0.9.2\n",
      "Note: you may need to restart the kernel to use updated packages.\n"
     ]
    }
   ],
   "source": [
    "pip install pyfolio"
   ]
  },
  {
   "cell_type": "code",
   "execution_count": 52,
   "id": "b394b3cf",
   "metadata": {},
   "outputs": [
    {
     "name": "stderr",
     "output_type": "stream",
     "text": [
      "/Users/taewon/opt/anaconda3/lib/python3.9/site-packages/pyfolio/pos.py:26: UserWarning: Module \"zipline.assets\" not found; mutltipliers will not be applied to position notionals.\n",
      "  warnings.warn(\n"
     ]
    },
    {
     "ename": "ImportError",
     "evalue": "dlopen(/Users/taewon/.local/lib/python3.9/site-packages/sklearn/__check_build/_check_build.cpython-39-darwin.so, 0x0002): tried: '/Users/taewon/.local/lib/python3.9/site-packages/sklearn/__check_build/_check_build.cpython-39-darwin.so' (mach-o file, but is an incompatible architecture (have 'arm64', need 'x86_64')), '/System/Volumes/Preboot/Cryptexes/OS/Users/taewon/.local/lib/python3.9/site-packages/sklearn/__check_build/_check_build.cpython-39-darwin.so' (no such file), '/Users/taewon/.local/lib/python3.9/site-packages/sklearn/__check_build/_check_build.cpython-39-darwin.so' (mach-o file, but is an incompatible architecture (have 'arm64', need 'x86_64'))\n___________________________________________________________________________\nContents of /Users/taewon/.local/lib/python3.9/site-packages/sklearn/__check_build:\n__init__.py               __pycache__               _check_build.cpython-39-darwin.so\nsetup.py\n___________________________________________________________________________\nIt seems that scikit-learn has not been built correctly.\n\nIf you have installed scikit-learn from source, please do not forget\nto build the package before using it: run `python setup.py install` or\n`make` in the source directory.\n\nIf you have used an installer, please check that it is suited for your\nPython version, your operating system and your platform.",
     "output_type": "error",
     "traceback": [
      "\u001b[0;31m---------------------------------------------------------------------------\u001b[0m",
      "\u001b[0;31mImportError\u001b[0m                               Traceback (most recent call last)",
      "\u001b[0;32m~/.local/lib/python3.9/site-packages/sklearn/__check_build/__init__.py\u001b[0m in \u001b[0;36m<module>\u001b[0;34m\u001b[0m\n\u001b[1;32m     47\u001b[0m \u001b[0;32mtry\u001b[0m\u001b[0;34m:\u001b[0m\u001b[0;34m\u001b[0m\u001b[0;34m\u001b[0m\u001b[0m\n\u001b[0;32m---> 48\u001b[0;31m     \u001b[0;32mfrom\u001b[0m \u001b[0;34m.\u001b[0m\u001b[0m_check_build\u001b[0m \u001b[0;32mimport\u001b[0m \u001b[0mcheck_build\u001b[0m  \u001b[0;31m# noqa\u001b[0m\u001b[0;34m\u001b[0m\u001b[0;34m\u001b[0m\u001b[0m\n\u001b[0m\u001b[1;32m     49\u001b[0m \u001b[0;32mexcept\u001b[0m \u001b[0mImportError\u001b[0m \u001b[0;32mas\u001b[0m \u001b[0me\u001b[0m\u001b[0;34m:\u001b[0m\u001b[0;34m\u001b[0m\u001b[0;34m\u001b[0m\u001b[0m\n",
      "\u001b[0;31mImportError\u001b[0m: dlopen(/Users/taewon/.local/lib/python3.9/site-packages/sklearn/__check_build/_check_build.cpython-39-darwin.so, 0x0002): tried: '/Users/taewon/.local/lib/python3.9/site-packages/sklearn/__check_build/_check_build.cpython-39-darwin.so' (mach-o file, but is an incompatible architecture (have 'arm64', need 'x86_64')), '/System/Volumes/Preboot/Cryptexes/OS/Users/taewon/.local/lib/python3.9/site-packages/sklearn/__check_build/_check_build.cpython-39-darwin.so' (no such file), '/Users/taewon/.local/lib/python3.9/site-packages/sklearn/__check_build/_check_build.cpython-39-darwin.so' (mach-o file, but is an incompatible architecture (have 'arm64', need 'x86_64'))",
      "\nDuring handling of the above exception, another exception occurred:\n",
      "\u001b[0;31mImportError\u001b[0m                               Traceback (most recent call last)",
      "\u001b[0;32m/var/folders/28/yz261nq91vq_lj47hynw_10r0000gn/T/ipykernel_36389/1451576259.py\u001b[0m in \u001b[0;36m<module>\u001b[0;34m\u001b[0m\n\u001b[1;32m      2\u001b[0m \u001b[0;32mimport\u001b[0m \u001b[0mnumpy\u001b[0m \u001b[0;32mas\u001b[0m \u001b[0mnp\u001b[0m\u001b[0;34m\u001b[0m\u001b[0;34m\u001b[0m\u001b[0m\n\u001b[1;32m      3\u001b[0m \u001b[0;32mimport\u001b[0m \u001b[0mpandas\u001b[0m \u001b[0;32mas\u001b[0m \u001b[0mpd\u001b[0m\u001b[0;34m\u001b[0m\u001b[0;34m\u001b[0m\u001b[0m\n\u001b[0;32m----> 4\u001b[0;31m \u001b[0;32mimport\u001b[0m \u001b[0mpyfolio\u001b[0m \u001b[0;32mas\u001b[0m \u001b[0mpf\u001b[0m\u001b[0;34m\u001b[0m\u001b[0;34m\u001b[0m\u001b[0m\n\u001b[0m\u001b[1;32m      5\u001b[0m \u001b[0;34m\u001b[0m\u001b[0m\n\u001b[1;32m      6\u001b[0m \u001b[0mRISKY_ASSETS\u001b[0m \u001b[0;34m=\u001b[0m \u001b[0;34m[\u001b[0m\u001b[0;34m'AAPL'\u001b[0m\u001b[0;34m,\u001b[0m \u001b[0;34m'IBM'\u001b[0m\u001b[0;34m,\u001b[0m \u001b[0;34m'MSFT'\u001b[0m\u001b[0;34m,\u001b[0m \u001b[0;34m'TWTR'\u001b[0m\u001b[0;34m]\u001b[0m\u001b[0;34m\u001b[0m\u001b[0;34m\u001b[0m\u001b[0m\n",
      "\u001b[0;32m~/opt/anaconda3/lib/python3.9/site-packages/pyfolio/__init__.py\u001b[0m in \u001b[0;36m<module>\u001b[0;34m\u001b[0m\n\u001b[1;32m      2\u001b[0m \u001b[0;34m\u001b[0m\u001b[0m\n\u001b[1;32m      3\u001b[0m \u001b[0;32mfrom\u001b[0m \u001b[0;34m.\u001b[0m \u001b[0;32mimport\u001b[0m \u001b[0mutils\u001b[0m\u001b[0;34m\u001b[0m\u001b[0;34m\u001b[0m\u001b[0m\n\u001b[0;32m----> 4\u001b[0;31m \u001b[0;32mfrom\u001b[0m \u001b[0;34m.\u001b[0m \u001b[0;32mimport\u001b[0m \u001b[0mtimeseries\u001b[0m\u001b[0;34m\u001b[0m\u001b[0;34m\u001b[0m\u001b[0m\n\u001b[0m\u001b[1;32m      5\u001b[0m \u001b[0;32mfrom\u001b[0m \u001b[0;34m.\u001b[0m \u001b[0;32mimport\u001b[0m \u001b[0mpos\u001b[0m\u001b[0;34m\u001b[0m\u001b[0;34m\u001b[0m\u001b[0m\n\u001b[1;32m      6\u001b[0m \u001b[0;32mfrom\u001b[0m \u001b[0;34m.\u001b[0m \u001b[0;32mimport\u001b[0m \u001b[0mtxn\u001b[0m\u001b[0;34m\u001b[0m\u001b[0;34m\u001b[0m\u001b[0m\n",
      "\u001b[0;32m~/opt/anaconda3/lib/python3.9/site-packages/pyfolio/timeseries.py\u001b[0m in \u001b[0;36m<module>\u001b[0;34m\u001b[0m\n\u001b[1;32m     23\u001b[0m \u001b[0;32mimport\u001b[0m \u001b[0mscipy\u001b[0m \u001b[0;32mas\u001b[0m \u001b[0msp\u001b[0m\u001b[0;34m\u001b[0m\u001b[0;34m\u001b[0m\u001b[0m\n\u001b[1;32m     24\u001b[0m \u001b[0;32mimport\u001b[0m \u001b[0mscipy\u001b[0m\u001b[0;34m.\u001b[0m\u001b[0mstats\u001b[0m \u001b[0;32mas\u001b[0m \u001b[0mstats\u001b[0m\u001b[0;34m\u001b[0m\u001b[0;34m\u001b[0m\u001b[0m\n\u001b[0;32m---> 25\u001b[0;31m \u001b[0;32mfrom\u001b[0m \u001b[0msklearn\u001b[0m \u001b[0;32mimport\u001b[0m \u001b[0mlinear_model\u001b[0m\u001b[0;34m\u001b[0m\u001b[0;34m\u001b[0m\u001b[0m\n\u001b[0m\u001b[1;32m     26\u001b[0m \u001b[0;34m\u001b[0m\u001b[0m\n\u001b[1;32m     27\u001b[0m \u001b[0;32mfrom\u001b[0m \u001b[0;34m.\u001b[0m\u001b[0mdeprecate\u001b[0m \u001b[0;32mimport\u001b[0m \u001b[0mdeprecated\u001b[0m\u001b[0;34m\u001b[0m\u001b[0;34m\u001b[0m\u001b[0m\n",
      "\u001b[0;32m~/.local/lib/python3.9/site-packages/sklearn/__init__.py\u001b[0m in \u001b[0;36m<module>\u001b[0;34m\u001b[0m\n\u001b[1;32m     79\u001b[0m     \u001b[0;31m# it and importing it first would fail if the OpenMP dll cannot be found.\u001b[0m\u001b[0;34m\u001b[0m\u001b[0;34m\u001b[0m\u001b[0m\n\u001b[1;32m     80\u001b[0m     \u001b[0;32mfrom\u001b[0m \u001b[0;34m.\u001b[0m \u001b[0;32mimport\u001b[0m \u001b[0m_distributor_init\u001b[0m  \u001b[0;31m# noqa: F401\u001b[0m\u001b[0;34m\u001b[0m\u001b[0;34m\u001b[0m\u001b[0m\n\u001b[0;32m---> 81\u001b[0;31m     \u001b[0;32mfrom\u001b[0m \u001b[0;34m.\u001b[0m \u001b[0;32mimport\u001b[0m \u001b[0m__check_build\u001b[0m  \u001b[0;31m# noqa: F401\u001b[0m\u001b[0;34m\u001b[0m\u001b[0;34m\u001b[0m\u001b[0m\n\u001b[0m\u001b[1;32m     82\u001b[0m     \u001b[0;32mfrom\u001b[0m \u001b[0;34m.\u001b[0m\u001b[0mbase\u001b[0m \u001b[0;32mimport\u001b[0m \u001b[0mclone\u001b[0m\u001b[0;34m\u001b[0m\u001b[0;34m\u001b[0m\u001b[0m\n\u001b[1;32m     83\u001b[0m     \u001b[0;32mfrom\u001b[0m \u001b[0;34m.\u001b[0m\u001b[0mutils\u001b[0m\u001b[0;34m.\u001b[0m\u001b[0m_show_versions\u001b[0m \u001b[0;32mimport\u001b[0m \u001b[0mshow_versions\u001b[0m\u001b[0;34m\u001b[0m\u001b[0;34m\u001b[0m\u001b[0m\n",
      "\u001b[0;32m~/.local/lib/python3.9/site-packages/sklearn/__check_build/__init__.py\u001b[0m in \u001b[0;36m<module>\u001b[0;34m\u001b[0m\n\u001b[1;32m     48\u001b[0m     \u001b[0;32mfrom\u001b[0m \u001b[0;34m.\u001b[0m\u001b[0m_check_build\u001b[0m \u001b[0;32mimport\u001b[0m \u001b[0mcheck_build\u001b[0m  \u001b[0;31m# noqa\u001b[0m\u001b[0;34m\u001b[0m\u001b[0;34m\u001b[0m\u001b[0m\n\u001b[1;32m     49\u001b[0m \u001b[0;32mexcept\u001b[0m \u001b[0mImportError\u001b[0m \u001b[0;32mas\u001b[0m \u001b[0me\u001b[0m\u001b[0;34m:\u001b[0m\u001b[0;34m\u001b[0m\u001b[0;34m\u001b[0m\u001b[0m\n\u001b[0;32m---> 50\u001b[0;31m     \u001b[0mraise_build_error\u001b[0m\u001b[0;34m(\u001b[0m\u001b[0me\u001b[0m\u001b[0;34m)\u001b[0m\u001b[0;34m\u001b[0m\u001b[0;34m\u001b[0m\u001b[0m\n\u001b[0m",
      "\u001b[0;32m~/.local/lib/python3.9/site-packages/sklearn/__check_build/__init__.py\u001b[0m in \u001b[0;36mraise_build_error\u001b[0;34m(e)\u001b[0m\n\u001b[1;32m     29\u001b[0m         \u001b[0;32melse\u001b[0m\u001b[0;34m:\u001b[0m\u001b[0;34m\u001b[0m\u001b[0;34m\u001b[0m\u001b[0m\n\u001b[1;32m     30\u001b[0m             \u001b[0mdir_content\u001b[0m\u001b[0;34m.\u001b[0m\u001b[0mappend\u001b[0m\u001b[0;34m(\u001b[0m\u001b[0mfilename\u001b[0m \u001b[0;34m+\u001b[0m \u001b[0;34m\"\\n\"\u001b[0m\u001b[0;34m)\u001b[0m\u001b[0;34m\u001b[0m\u001b[0;34m\u001b[0m\u001b[0m\n\u001b[0;32m---> 31\u001b[0;31m     raise ImportError(\n\u001b[0m\u001b[1;32m     32\u001b[0m         \"\"\"%s\n\u001b[1;32m     33\u001b[0m \u001b[0m___________________________________________________________________________\u001b[0m\u001b[0;34m\u001b[0m\u001b[0;34m\u001b[0m\u001b[0m\n",
      "\u001b[0;31mImportError\u001b[0m: dlopen(/Users/taewon/.local/lib/python3.9/site-packages/sklearn/__check_build/_check_build.cpython-39-darwin.so, 0x0002): tried: '/Users/taewon/.local/lib/python3.9/site-packages/sklearn/__check_build/_check_build.cpython-39-darwin.so' (mach-o file, but is an incompatible architecture (have 'arm64', need 'x86_64')), '/System/Volumes/Preboot/Cryptexes/OS/Users/taewon/.local/lib/python3.9/site-packages/sklearn/__check_build/_check_build.cpython-39-darwin.so' (no such file), '/Users/taewon/.local/lib/python3.9/site-packages/sklearn/__check_build/_check_build.cpython-39-darwin.so' (mach-o file, but is an incompatible architecture (have 'arm64', need 'x86_64'))\n___________________________________________________________________________\nContents of /Users/taewon/.local/lib/python3.9/site-packages/sklearn/__check_build:\n__init__.py               __pycache__               _check_build.cpython-39-darwin.so\nsetup.py\n___________________________________________________________________________\nIt seems that scikit-learn has not been built correctly.\n\nIf you have installed scikit-learn from source, please do not forget\nto build the package before using it: run `python setup.py install` or\n`make` in the source directory.\n\nIf you have used an installer, please check that it is suited for your\nPython version, your operating system and your platform."
     ]
    }
   ],
   "source": [
    "import yfinance as yf\n",
    "import numpy as np\n",
    "import pandas as pd\n",
    "import pyfolio as pf\n",
    "\n",
    "RISKY_ASSETS = ['AAPL', 'IBM', 'MSFT', 'TWTR']\n",
    "START_DATE = '2020-01-01'\n",
    "END_DATE = '2021-12-31'\n",
    "\n",
    "n_assets = len(RISKY_ASSETS)\n",
    "\n",
    "prices_df = yf.download(RISKY_ASSETS, start=START_DATE, \n",
    "                        end=END_DATE, adjusted=True)\n",
    "print(f'Downloaded {prices_df.shape[0]} rows of data.')\n",
    "prices_df['Adj Close'].plot(title='Stock prices of the considered assets')"
   ]
  },
  {
   "cell_type": "code",
   "execution_count": 53,
   "id": "ee1656eb",
   "metadata": {},
   "outputs": [
    {
     "ename": "ImportError",
     "evalue": "dlopen(/Users/taewon/.local/lib/python3.9/site-packages/sklearn/__check_build/_check_build.cpython-39-darwin.so, 0x0002): tried: '/Users/taewon/.local/lib/python3.9/site-packages/sklearn/__check_build/_check_build.cpython-39-darwin.so' (mach-o file, but is an incompatible architecture (have 'arm64', need 'x86_64')), '/System/Volumes/Preboot/Cryptexes/OS/Users/taewon/.local/lib/python3.9/site-packages/sklearn/__check_build/_check_build.cpython-39-darwin.so' (no such file), '/Users/taewon/.local/lib/python3.9/site-packages/sklearn/__check_build/_check_build.cpython-39-darwin.so' (mach-o file, but is an incompatible architecture (have 'arm64', need 'x86_64'))\n___________________________________________________________________________\nContents of /Users/taewon/.local/lib/python3.9/site-packages/sklearn/__check_build:\n__init__.py               __pycache__               _check_build.cpython-39-darwin.so\nsetup.py\n___________________________________________________________________________\nIt seems that scikit-learn has not been built correctly.\n\nIf you have installed scikit-learn from source, please do not forget\nto build the package before using it: run `python setup.py install` or\n`make` in the source directory.\n\nIf you have used an installer, please check that it is suited for your\nPython version, your operating system and your platform.",
     "output_type": "error",
     "traceback": [
      "\u001b[0;31m---------------------------------------------------------------------------\u001b[0m",
      "\u001b[0;31mImportError\u001b[0m                               Traceback (most recent call last)",
      "\u001b[0;32m~/.local/lib/python3.9/site-packages/sklearn/__check_build/__init__.py\u001b[0m in \u001b[0;36m<module>\u001b[0;34m\u001b[0m\n\u001b[1;32m     47\u001b[0m \u001b[0;32mtry\u001b[0m\u001b[0;34m:\u001b[0m\u001b[0;34m\u001b[0m\u001b[0;34m\u001b[0m\u001b[0m\n\u001b[0;32m---> 48\u001b[0;31m     \u001b[0;32mfrom\u001b[0m \u001b[0;34m.\u001b[0m\u001b[0m_check_build\u001b[0m \u001b[0;32mimport\u001b[0m \u001b[0mcheck_build\u001b[0m  \u001b[0;31m# noqa\u001b[0m\u001b[0;34m\u001b[0m\u001b[0;34m\u001b[0m\u001b[0m\n\u001b[0m\u001b[1;32m     49\u001b[0m \u001b[0;32mexcept\u001b[0m \u001b[0mImportError\u001b[0m \u001b[0;32mas\u001b[0m \u001b[0me\u001b[0m\u001b[0;34m:\u001b[0m\u001b[0;34m\u001b[0m\u001b[0;34m\u001b[0m\u001b[0m\n",
      "\u001b[0;31mImportError\u001b[0m: dlopen(/Users/taewon/.local/lib/python3.9/site-packages/sklearn/__check_build/_check_build.cpython-39-darwin.so, 0x0002): tried: '/Users/taewon/.local/lib/python3.9/site-packages/sklearn/__check_build/_check_build.cpython-39-darwin.so' (mach-o file, but is an incompatible architecture (have 'arm64', need 'x86_64')), '/System/Volumes/Preboot/Cryptexes/OS/Users/taewon/.local/lib/python3.9/site-packages/sklearn/__check_build/_check_build.cpython-39-darwin.so' (no such file), '/Users/taewon/.local/lib/python3.9/site-packages/sklearn/__check_build/_check_build.cpython-39-darwin.so' (mach-o file, but is an incompatible architecture (have 'arm64', need 'x86_64'))",
      "\nDuring handling of the above exception, another exception occurred:\n",
      "\u001b[0;31mImportError\u001b[0m                               Traceback (most recent call last)",
      "\u001b[0;32m/var/folders/28/yz261nq91vq_lj47hynw_10r0000gn/T/ipykernel_36389/2866494768.py\u001b[0m in \u001b[0;36m<module>\u001b[0;34m\u001b[0m\n\u001b[1;32m      2\u001b[0m \u001b[0;32mimport\u001b[0m \u001b[0mnumpy\u001b[0m \u001b[0;32mas\u001b[0m \u001b[0mnp\u001b[0m\u001b[0;34m\u001b[0m\u001b[0;34m\u001b[0m\u001b[0m\n\u001b[1;32m      3\u001b[0m \u001b[0;32mimport\u001b[0m \u001b[0mpandas\u001b[0m \u001b[0;32mas\u001b[0m \u001b[0mpd\u001b[0m\u001b[0;34m\u001b[0m\u001b[0;34m\u001b[0m\u001b[0m\n\u001b[0;32m----> 4\u001b[0;31m \u001b[0;32mimport\u001b[0m \u001b[0mpyfolio\u001b[0m \u001b[0;32mas\u001b[0m \u001b[0mpf\u001b[0m\u001b[0;34m\u001b[0m\u001b[0;34m\u001b[0m\u001b[0m\n\u001b[0m",
      "\u001b[0;32m~/opt/anaconda3/lib/python3.9/site-packages/pyfolio/__init__.py\u001b[0m in \u001b[0;36m<module>\u001b[0;34m\u001b[0m\n\u001b[1;32m      2\u001b[0m \u001b[0;34m\u001b[0m\u001b[0m\n\u001b[1;32m      3\u001b[0m \u001b[0;32mfrom\u001b[0m \u001b[0;34m.\u001b[0m \u001b[0;32mimport\u001b[0m \u001b[0mutils\u001b[0m\u001b[0;34m\u001b[0m\u001b[0;34m\u001b[0m\u001b[0m\n\u001b[0;32m----> 4\u001b[0;31m \u001b[0;32mfrom\u001b[0m \u001b[0;34m.\u001b[0m \u001b[0;32mimport\u001b[0m \u001b[0mtimeseries\u001b[0m\u001b[0;34m\u001b[0m\u001b[0;34m\u001b[0m\u001b[0m\n\u001b[0m\u001b[1;32m      5\u001b[0m \u001b[0;32mfrom\u001b[0m \u001b[0;34m.\u001b[0m \u001b[0;32mimport\u001b[0m \u001b[0mpos\u001b[0m\u001b[0;34m\u001b[0m\u001b[0;34m\u001b[0m\u001b[0m\n\u001b[1;32m      6\u001b[0m \u001b[0;32mfrom\u001b[0m \u001b[0;34m.\u001b[0m \u001b[0;32mimport\u001b[0m \u001b[0mtxn\u001b[0m\u001b[0;34m\u001b[0m\u001b[0;34m\u001b[0m\u001b[0m\n",
      "\u001b[0;32m~/opt/anaconda3/lib/python3.9/site-packages/pyfolio/timeseries.py\u001b[0m in \u001b[0;36m<module>\u001b[0;34m\u001b[0m\n\u001b[1;32m     23\u001b[0m \u001b[0;32mimport\u001b[0m \u001b[0mscipy\u001b[0m \u001b[0;32mas\u001b[0m \u001b[0msp\u001b[0m\u001b[0;34m\u001b[0m\u001b[0;34m\u001b[0m\u001b[0m\n\u001b[1;32m     24\u001b[0m \u001b[0;32mimport\u001b[0m \u001b[0mscipy\u001b[0m\u001b[0;34m.\u001b[0m\u001b[0mstats\u001b[0m \u001b[0;32mas\u001b[0m \u001b[0mstats\u001b[0m\u001b[0;34m\u001b[0m\u001b[0;34m\u001b[0m\u001b[0m\n\u001b[0;32m---> 25\u001b[0;31m \u001b[0;32mfrom\u001b[0m \u001b[0msklearn\u001b[0m \u001b[0;32mimport\u001b[0m \u001b[0mlinear_model\u001b[0m\u001b[0;34m\u001b[0m\u001b[0;34m\u001b[0m\u001b[0m\n\u001b[0m\u001b[1;32m     26\u001b[0m \u001b[0;34m\u001b[0m\u001b[0m\n\u001b[1;32m     27\u001b[0m \u001b[0;32mfrom\u001b[0m \u001b[0;34m.\u001b[0m\u001b[0mdeprecate\u001b[0m \u001b[0;32mimport\u001b[0m \u001b[0mdeprecated\u001b[0m\u001b[0;34m\u001b[0m\u001b[0;34m\u001b[0m\u001b[0m\n",
      "\u001b[0;32m~/.local/lib/python3.9/site-packages/sklearn/__init__.py\u001b[0m in \u001b[0;36m<module>\u001b[0;34m\u001b[0m\n\u001b[1;32m     79\u001b[0m     \u001b[0;31m# it and importing it first would fail if the OpenMP dll cannot be found.\u001b[0m\u001b[0;34m\u001b[0m\u001b[0;34m\u001b[0m\u001b[0m\n\u001b[1;32m     80\u001b[0m     \u001b[0;32mfrom\u001b[0m \u001b[0;34m.\u001b[0m \u001b[0;32mimport\u001b[0m \u001b[0m_distributor_init\u001b[0m  \u001b[0;31m# noqa: F401\u001b[0m\u001b[0;34m\u001b[0m\u001b[0;34m\u001b[0m\u001b[0m\n\u001b[0;32m---> 81\u001b[0;31m     \u001b[0;32mfrom\u001b[0m \u001b[0;34m.\u001b[0m \u001b[0;32mimport\u001b[0m \u001b[0m__check_build\u001b[0m  \u001b[0;31m# noqa: F401\u001b[0m\u001b[0;34m\u001b[0m\u001b[0;34m\u001b[0m\u001b[0m\n\u001b[0m\u001b[1;32m     82\u001b[0m     \u001b[0;32mfrom\u001b[0m \u001b[0;34m.\u001b[0m\u001b[0mbase\u001b[0m \u001b[0;32mimport\u001b[0m \u001b[0mclone\u001b[0m\u001b[0;34m\u001b[0m\u001b[0;34m\u001b[0m\u001b[0m\n\u001b[1;32m     83\u001b[0m     \u001b[0;32mfrom\u001b[0m \u001b[0;34m.\u001b[0m\u001b[0mutils\u001b[0m\u001b[0;34m.\u001b[0m\u001b[0m_show_versions\u001b[0m \u001b[0;32mimport\u001b[0m \u001b[0mshow_versions\u001b[0m\u001b[0;34m\u001b[0m\u001b[0;34m\u001b[0m\u001b[0m\n",
      "\u001b[0;32m~/.local/lib/python3.9/site-packages/sklearn/__check_build/__init__.py\u001b[0m in \u001b[0;36m<module>\u001b[0;34m\u001b[0m\n\u001b[1;32m     48\u001b[0m     \u001b[0;32mfrom\u001b[0m \u001b[0;34m.\u001b[0m\u001b[0m_check_build\u001b[0m \u001b[0;32mimport\u001b[0m \u001b[0mcheck_build\u001b[0m  \u001b[0;31m# noqa\u001b[0m\u001b[0;34m\u001b[0m\u001b[0;34m\u001b[0m\u001b[0m\n\u001b[1;32m     49\u001b[0m \u001b[0;32mexcept\u001b[0m \u001b[0mImportError\u001b[0m \u001b[0;32mas\u001b[0m \u001b[0me\u001b[0m\u001b[0;34m:\u001b[0m\u001b[0;34m\u001b[0m\u001b[0;34m\u001b[0m\u001b[0m\n\u001b[0;32m---> 50\u001b[0;31m     \u001b[0mraise_build_error\u001b[0m\u001b[0;34m(\u001b[0m\u001b[0me\u001b[0m\u001b[0;34m)\u001b[0m\u001b[0;34m\u001b[0m\u001b[0;34m\u001b[0m\u001b[0m\n\u001b[0m",
      "\u001b[0;32m~/.local/lib/python3.9/site-packages/sklearn/__check_build/__init__.py\u001b[0m in \u001b[0;36mraise_build_error\u001b[0;34m(e)\u001b[0m\n\u001b[1;32m     29\u001b[0m         \u001b[0;32melse\u001b[0m\u001b[0;34m:\u001b[0m\u001b[0;34m\u001b[0m\u001b[0;34m\u001b[0m\u001b[0m\n\u001b[1;32m     30\u001b[0m             \u001b[0mdir_content\u001b[0m\u001b[0;34m.\u001b[0m\u001b[0mappend\u001b[0m\u001b[0;34m(\u001b[0m\u001b[0mfilename\u001b[0m \u001b[0;34m+\u001b[0m \u001b[0;34m\"\\n\"\u001b[0m\u001b[0;34m)\u001b[0m\u001b[0;34m\u001b[0m\u001b[0;34m\u001b[0m\u001b[0m\n\u001b[0;32m---> 31\u001b[0;31m     raise ImportError(\n\u001b[0m\u001b[1;32m     32\u001b[0m         \"\"\"%s\n\u001b[1;32m     33\u001b[0m \u001b[0m___________________________________________________________________________\u001b[0m\u001b[0;34m\u001b[0m\u001b[0;34m\u001b[0m\u001b[0m\n",
      "\u001b[0;31mImportError\u001b[0m: dlopen(/Users/taewon/.local/lib/python3.9/site-packages/sklearn/__check_build/_check_build.cpython-39-darwin.so, 0x0002): tried: '/Users/taewon/.local/lib/python3.9/site-packages/sklearn/__check_build/_check_build.cpython-39-darwin.so' (mach-o file, but is an incompatible architecture (have 'arm64', need 'x86_64')), '/System/Volumes/Preboot/Cryptexes/OS/Users/taewon/.local/lib/python3.9/site-packages/sklearn/__check_build/_check_build.cpython-39-darwin.so' (no such file), '/Users/taewon/.local/lib/python3.9/site-packages/sklearn/__check_build/_check_build.cpython-39-darwin.so' (mach-o file, but is an incompatible architecture (have 'arm64', need 'x86_64'))\n___________________________________________________________________________\nContents of /Users/taewon/.local/lib/python3.9/site-packages/sklearn/__check_build:\n__init__.py               __pycache__               _check_build.cpython-39-darwin.so\nsetup.py\n___________________________________________________________________________\nIt seems that scikit-learn has not been built correctly.\n\nIf you have installed scikit-learn from source, please do not forget\nto build the package before using it: run `python setup.py install` or\n`make` in the source directory.\n\nIf you have used an installer, please check that it is suited for your\nPython version, your operating system and your platform."
     ]
    }
   ],
   "source": [
    "import yfinance as yf\n",
    "import numpy as np\n",
    "import pandas as pd\n",
    "import pyfolio as pf"
   ]
  },
  {
   "cell_type": "code",
   "execution_count": null,
   "id": "b22fc316",
   "metadata": {},
   "outputs": [],
   "source": []
  }
 ],
 "metadata": {
  "kernelspec": {
   "display_name": "Python 3 (ipykernel)",
   "language": "python",
   "name": "python3"
  },
  "language_info": {
   "codemirror_mode": {
    "name": "ipython",
    "version": 3
   },
   "file_extension": ".py",
   "mimetype": "text/x-python",
   "name": "python",
   "nbconvert_exporter": "python",
   "pygments_lexer": "ipython3",
   "version": "3.9.13"
  }
 },
 "nbformat": 4,
 "nbformat_minor": 5
}
