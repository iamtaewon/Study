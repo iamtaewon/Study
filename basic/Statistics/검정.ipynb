{
 "cells": [
  {
   "cell_type": "markdown",
   "metadata": {},
   "source": [
    "## 통계분석\n",
    "-\t차이검정\n",
    "    - T – 검정\n",
    "        - 일표본 t-검정(One-sample t-test) : 단일모집단 모평균 검정\n",
    "        - 독립표본 t-검정(Independent-sample-t-test)\n",
    "        - 대응표본 t-검정(Paired-samples t-test)\n",
    "    - ANOVA\n",
    "        - 일원분산분석(one-way ANOVA, 일변량분석)\n",
    "        - 이원분산분석(two-way ANOVA)\n",
    "        - 다원변량분산분석(MANOVA), 공분산 분석(ANCOVA)\n",
    "-\t관계검정\n",
    "    - 상관분석\n",
    "        - Pearson, Spearman’s rho, Kendall tau\n",
    "        - 편상관관계\n",
    "        - 양분 상관관계\n",
    "    - 회귀분석\n",
    "        - Simple linear regression\n",
    "        - Multiple Regression Analysis\n",
    "        - Logistic Regression Analysis\n",
    "        - Hierarchical Multiple Regression Analysis\n",
    "    - 교차분석(카이제곱 검정)\n",
    "        - 명목형 변수 간 연관성 검증방법\n",
    "\n",
    "##### 차이검정\n",
    "-\t집단(집단 2개 이내) 평균차이 검정 -> t검정\n",
    "-\t분산(집단 3개) 차이 검정 -> ANOVA 분석\n",
    "##### 관계검정\n",
    "-\t상관분석 : 연속변수 + 연속변수, 두 변수간 선형관계\n",
    "-\t회귀분석 : 연속변수, 연속변수, 변수간 인과관계\n",
    "-\t교차분석 : 명목형변수(범주형 변수) 간 빈도이용 연관성 분석"
   ]
  },
  {
   "cell_type": "markdown",
   "metadata": {},
   "source": []
  }
 ],
 "metadata": {
  "language_info": {
   "name": "python"
  },
  "orig_nbformat": 4
 },
 "nbformat": 4,
 "nbformat_minor": 2
}
