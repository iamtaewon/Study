{
 "cells": [
  {
   "cell_type": "markdown",
   "id": "928c103e",
   "metadata": {},
   "source": [
    "# 분산도 이해"
   ]
  },
  {
   "cell_type": "code",
   "execution_count": 3,
   "id": "9fde9fa5",
   "metadata": {},
   "outputs": [],
   "source": [
    "# 필요한 라이브러리 호출\n",
    "import pandas as pd\n",
    "import matplotlib.pyplot as plt\n",
    "import numpy as np\n",
    "import seaborn as sns\n",
    "# 한글폰트 출력 가능 코드\n",
    "from matplotlib import rc\n",
    "rc('font', family='AppleGothic') # Mac Os\n",
    "plt.rcParams['axes.unicode_minus'] = False\n",
    "\n",
    "path = '../dataset/'"
   ]
  },
  {
   "cell_type": "markdown",
   "id": "14918591",
   "metadata": {},
   "source": [
    "## 1. Simple Data 형성"
   ]
  },
  {
   "cell_type": "code",
   "execution_count": 4,
   "id": "4c8a013a",
   "metadata": {},
   "outputs": [
    {
     "name": "stdout",
     "output_type": "stream",
     "text": [
      "[ 6 12 13  9 10 12  6 16  1 17  2 13]\n"
     ]
    }
   ],
   "source": [
    "# 데이터 랜덤하게 형성 (Seed 부여)\n",
    "np.random.seed(1)\n",
    "\n",
    "# 12개월 동안 발생한 특정 지역 A의 범죄 건수라고 가정 (중심도 이해와 동일)\n",
    "x = np.random.randint(1,20,12)\n",
    "print(x)"
   ]
  },
  {
   "cell_type": "markdown",
   "id": "6cc057ee",
   "metadata": {},
   "source": [
    "### 1-1. 데이터 시각화"
   ]
  },
  {
   "cell_type": "code",
   "execution_count": 5,
   "id": "f5a37c51",
   "metadata": {},
   "outputs": [
    {
     "data": {
      "image/png": "[encoded data removed]",
      "text/plain": [
       "<Figure size 640x480 with 1 Axes>"
      ]
     },
     "metadata": {},
     "output_type": "display_data"
    }
   ],
   "source": [
    "# 데이터 보기 (시각화로 각 원소별 개수를 출력)\n",
    "\n",
    "sns.barplot(x= list(map(lambda x: x , range(1,13))), y=x)\n",
    "plt.title('월별 범죄 건수')\n",
    "plt.xlabel('월')\n",
    "plt.grid(axis='y')\n",
    "plt.show()"
   ]
  },
  {
   "cell_type": "markdown",
   "id": "3e14d177",
   "metadata": {},
   "source": [
    "### 1-2. 분산도 이해\n",
    "#### A. 범위"
   ]
  },
  {
   "cell_type": "code",
   "execution_count": 10,
   "id": "aebc8a1c",
   "metadata": {},
   "outputs": [
    {
     "name": "stdout",
     "output_type": "stream",
     "text": [
      "오름차순 정렬한 값 : [1, 2, 6, 6, 9, 10, 12, 12, 13, 13, 16, 17]\n",
      "최소값 : 1\n",
      "최대값 : 17\n"
     ]
    }
   ],
   "source": [
    "# 오름차순 정렬\n",
    "tmp_data = sorted(x)\n",
    "print(f'오름차순 정렬한 값 : {tmp_data}')\n",
    "\n",
    "# 최소값과 최대값 출력\n",
    "print(f'최소값 : {tmp_data[0]}')\n",
    "print(f'최대값 : {tmp_data[-1]}')"
   ]
  },
  {
   "cell_type": "code",
   "execution_count": 12,
   "id": "a6c3b019",
   "metadata": {},
   "outputs": [
    {
     "name": "stdout",
     "output_type": "stream",
     "text": [
      "특정 지역 A의 범죄 건수 데이터 : [6, 12, 13, 9, 10, 12, 6, 16, 1, 17, 2, 13]\n",
      "최소값 : 1\n",
      "최대값 : 17\n",
      "특정 지역 A의 범죄 건수 데이터의 범위는 최소 1에서 17로 16의 범위를 가지고 있습니다.\n"
     ]
    }
   ],
   "source": [
    "# max, min 메서드 활용\n",
    "print(f'특정 지역 A의 범죄 건수 데이터 : {x.tolist()}')\n",
    "\n",
    "print(f'최소값 : {min(x)}')\n",
    "print(f'최대값 : {max(x)}')\n",
    "\n",
    "# 따라서 범위는 최대값 - 최소값으로 출력할 수 있음\n",
    "print(f'특정 지역 A의 범죄 건수 데이터의 범위는 최소 {min(x)}에서 {max(x)}로 {round(max(x) - min(x),2)}의 범위를 가지고 있습니다.')"
   ]
  },
  {
   "cell_type": "markdown",
   "id": "2a5fd7cb",
   "metadata": {},
   "source": [
    "#### B. 분산"
   ]
  },
  {
   "cell_type": "code",
   "execution_count": 14,
   "id": "df66effa",
   "metadata": {},
   "outputs": [
    {
     "name": "stdout",
     "output_type": "stream",
     "text": [
      "[1.40625e+01 5.06250e+00 1.05625e+01 5.62500e-01 6.25000e-02 5.06250e+00\n",
      " 1.40625e+01 3.90625e+01 7.65625e+01 5.25625e+01 6.00625e+01 1.05625e+01]\n",
      "편차의 제곱합의 평균, 즉 분산은 24.020833333333332입니다.\n"
     ]
    }
   ],
   "source": [
    "n = len(x)\n",
    "m = x.mean()\n",
    "\n",
    "# 제곱을 해주는 메서드 pow를 활용하여 편차의 제곱 도출\n",
    "# 편차 = 변량 - 평균\n",
    "print(pow(x-m, 2))\n",
    "resid = pow(x-m, 2)\n",
    "\n",
    "# 제곱합을 한 후, 변량의 개수로 나눠주면 분산 도출\n",
    "print(f'편차의 제곱합의 평균, 즉 분산은 {sum(resid)/n}입니다.')"
   ]
  },
  {
   "cell_type": "code",
   "execution_count": 15,
   "id": "f140f979",
   "metadata": {},
   "outputs": [
    {
     "data": {
      "text/plain": [
       "24.020833333333332"
      ]
     },
     "execution_count": 15,
     "metadata": {},
     "output_type": "execute_result"
    }
   ],
   "source": [
    "# numpy를 이용한 분산값 도출\n",
    "np.var(x)"
   ]
  },
  {
   "cell_type": "markdown",
   "id": "4474ecaa",
   "metadata": {},
   "source": [
    "#### C. 표준편차"
   ]
  },
  {
   "cell_type": "code",
   "execution_count": 16,
   "id": "cc87a414",
   "metadata": {},
   "outputs": [
    {
     "name": "stdout",
     "output_type": "stream",
     "text": [
      "4.90110531751087\n",
      "4.90110531751087\n"
     ]
    }
   ],
   "source": [
    "# 표준편차는 분산의 제곱근입니다. \n",
    "print(pow(np.var(x),1/2))\n",
    "\n",
    "# numpy의 std 메서드를 활용한 표준편차 도출\n",
    "print(np.std(x))"
   ]
  },
  {
   "cell_type": "markdown",
   "id": "8931651b",
   "metadata": {},
   "source": [
    "# 중심도 이해"
   ]
  },
  {
   "cell_type": "markdown",
   "id": "296141f4",
   "metadata": {},
   "source": [
    "## 1-1.평균 도출\n",
    "### A. 산술평균"
   ]
  },
  {
   "cell_type": "code",
   "execution_count": 17,
   "id": "bf1df698",
   "metadata": {},
   "outputs": [
    {
     "name": "stdout",
     "output_type": "stream",
     "text": [
      "9.75\n",
      "9.75\n",
      "10\n"
     ]
    }
   ],
   "source": [
    "# 데이터의 평균값을 도출해보기 (전체 합 / 전체 데이터 개수)\n",
    "print(x.sum()/len(x))\n",
    "print(x.mean())\n",
    "# 만약, 소수점을 출력하지 않는 경우 (round 반올림 함수 이용)\n",
    "print(round(x.mean()))"
   ]
  },
  {
   "cell_type": "markdown",
   "id": "facc71ce",
   "metadata": {},
   "source": [
    "### B. 기하평균"
   ]
  },
  {
   "cell_type": "code",
   "execution_count": 18,
   "id": "3007fe0c",
   "metadata": {},
   "outputs": [
    {
     "name": "stdout",
     "output_type": "stream",
     "text": [
      "1월 대비 2월의 범죄건수 비율은 약  200.00% 입니다.\n",
      "2월 대비 3월의 범죄건수 비율은 약  108.33% 입니다.\n",
      "3월 대비 4월의 범죄건수 비율은 약  69.23% 입니다.\n",
      "4월 대비 5월의 범죄건수 비율은 약  111.11% 입니다.\n",
      "5월 대비 6월의 범죄건수 비율은 약  120.00% 입니다.\n",
      "6월 대비 7월의 범죄건수 비율은 약  50.00% 입니다.\n",
      "7월 대비 8월의 범죄건수 비율은 약  266.67% 입니다.\n",
      "8월 대비 9월의 범죄건수 비율은 약  6.25% 입니다.\n",
      "9월 대비 10월의 범죄건수 비율은 약  1700.00% 입니다.\n",
      "10월 대비 11월의 범죄건수 비율은 약  11.76% 입니다.\n",
      "11월 대비 12월의 범죄건수 비율은 약  650.00% 입니다.\n"
     ]
    }
   ],
   "source": [
    "# 변화율 도출하기 (월별 범죄 건수가 얼마의 비율로 변화되었는지)\n",
    "\n",
    "rate = []\n",
    "for i in range(len(x)-1):\n",
    "    rate.append((( (x[i+1]) / x[i] )))\n",
    "    \n",
    "for i in range(11):\n",
    "    print(f'{i+1}월 대비 {i+2}월의 범죄건수 비율은 약 {rate[i]*100 : .2f}% 입니다.')\n"
   ]
  },
  {
   "cell_type": "code",
   "execution_count": 19,
   "id": "816a04b8",
   "metadata": {},
   "outputs": [
    {
     "name": "stdout",
     "output_type": "stream",
     "text": [
      "변화율의 모든 값을 곱하면 2.166666666666666가 됩니다.\n",
      "해당 데이터의 기하평균(=평균 증가율) 값은 약 107.28192428296298% 입니다.\n"
     ]
    }
   ],
   "source": [
    "# 변수 설정 (simple data x는 동일)\n",
    "# 곱셈에 대한 항등원 1\n",
    "mulScores = 1\n",
    "\n",
    "# 항목들로 반복 (rate의 모든 항목을 곱셈하기 위한 코드)\n",
    "for item in rate:\n",
    "    mulScores *= item\n",
    "print(f'변화율의 모든 값을 곱하면 {mulScores}가 됩니다.')\n",
    "\n",
    "# 제곱 연산자 '**'로 기하평균을 도출\n",
    "geometricMean1 = mulScores ** (1/len(rate))\n",
    "print(f'해당 데이터의 기하평균(=평균 증가율) 값은 약 {geometricMean1*100}% 입니다.')"
   ]
  },
  {
   "cell_type": "markdown",
   "id": "008fe598",
   "metadata": {},
   "source": [
    "### C. 가중평균"
   ]
  },
  {
   "cell_type": "code",
   "execution_count": 21,
   "id": "397c0137",
   "metadata": {},
   "outputs": [
    {
     "name": "stdout",
     "output_type": "stream",
     "text": [
      "가중치 : [2 1 2 1 2 2 1 4 1 3 1 1]\n",
      "범죄 건수: [ 6 12 13  9 10 12  6 16  1 17  2 13]\n",
      "범죄 건수의 범죄 피해 수준에 대한 가중평균 값: 11.428571428571429\n"
     ]
    }
   ],
   "source": [
    "# 가중치도 랜덤으로 설정합니다. (각 의미는 범죄의 피해수준으로 가정해봅니다.)\n",
    "np.random.seed(2022)\n",
    "weight = np.random.randint(1, 5, 12)\n",
    "\n",
    "print('가중치 :',weight)\n",
    "print('범죄 건수:',x)\n",
    "print('범죄 건수의 범죄 피해 수준에 대한 가중평균 값:', sum(x * weight)/sum(weight))"
   ]
  },
  {
   "cell_type": "markdown",
   "id": "65bde7cb",
   "metadata": {},
   "source": [
    "### D. 절사평균\n"
   ]
  },
  {
   "cell_type": "code",
   "execution_count": 23,
   "id": "2f44f2e7",
   "metadata": {},
   "outputs": [
    {
     "name": "stdout",
     "output_type": "stream",
     "text": [
      "5.0% 비율로 절사한 후 data는 [2, 6, 6, 9, 10, 12, 12, 13, 13, 16]입니다.\n",
      "5.0% 비율로 절사한 후 data의 평균은 9.9입니다.\n"
     ]
    }
   ],
   "source": [
    "# 인덱스 슬라이싱을 적용하여 tem_data 내에서 절사 시행\n",
    "# 변수 설정 (양 극단 5%의 데이터 제외)\n",
    "cut = 0.05\n",
    "n = len(x)\n",
    "tem_data = sorted(x)\n",
    "cut_data = round(n * cut)\n",
    "\n",
    "# 인덱싱 데이터 출력\n",
    "print(f'{cut*100}% 비율로 절사한 후 data는 {tem_data[cut_data : -cut_data]}입니다.')\n",
    "\n",
    "# 인덱싱 후 데이터의 평균 출력\n",
    "print(f'{cut*100}% 비율로 절사한 후 data의 평균은 {np.mean(tem_data[cut_data : -cut_data])}입니다.')"
   ]
  },
  {
   "cell_type": "markdown",
   "id": "1aac82f9",
   "metadata": {},
   "source": [
    "## 1-2. 중위값 도출"
   ]
  },
  {
   "cell_type": "code",
   "execution_count": 24,
   "id": "b73007e2",
   "metadata": {},
   "outputs": [
    {
     "name": "stdout",
     "output_type": "stream",
     "text": [
      "[1, 2, 6, 6, 9, 10, 12, 12, 13, 13, 16, 17]\n",
      "6\n",
      "11.0\n",
      "11.0\n"
     ]
    }
   ],
   "source": [
    "# 하니씩 실행해보는 부분\n",
    "# 오름차순으로 정렬한 검거율 데이터를 따로 형성\n",
    "tem_data = sorted(x)\n",
    "print(tem_data)\n",
    "\n",
    "# 검거율 데이터의 기리이를 2로 나눈 몫을 출력\n",
    "center = len(tem_data) // 2\n",
    "print(center)\n",
    "\n",
    "# 인덱스로 접근하여 tem_data의 3번째 값과 -4번째 (=2번째) 값을 더한 후 2로 나눠준다.\n",
    "print((tem_data[center] + tem_data[-center - 1])/2)\n",
    "\n",
    "# np.median을 사용\n",
    "print(np.median(x))"
   ]
  },
  {
   "cell_type": "code",
   "execution_count": null,
   "id": "be480c48",
   "metadata": {},
   "outputs": [],
   "source": []
  }
 ],
 "metadata": {
  "kernelspec": {
   "display_name": "Python 3 (ipykernel)",
   "language": "python",
   "name": "python3"
  },
  "language_info": {
   "codemirror_mode": {
    "name": "ipython",
    "version": 3
   },
   "file_extension": ".py",
   "mimetype": "text/x-python",
   "name": "python",
   "nbconvert_exporter": "python",
   "pygments_lexer": "ipython3",
   "version": "3.9.13"
  }
 },
 "nbformat": 4,
 "nbformat_minor": 5
}
