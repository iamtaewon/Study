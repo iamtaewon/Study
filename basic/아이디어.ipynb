{
 "cells": [
  {
   "cell_type": "markdown",
   "id": "346b19b9",
   "metadata": {},
   "source": [
    "# 아이디어 Tank"
   ]
  },
  {
   "cell_type": "markdown",
   "id": "aa1c2d41",
   "metadata": {},
   "source": [
    "# 윤리\n",
    "## 윤리 TEST\n",
    "### 미래에 대한 예측(수요)"
   ]
  },
  {
   "cell_type": "code",
   "execution_count": 4,
   "id": "0a49d2aa",
   "metadata": {},
   "outputs": [],
   "source": [
    "# 향후 미래에는 기업의 윤리의식이 중요시 될 것이라고 생각\n",
    "# 기업의 채용과정에 윤리 Test를 추가\n",
    "# 더 나아가 기업 뿐만 아니라\n",
    "# test 점수에 따른 개인의 신용도/사회적 지위/직업 등에 영향을 미칠 수 있음\n",
    "# narrative 효과 필요"
   ]
  },
  {
   "cell_type": "markdown",
   "id": "e39baeb3",
   "metadata": {},
   "source": [
    "### 문제점"
   ]
  },
  {
   "cell_type": "code",
   "execution_count": 1,
   "id": "3214eb13",
   "metadata": {},
   "outputs": [],
   "source": [
    "# 현재 이미 많은 기업에서 윤리교육을 진행하고 있음\n",
    "# AI의 지속적인 학습이나 기타사항으로 인해\n",
    "# 윤리오류가 발생할 수 있으므로\n",
    "# 지속적인 관리/감독 필수\n",
    "# 수익성"
   ]
  },
  {
   "cell_type": "markdown",
   "id": "ac8180e6",
   "metadata": {},
   "source": [
    "### 가능성"
   ]
  },
  {
   "cell_type": "code",
   "execution_count": 3,
   "id": "cbcc06df",
   "metadata": {},
   "outputs": [],
   "source": [
    "# 채용과정에서 test를 진행하기 때문에\n",
    "# 윤리교육비용을 절감시킬 수 있음\n",
    "# 기업의 윤리관과 맞지 않는 인재를 사전에 선별 가능\n",
    "# AI, ML, DL 등 기술의 발달로 인해\n",
    "# 더 정확하고 정밀한 test 가능"
   ]
  },
  {
   "cell_type": "markdown",
   "id": "c20490f2",
   "metadata": {},
   "source": [
    "### 아이템"
   ]
  },
  {
   "cell_type": "code",
   "execution_count": null,
   "id": "9e8e62f8",
   "metadata": {},
   "outputs": [],
   "source": [
    "# test 참가자들의 표정, 목소리, 동공의 확장/수축 등을 분석하여\n",
    "# test의 정확도를 높임\n",
    "# 거짓 판별"
   ]
  },
  {
   "cell_type": "markdown",
   "id": "cf03c045",
   "metadata": {},
   "source": [
    "# 은행의 공공성 논란"
   ]
  },
  {
   "cell_type": "markdown",
   "id": "9d356786",
   "metadata": {},
   "source": [
    "### 문제점"
   ]
  },
  {
   "cell_type": "code",
   "execution_count": 2,
   "id": "0c21a192",
   "metadata": {},
   "outputs": [],
   "source": [
    "# 은행의 공공성\n",
    "# 금리 인상에 따라 5대 은행(국민,우리,신한,농협,하나)이 막대한 예대차익을 얻음\n",
    "# 가산금리의 문제점\n",
    "# 예금에 관한 보험료, 준비금 등을 대출이자(가산금리)에 포함시키는 것이 타당한가"
   ]
  },
  {
   "cell_type": "markdown",
   "id": "ecd3655b",
   "metadata": {},
   "source": [
    "### 은행의 대안"
   ]
  },
  {
   "cell_type": "code",
   "execution_count": null,
   "id": "5d62d496",
   "metadata": {},
   "outputs": [],
   "source": [
    "# 중금리 상품을 통해 금리 격차로 고통받는 금융 취약계층을 보호\n",
    "# --> 5대 은행의 중금리 대출은 오히려 줄음\n",
    "# 인터넷 전문 은행 관련 규제 완화 필요성 부각"
   ]
  },
  {
   "cell_type": "markdown",
   "id": "b1da2bb1",
   "metadata": {},
   "source": [
    "# 애견 관련 AI 사업"
   ]
  },
  {
   "cell_type": "markdown",
   "id": "c8308a43",
   "metadata": {},
   "source": [
    "## 예시"
   ]
  },
  {
   "cell_type": "code",
   "execution_count": 4,
   "id": "5732fe17",
   "metadata": {},
   "outputs": [],
   "source": [
    "# 애견의 질병을 진단해주는 AI\n",
    "# 애견의 꼬리 흔듬 정도, 표정, 짖는 소리의 강도 등에 따른\n",
    "# 애견의 기분 분석\n",
    "# 소통을 가능케 해주는 AI 시스템"
   ]
  },
  {
   "cell_type": "code",
   "execution_count": null,
   "id": "1f3ade88",
   "metadata": {},
   "outputs": [],
   "source": []
  }
 ],
 "metadata": {
  "kernelspec": {
   "display_name": "Python 3 (ipykernel)",
   "language": "python",
   "name": "python3"
  },
  "language_info": {
   "codemirror_mode": {
    "name": "ipython",
    "version": 3
   },
   "file_extension": ".py",
   "mimetype": "text/x-python",
   "name": "python",
   "nbconvert_exporter": "python",
   "pygments_lexer": "ipython3",
   "version": "3.9.13"
  }
 },
 "nbformat": 4,
 "nbformat_minor": 5
}
