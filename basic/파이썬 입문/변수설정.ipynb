{
 "cells": [
  {
   "cell_type": "markdown",
   "id": "6180fabd",
   "metadata": {},
   "source": [
    "# 변수 설정\n",
    "## 일상생활에서 복잡한 값을 프로그램을 작성할 때\n",
    "## 의미가 있는 값을 저장하거나 해당 값들을 가리키는 역할을 하는 것"
   ]
  },
  {
   "cell_type": "code",
   "execution_count": 1,
   "id": "a42e3c68",
   "metadata": {},
   "outputs": [],
   "source": [
    "# 변수명 입력하고 다음에 등호(=) 다음에 데이터 입력\n",
    "# 등호 표시(=) 파이썬에서는 바인딩(binding)을 의미 --> 가리키는 것 의미"
   ]
  },
  {
   "cell_type": "markdown",
   "id": "a506dc69",
   "metadata": {},
   "source": [
    "### 변수 설정시 주의사항"
   ]
  },
  {
   "cell_type": "code",
   "execution_count": 2,
   "id": "77d5e775",
   "metadata": {},
   "outputs": [],
   "source": [
    "# 다음의 경우\n",
    "# 1. 변수명 첫글자는 영어 또는 언더스코어(_)로 시작\n",
    "# 2. 숫자로 시작하는 변수명 사용 불가\n",
    "# 3. 변수명에 공백이 있는 경우 사용 불가 : 금융 빅데이터 = '최고'\n",
    "# 4. 기호로 시작하는 변수명 사용 불가\n",
    "# 5. 키워드(예약어)는 변수명으로 사용 불가"
   ]
  },
  {
   "cell_type": "markdown",
   "id": "c06bfed0",
   "metadata": {},
   "source": [
    "### 1) 대소문자 구분"
   ]
  },
  {
   "cell_type": "code",
   "execution_count": 3,
   "id": "5c48098c",
   "metadata": {},
   "outputs": [
    {
     "data": {
      "text/plain": [
       "5"
      ]
     },
     "execution_count": 3,
     "metadata": {},
     "output_type": "execute_result"
    }
   ],
   "source": [
    "ABC=5\n",
    "ABC"
   ]
  },
  {
   "cell_type": "code",
   "execution_count": 4,
   "id": "2f5c826e",
   "metadata": {},
   "outputs": [
    {
     "ename": "NameError",
     "evalue": "name 'abc' is not defined",
     "output_type": "error",
     "traceback": [
      "\u001b[0;31m---------------------------------------------------------------------------\u001b[0m",
      "\u001b[0;31mNameError\u001b[0m                                 Traceback (most recent call last)",
      "\u001b[0;32m/var/folders/28/yz261nq91vq_lj47hynw_10r0000gn/T/ipykernel_30152/3350977461.py\u001b[0m in \u001b[0;36m<module>\u001b[0;34m\u001b[0m\n\u001b[0;32m----> 1\u001b[0;31m \u001b[0mabc\u001b[0m\u001b[0;34m\u001b[0m\u001b[0;34m\u001b[0m\u001b[0m\n\u001b[0m",
      "\u001b[0;31mNameError\u001b[0m: name 'abc' is not defined"
     ]
    }
   ],
   "source": [
    "abc"
   ]
  },
  {
   "cell_type": "markdown",
   "id": "bfba443b",
   "metadata": {},
   "source": [
    "### 2) 여러개 변수를 한꺼번에 설정"
   ]
  },
  {
   "cell_type": "code",
   "execution_count": 6,
   "id": "63c64805",
   "metadata": {},
   "outputs": [],
   "source": [
    "# 변수명 사이에 쉼표('')= 숫자 사이에 쉼표('')를 해준다.\n",
    "a,b,c=3,5,6"
   ]
  },
  {
   "cell_type": "code",
   "execution_count": 7,
   "id": "97d105ad",
   "metadata": {},
   "outputs": [
    {
     "data": {
      "text/plain": [
       "3"
      ]
     },
     "execution_count": 7,
     "metadata": {},
     "output_type": "execute_result"
    }
   ],
   "source": [
    "a"
   ]
  },
  {
   "cell_type": "code",
   "execution_count": 8,
   "id": "12a0f9b7",
   "metadata": {},
   "outputs": [
    {
     "data": {
      "text/plain": [
       "5"
      ]
     },
     "execution_count": 8,
     "metadata": {},
     "output_type": "execute_result"
    }
   ],
   "source": [
    "b"
   ]
  },
  {
   "cell_type": "code",
   "execution_count": 9,
   "id": "49f0ca98",
   "metadata": {},
   "outputs": [
    {
     "data": {
      "text/plain": [
       "6"
      ]
     },
     "execution_count": 9,
     "metadata": {},
     "output_type": "execute_result"
    }
   ],
   "source": [
    "c"
   ]
  },
  {
   "cell_type": "code",
   "execution_count": 10,
   "id": "6034439f",
   "metadata": {},
   "outputs": [],
   "source": [
    "x='한국거래소'"
   ]
  },
  {
   "cell_type": "code",
   "execution_count": 11,
   "id": "87b4aa73",
   "metadata": {},
   "outputs": [
    {
     "data": {
      "text/plain": [
       "'한국거래소'"
      ]
     },
     "execution_count": 11,
     "metadata": {},
     "output_type": "execute_result"
    }
   ],
   "source": [
    "x"
   ]
  },
  {
   "cell_type": "code",
   "execution_count": 12,
   "id": "fa1a5897",
   "metadata": {},
   "outputs": [],
   "source": [
    "# 문자는 따옴표 \"\" 하고 쉼표(,)를 해준다.\n",
    "x,y,z=\"한국거래소\",\"유가증권시장\",\"채권거래시장\""
   ]
  },
  {
   "cell_type": "code",
   "execution_count": 13,
   "id": "d2ad32c4",
   "metadata": {},
   "outputs": [
    {
     "data": {
      "text/plain": [
       "'한국거래소'"
      ]
     },
     "execution_count": 13,
     "metadata": {},
     "output_type": "execute_result"
    }
   ],
   "source": [
    "x"
   ]
  },
  {
   "cell_type": "code",
   "execution_count": 14,
   "id": "18dec2bc",
   "metadata": {},
   "outputs": [
    {
     "data": {
      "text/plain": [
       "'유가증권시장'"
      ]
     },
     "execution_count": 14,
     "metadata": {},
     "output_type": "execute_result"
    }
   ],
   "source": [
    "y"
   ]
  },
  {
   "cell_type": "code",
   "execution_count": 15,
   "id": "a3a89702",
   "metadata": {},
   "outputs": [
    {
     "data": {
      "text/plain": [
       "'채권거래시장'"
      ]
     },
     "execution_count": 15,
     "metadata": {},
     "output_type": "execute_result"
    }
   ],
   "source": [
    "z"
   ]
  },
  {
   "cell_type": "markdown",
   "id": "598a07bb",
   "metadata": {},
   "source": [
    "### 3) 변수명이 중복되면 나중에 변수명으로 인식"
   ]
  },
  {
   "cell_type": "code",
   "execution_count": 16,
   "id": "72287b2c",
   "metadata": {},
   "outputs": [
    {
     "data": {
      "text/plain": [
       "3"
      ]
     },
     "execution_count": 16,
     "metadata": {},
     "output_type": "execute_result"
    }
   ],
   "source": [
    "a=3\n",
    "a"
   ]
  },
  {
   "cell_type": "code",
   "execution_count": 17,
   "id": "b378f691",
   "metadata": {},
   "outputs": [
    {
     "data": {
      "text/plain": [
       "10"
      ]
     },
     "execution_count": 17,
     "metadata": {},
     "output_type": "execute_result"
    }
   ],
   "source": [
    "# 위와 동일하게 변수명을 a로 명명하면 a에 달아 있던 3은 사라지고 새롭게 입력된 데이터를 인식함\n",
    "a=10\n",
    "a"
   ]
  },
  {
   "cell_type": "markdown",
   "id": "4b9558c7",
   "metadata": {},
   "source": [
    "### 4) 변수명을 지정하여 사칙연산"
   ]
  },
  {
   "cell_type": "code",
   "execution_count": 18,
   "id": "408cd457",
   "metadata": {},
   "outputs": [],
   "source": [
    "naver = 100"
   ]
  },
  {
   "cell_type": "code",
   "execution_count": 19,
   "id": "8819fd58",
   "metadata": {},
   "outputs": [
    {
     "data": {
      "text/plain": [
       "100"
      ]
     },
     "execution_count": 19,
     "metadata": {},
     "output_type": "execute_result"
    }
   ],
   "source": [
    "naver"
   ]
  },
  {
   "cell_type": "code",
   "execution_count": 21,
   "id": "6386a21c",
   "metadata": {},
   "outputs": [
    {
     "data": {
      "text/plain": [
       "1000"
      ]
     },
     "execution_count": 21,
     "metadata": {},
     "output_type": "execute_result"
    }
   ],
   "source": [
    "naver*10"
   ]
  },
  {
   "cell_type": "code",
   "execution_count": 22,
   "id": "8f05ea64",
   "metadata": {},
   "outputs": [
    {
     "data": {
      "text/plain": [
       "10100"
      ]
     },
     "execution_count": 22,
     "metadata": {},
     "output_type": "execute_result"
    }
   ],
   "source": [
    "# 정숫값(Integer) 중 자주 사용할 것 같은 범위의 정숫값은 메모리에 한 번만 올려두고\n",
    "# 이를 여러 변수가 가리키게 함으로써 메모리를 효과적으로 사용\n",
    "x = 10000\n",
    "y = 100\n",
    "x + y"
   ]
  },
  {
   "cell_type": "markdown",
   "id": "7361c8f4",
   "metadata": {},
   "source": [
    "# 데이터 타입\n",
    "## 1. 기본 자료형\n",
    "### : 통상적으로 정수(int),실수(float), 문자열(str), boolean\n",
    "### int : integer의 약자로서 정수\n",
    "### float : 부동 소수점(실수) 의미\n",
    "### str : string의 약자로 문자열, 문자열은 따옴표 사용\n",
    "### bool : boolean 식에 대하여 참과 거짓을 판단\n",
    "## 1) 데이터 타입을 확인"
   ]
  },
  {
   "cell_type": "code",
   "execution_count": 23,
   "id": "dfc75bf9",
   "metadata": {},
   "outputs": [],
   "source": [
    "# type 이라는 내장 함수 사용"
   ]
  },
  {
   "cell_type": "code",
   "execution_count": 24,
   "id": "629247e1",
   "metadata": {},
   "outputs": [
    {
     "data": {
      "text/plain": [
       "int"
      ]
     },
     "execution_count": 24,
     "metadata": {},
     "output_type": "execute_result"
    }
   ],
   "source": [
    "type(100)"
   ]
  },
  {
   "cell_type": "code",
   "execution_count": 25,
   "id": "7027c024",
   "metadata": {},
   "outputs": [
    {
     "data": {
      "text/plain": [
       "float"
      ]
     },
     "execution_count": 25,
     "metadata": {},
     "output_type": "execute_result"
    }
   ],
   "source": [
    "type(100.5)"
   ]
  },
  {
   "cell_type": "code",
   "execution_count": 26,
   "id": "61df713e",
   "metadata": {},
   "outputs": [
    {
     "data": {
      "text/plain": [
       "str"
      ]
     },
     "execution_count": 26,
     "metadata": {},
     "output_type": "execute_result"
    }
   ],
   "source": [
    "# 문자형은 따옴표로 (''), (\"\") 작은 따옴표, 큰 따옴표 불문\n",
    "type(\"빅데이터분석가\")"
   ]
  },
  {
   "cell_type": "code",
   "execution_count": 27,
   "id": "b688b5e8",
   "metadata": {},
   "outputs": [
    {
     "data": {
      "text/plain": [
       "True"
      ]
     },
     "execution_count": 27,
     "metadata": {},
     "output_type": "execute_result"
    }
   ],
   "source": [
    "# boolean 식에 대하여 참과 거짓을 판단\n",
    "x=5>2\n",
    "x"
   ]
  },
  {
   "cell_type": "code",
   "execution_count": 28,
   "id": "7289a5ac",
   "metadata": {},
   "outputs": [
    {
     "data": {
      "text/plain": [
       "False"
      ]
     },
     "execution_count": 28,
     "metadata": {},
     "output_type": "execute_result"
    }
   ],
   "source": [
    "y=5<2\n",
    "y"
   ]
  },
  {
   "cell_type": "code",
   "execution_count": 29,
   "id": "4eacea06",
   "metadata": {},
   "outputs": [],
   "source": [
    "# 문자열 따옴표를 출력하기\n",
    "# 파이썬에서 두 가지 종류(큰, 작은)의 쓸 수 있는 것은 문자열이 따옴표를 포함하는 경우가 있기 때문이다.\n",
    "# 만약 따옴표로 둘러싸인 문자열에 따옴표가 포함되어 있다면 파이썬은 그 부분에서 문자열이 끝난다고 인식하여 오류가 발생\n",
    "# ==> 문자열 안에 따옴표는 필요한 경우 큰따옴표, 작은따옴표 따로 작성"
   ]
  },
  {
   "cell_type": "code",
   "execution_count": 30,
   "id": "74b4e810",
   "metadata": {},
   "outputs": [
    {
     "name": "stdout",
     "output_type": "stream",
     "text": [
      "학교 앞에서 누군가가 \"빅데이터 분석반 여러분! 화이팅 하세요\"라고 외치고 있었다.\n"
     ]
    }
   ],
   "source": [
    "print('학교 앞에서 누군가가 \"빅데이터 분석반 여러분! 화이팅 하세요\"라고 외치고 있었다.')"
   ]
  },
  {
   "cell_type": "markdown",
   "id": "3e58e6cc",
   "metadata": {},
   "source": [
    "## 2) 문자열 치환"
   ]
  },
  {
   "cell_type": "code",
   "execution_count": 31,
   "id": "09037d85",
   "metadata": {},
   "outputs": [],
   "source": [
    "# 문자열에서 특정 문자를 다른 문자로 바꾸려면 replace 메서드 사용"
   ]
  },
  {
   "cell_type": "code",
   "execution_count": 32,
   "id": "f20bb7cc",
   "metadata": {},
   "outputs": [
    {
     "data": {
      "text/plain": [
       "'2021- 10- 17'"
      ]
     },
     "execution_count": 32,
     "metadata": {},
     "output_type": "execute_result"
    }
   ],
   "source": [
    "\"2021. 10. 17\" .replace(\".\",\"-\")"
   ]
  },
  {
   "cell_type": "markdown",
   "id": "0ed7746d",
   "metadata": {},
   "source": [
    "## 3) 문자열의 길이 확인"
   ]
  },
  {
   "cell_type": "code",
   "execution_count": 34,
   "id": "8c0252d1",
   "metadata": {},
   "outputs": [
    {
     "data": {
      "text/plain": [
       "7"
      ]
     },
     "execution_count": 34,
     "metadata": {},
     "output_type": "execute_result"
    }
   ],
   "source": [
    "loc=\"BigData\"\n",
    "len(loc)"
   ]
  },
  {
   "cell_type": "markdown",
   "id": "e585f1d6",
   "metadata": {},
   "source": [
    "## 4) 문자 중 인덱스 찾기"
   ]
  },
  {
   "cell_type": "code",
   "execution_count": 35,
   "id": "477a9a71",
   "metadata": {},
   "outputs": [
    {
     "data": {
      "text/plain": [
       "'B'"
      ]
     },
     "execution_count": 35,
     "metadata": {},
     "output_type": "execute_result"
    }
   ],
   "source": [
    "## index[]\n",
    "# 인덱스 2를 찾아보기\n",
    "loc=\"BigData\"\n",
    "loc[0]"
   ]
  },
  {
   "cell_type": "code",
   "execution_count": 36,
   "id": "08b32c71",
   "metadata": {},
   "outputs": [
    {
     "data": {
      "text/plain": [
       "'g'"
      ]
     },
     "execution_count": 36,
     "metadata": {},
     "output_type": "execute_result"
    }
   ],
   "source": [
    "loc[2]"
   ]
  },
  {
   "cell_type": "markdown",
   "id": "f4e6fdcc",
   "metadata": {},
   "source": [
    "## 5) 문자 중 일부 잘라내기(Slice)"
   ]
  },
  {
   "cell_type": "code",
   "execution_count": 37,
   "id": "69bc2861",
   "metadata": {},
   "outputs": [
    {
     "data": {
      "text/plain": [
       "'BigD'"
      ]
     },
     "execution_count": 37,
     "metadata": {},
     "output_type": "execute_result"
    }
   ],
   "source": [
    "## slice[:]\n",
    "loc = \"BigData\"\n",
    "loc[0:4]"
   ]
  },
  {
   "cell_type": "code",
   "execution_count": 38,
   "id": "3570f46c",
   "metadata": {},
   "outputs": [
    {
     "data": {
      "text/plain": [
       "'igD'"
      ]
     },
     "execution_count": 38,
     "metadata": {},
     "output_type": "execute_result"
    }
   ],
   "source": [
    "loc[1:4]"
   ]
  },
  {
   "cell_type": "code",
   "execution_count": 40,
   "id": "7108da1d",
   "metadata": {},
   "outputs": [
    {
     "data": {
      "text/plain": [
       "'Data'"
      ]
     },
     "execution_count": 40,
     "metadata": {},
     "output_type": "execute_result"
    }
   ],
   "source": [
    "loc[3:]"
   ]
  },
  {
   "cell_type": "markdown",
   "id": "9c2910ba",
   "metadata": {},
   "source": [
    "## 2. 파이썬 연속 데이터 구조"
   ]
  },
  {
   "cell_type": "code",
   "execution_count": 41,
   "id": "2b473357",
   "metadata": {},
   "outputs": [],
   "source": [
    "# 데이터가 여러 개 있을 때 효과적으로 관리하는 데 사용되는 자료구조\n",
    "# 대표적으로 가장 많이 사용되는 리스트(list), 튜플(tuple), 사전(dict), 집합(set)"
   ]
  },
  {
   "cell_type": "markdown",
   "id": "b24550c1",
   "metadata": {},
   "source": [
    "## 1) 리스트(list)"
   ]
  },
  {
   "cell_type": "code",
   "execution_count": 42,
   "id": "127211d1",
   "metadata": {},
   "outputs": [],
   "source": [
    "# 파이썬에서 변수가 어떤 값을 바인딩하고 있는 경우\n",
    "# 프롬프트 상에서 변수명을 입력한 후 엔터 키를 누르면 해당 변수가 가리키는 값이 반환"
   ]
  },
  {
   "cell_type": "code",
   "execution_count": 43,
   "id": "684aa823",
   "metadata": {},
   "outputs": [
    {
     "data": {
      "text/plain": [
       "'삼성전자'"
      ]
     },
     "execution_count": 43,
     "metadata": {},
     "output_type": "execute_result"
    }
   ],
   "source": [
    "a= \"삼성전자\"\n",
    "a"
   ]
  },
  {
   "cell_type": "code",
   "execution_count": 44,
   "id": "1a3deda3",
   "metadata": {},
   "outputs": [
    {
     "data": {
      "text/plain": [
       "'LG전자'"
      ]
     },
     "execution_count": 44,
     "metadata": {},
     "output_type": "execute_result"
    }
   ],
   "source": [
    "b= \"LG전자\"\n",
    "b"
   ]
  },
  {
   "cell_type": "code",
   "execution_count": 45,
   "id": "2ffaa5e0",
   "metadata": {},
   "outputs": [
    {
     "data": {
      "text/plain": [
       "'SK하이닉스'"
      ]
     },
     "execution_count": 45,
     "metadata": {},
     "output_type": "execute_result"
    }
   ],
   "source": [
    "c= \"SK하이닉스\"\n",
    "c"
   ]
  },
  {
   "cell_type": "markdown",
   "id": "3a7b0fdb",
   "metadata": {},
   "source": [
    "## 리스트"
   ]
  },
  {
   "cell_type": "code",
   "execution_count": 46,
   "id": "a1c6d395",
   "metadata": {},
   "outputs": [],
   "source": [
    "# 파이썬에서는 리스트(list)를 이용하면 여러 데이터를 한 번에 저장 가능 --> 변수명을 여러 개 사용할 필요가 없다.\n",
    "# 여러 데이터를 리스트에 담으려면 대괄호 '[]' 사이에 데이터를 쉼표로 구분해서 넣으면 됨."
   ]
  },
  {
   "cell_type": "code",
   "execution_count": 47,
   "id": "d06a5d66",
   "metadata": {},
   "outputs": [],
   "source": [
    "mystock = [\"삼성전자\", \"LG전자\", \"SK하이닉스\"]"
   ]
  },
  {
   "cell_type": "code",
   "execution_count": 48,
   "id": "6f7ec782",
   "metadata": {},
   "outputs": [
    {
     "data": {
      "text/plain": [
       "['삼성전자', 'LG전자', 'SK하이닉스']"
      ]
     },
     "execution_count": 48,
     "metadata": {},
     "output_type": "execute_result"
    }
   ],
   "source": [
    "mystock"
   ]
  },
  {
   "cell_type": "code",
   "execution_count": 49,
   "id": "b9474252",
   "metadata": {},
   "outputs": [],
   "source": [
    "# 인덱싱으로 원하는 데이터 만 가져오기\n",
    "# [0], [1], [2]라는 인덱스 값을 통해 리스트에 있는 원하는 데이터를 얻을 수 있음"
   ]
  },
  {
   "cell_type": "code",
   "execution_count": 50,
   "id": "7bf95c84",
   "metadata": {},
   "outputs": [
    {
     "data": {
      "text/plain": [
       "'삼성전자'"
      ]
     },
     "execution_count": 50,
     "metadata": {},
     "output_type": "execute_result"
    }
   ],
   "source": [
    "mystock[0]"
   ]
  },
  {
   "cell_type": "code",
   "execution_count": 51,
   "id": "398c6052",
   "metadata": {},
   "outputs": [
    {
     "data": {
      "text/plain": [
       "'SK하이닉스'"
      ]
     },
     "execution_count": 51,
     "metadata": {},
     "output_type": "execute_result"
    }
   ],
   "source": [
    "mystock[2]"
   ]
  },
  {
   "cell_type": "code",
   "execution_count": 53,
   "id": "f3b2cccb",
   "metadata": {},
   "outputs": [
    {
     "data": {
      "text/plain": [
       "['삼성전자', 'LG전자', 'SK하이닉스', '카카오']"
      ]
     },
     "execution_count": 53,
     "metadata": {},
     "output_type": "execute_result"
    }
   ],
   "source": [
    "mystock = [\"삼성전자\", \"LG전자\", \"SK하이닉스\"]\n",
    "mystock.append(\"카카오\")\n",
    "mystock"
   ]
  },
  {
   "cell_type": "code",
   "execution_count": 55,
   "id": "fcf451e5",
   "metadata": {},
   "outputs": [
    {
     "data": {
      "text/plain": [
       "['삼성전자', 'LG전자']"
      ]
     },
     "execution_count": 55,
     "metadata": {},
     "output_type": "execute_result"
    }
   ],
   "source": [
    "del mystock[2]\n",
    "mystock"
   ]
  },
  {
   "cell_type": "code",
   "execution_count": 57,
   "id": "96011c03",
   "metadata": {},
   "outputs": [
    {
     "data": {
      "text/plain": [
       "['one', 'two', 'three', 'four', 'five']"
      ]
     },
     "execution_count": 57,
     "metadata": {},
     "output_type": "execute_result"
    }
   ],
   "source": [
    "## 리스트값에 추가 append()\n",
    "number=['one', 'two', 'three', 'four']\n",
    "number.append('five')\n",
    "number"
   ]
  },
  {
   "cell_type": "code",
   "execution_count": 58,
   "id": "c9674dca",
   "metadata": {},
   "outputs": [
    {
     "name": "stdout",
     "output_type": "stream",
     "text": [
      "['one', 'two', 'four', 'five']\n"
     ]
    }
   ],
   "source": [
    "## 리스트값 중 일부 삭제 del\n",
    "del number[2]\n",
    "print(number)"
   ]
  },
  {
   "cell_type": "code",
   "execution_count": 59,
   "id": "6a24f1ac",
   "metadata": {},
   "outputs": [
    {
     "name": "stdout",
     "output_type": "stream",
     "text": [
      "['one', 'two', 'three', 'four', 'six', 'seven', 'eight', 'nine']\n"
     ]
    }
   ],
   "source": [
    "## 2개의 리스트를 병합하는 경우 extend()\n",
    "number1=['one', 'two', 'three', 'four']\n",
    "number2=['six', 'seven', 'eight', 'nine']\n",
    "number1.extend(number2)\n",
    "print(number1)"
   ]
  },
  {
   "cell_type": "code",
   "execution_count": 61,
   "id": "173c48d3",
   "metadata": {},
   "outputs": [
    {
     "name": "stdout",
     "output_type": "stream",
     "text": [
      "['six', 'seven', 'eight', 'nine', 'one', 'two', 'three', 'four']\n"
     ]
    }
   ],
   "source": [
    "## 2개의 리스트를 병합하는 경우 순서가 반대 extend()\n",
    "number1=['one', 'two', 'three', 'four']\n",
    "number2=['six', 'seven', 'eight', 'nine']\n",
    "number2.extend(number1)\n",
    "print(number2)"
   ]
  },
  {
   "cell_type": "code",
   "execution_count": 62,
   "id": "ea47e3c3",
   "metadata": {},
   "outputs": [
    {
     "name": "stdout",
     "output_type": "stream",
     "text": [
      "['one', 'two', 'three', 'four', 'six', 'seven', 'eight', 'nine', 'one', 'two', 'three', 'four']\n"
     ]
    }
   ],
   "source": [
    "number1.extend(number2)\n",
    "print(number1)"
   ]
  },
  {
   "cell_type": "code",
   "execution_count": 63,
   "id": "5c9aabda",
   "metadata": {},
   "outputs": [
    {
     "name": "stdout",
     "output_type": "stream",
     "text": [
      "['four', 'one', 'three', 'two']\n"
     ]
    }
   ],
   "source": [
    "## 정렬하기 sort()는 알파벳 순서로 정렬하기\n",
    "number=['one', 'two', 'three', 'four']\n",
    "number.sort()\n",
    "print(number)"
   ]
  },
  {
   "cell_type": "code",
   "execution_count": 65,
   "id": "22401984",
   "metadata": {},
   "outputs": [
    {
     "name": "stdout",
     "output_type": "stream",
     "text": [
      "['four', 'one', 'three', 'two']\n"
     ]
    }
   ],
   "source": [
    "## 정렬하기 sorted()\n",
    "number=['one', 'two', 'three', 'four']\n",
    "newnumber=sorted(number)\n",
    "print(newnumber)"
   ]
  },
  {
   "cell_type": "code",
   "execution_count": 66,
   "id": "e55ba949",
   "metadata": {},
   "outputs": [
    {
     "name": "stdout",
     "output_type": "stream",
     "text": [
      "['four', 'one', 'three', 'two']\n",
      "['one', 'two', 'three', 'four']\n"
     ]
    }
   ],
   "source": [
    "## 정렬하기 sorted()\n",
    "number=['one', 'two', 'three', 'four']\n",
    "newnumber=sorted(number)\n",
    "print(newnumber)\n",
    "print(number)"
   ]
  },
  {
   "cell_type": "code",
   "execution_count": 67,
   "id": "dc6ef894",
   "metadata": {},
   "outputs": [
    {
     "name": "stdout",
     "output_type": "stream",
     "text": [
      "[4, 3, 2, 1]\n"
     ]
    }
   ],
   "source": [
    "## sort(reverse=True)\n",
    "number=[1,2,3,4]\n",
    "number.sort(reverse=True)\n",
    "print(number)"
   ]
  },
  {
   "cell_type": "code",
   "execution_count": 68,
   "id": "79f44f27",
   "metadata": {},
   "outputs": [
    {
     "data": {
      "text/plain": [
       "4"
      ]
     },
     "execution_count": 68,
     "metadata": {},
     "output_type": "execute_result"
    }
   ],
   "source": [
    "## 리스트 항목개수 확인 len()\n",
    "number=['one', 'two', 'three', 'four']\n",
    "len(number)"
   ]
  },
  {
   "cell_type": "markdown",
   "id": "3b01c1f1",
   "metadata": {},
   "source": [
    "## 2) list 데이터 구조 활용"
   ]
  },
  {
   "cell_type": "code",
   "execution_count": 69,
   "id": "986d5f98",
   "metadata": {},
   "outputs": [],
   "source": [
    "# 리스트 활용 : 여러 개의 데이터를 '순서대로' 저장하고 이를 관리해야 하는 경우"
   ]
  },
  {
   "cell_type": "code",
   "execution_count": 70,
   "id": "50a47855",
   "metadata": {},
   "outputs": [],
   "source": [
    "sec = [55300, 55800, 56400, 56200, 56000]"
   ]
  },
  {
   "cell_type": "code",
   "execution_count": 71,
   "id": "a138da55",
   "metadata": {},
   "outputs": [],
   "source": [
    "result = sum(sec)"
   ]
  },
  {
   "cell_type": "code",
   "execution_count": 72,
   "id": "35c37b92",
   "metadata": {},
   "outputs": [
    {
     "name": "stdout",
     "output_type": "stream",
     "text": [
      "279700\n"
     ]
    }
   ],
   "source": [
    "print(result)"
   ]
  },
  {
   "cell_type": "markdown",
   "id": "fd87759b",
   "metadata": {},
   "source": [
    "### 통계 기초"
   ]
  },
  {
   "cell_type": "code",
   "execution_count": 74,
   "id": "ecdb77b9",
   "metadata": {},
   "outputs": [],
   "source": [
    "# 중심경향치(Central Tendency Measures)?\n",
    "# 자료의 중심을 나타내는 숫자\n",
    "# 자료 전체를 대표\n",
    "# 평균, 중간값, 최빈값 등"
   ]
  },
  {
   "cell_type": "markdown",
   "id": "76765eae",
   "metadata": {},
   "source": [
    "## 1. 중심경향치\n",
    "### 1) 리스트 데이터 평균"
   ]
  },
  {
   "cell_type": "code",
   "execution_count": 75,
   "id": "33652052",
   "metadata": {},
   "outputs": [
    {
     "data": {
      "text/plain": [
       "577.7777777777778"
      ]
     },
     "execution_count": 75,
     "metadata": {},
     "output_type": "execute_result"
    }
   ],
   "source": [
    "# numpy를 이용\n",
    "import numpy\n",
    "# 아래 리스트 데이터 : 리스트 데이터는 대괄호로 변수 설정(데이터를 담다)\n",
    "b = [100, 200, 400, 500, 600, 700, 800, 900, 1000]\n",
    "numpy.mean(b)"
   ]
  },
  {
   "cell_type": "code",
   "execution_count": 76,
   "id": "3f1e25f5",
   "metadata": {},
   "outputs": [
    {
     "data": {
      "text/plain": [
       "1000520.0"
      ]
     },
     "execution_count": 76,
     "metadata": {},
     "output_type": "execute_result"
    }
   ],
   "source": [
    "# 이상치 영향\n",
    "# 데이터 전처리 과정에서 반드시 체크해야 함\n",
    "# numpy.mean(변수명)으로 계산 가능\n",
    "\n",
    "b_1 = [100, 200, 400, 500, 600, 700, 800, 900, 1000, 10000000]\n",
    "numpy.mean(b_1)"
   ]
  },
  {
   "cell_type": "markdown",
   "id": "d4eb1cf9",
   "metadata": {},
   "source": [
    "### 2) 리스트 데이터 중앙값"
   ]
  },
  {
   "cell_type": "code",
   "execution_count": 77,
   "id": "71190f83",
   "metadata": {},
   "outputs": [],
   "source": [
    "# 중간값(median) : 자료를 크기 순으로 정렬했을 때 점 가운데에 있는 값\n",
    "# '중앙값' 또는 '중위수'\n",
    "# numpy.median(변수명)으로 계산 가능\n",
    "# 서열척도/등간척도/비율척도에서 사용 가능, 명명척도 사용 불가"
   ]
  },
  {
   "cell_type": "code",
   "execution_count": 79,
   "id": "3584b8ff",
   "metadata": {},
   "outputs": [
    {
     "data": {
      "text/plain": [
       "5.5"
      ]
     },
     "execution_count": 79,
     "metadata": {},
     "output_type": "execute_result"
    }
   ],
   "source": [
    "# 인자 숫자가 짝수인 경우\n",
    "\n",
    "c=[1,2,3,4,5,6,7,8,9,10]\n",
    "numpy.median(c)"
   ]
  },
  {
   "cell_type": "code",
   "execution_count": 80,
   "id": "82e52420",
   "metadata": {},
   "outputs": [
    {
     "data": {
      "text/plain": [
       "6.0"
      ]
     },
     "execution_count": 80,
     "metadata": {},
     "output_type": "execute_result"
    }
   ],
   "source": [
    "# 인자 숫자가 홀수인 경우\n",
    "\n",
    "c=[1,2,3,4,5,6,7,8,9,10,11]\n",
    "numpy.median(c)"
   ]
  },
  {
   "cell_type": "code",
   "execution_count": 82,
   "id": "d09691b5",
   "metadata": {},
   "outputs": [
    {
     "data": {
      "text/plain": [
       "6.0"
      ]
     },
     "execution_count": 82,
     "metadata": {},
     "output_type": "execute_result"
    }
   ],
   "source": [
    "# 이상치 영향이 평균 값보다 작다\n",
    "\n",
    "c_1=[1,2,3,4,5,6,7,8,9,10,1000]\n",
    "numpy.median(c_1)"
   ]
  },
  {
   "cell_type": "markdown",
   "id": "3d9a8297",
   "metadata": {},
   "source": [
    "### 3) 최빈도(mode)"
   ]
  },
  {
   "cell_type": "code",
   "execution_count": 83,
   "id": "9d0185ed",
   "metadata": {},
   "outputs": [],
   "source": [
    "# 최빈값(mode) : 가장 빈번하게 관찰/측정되는 값"
   ]
  },
  {
   "cell_type": "code",
   "execution_count": 89,
   "id": "c8f0932c",
   "metadata": {},
   "outputs": [
    {
     "name": "stderr",
     "output_type": "stream",
     "text": [
      "/var/folders/28/yz261nq91vq_lj47hynw_10r0000gn/T/ipykernel_30152/2380289239.py:4: FutureWarning: Unlike other reduction functions (e.g. `skew`, `kurtosis`), the default behavior of `mode` typically preserves the axis it acts along. In SciPy 1.11.0, this behavior will change: the default value of `keepdims` will become False, the `axis` over which the statistic is taken will be eliminated, and the value None will no longer be accepted. Set `keepdims` to True or False to avoid this warning.\n",
      "  mode(d)\n"
     ]
    },
    {
     "data": {
      "text/plain": [
       "ModeResult(mode=array([5]), count=array([4]))"
      ]
     },
     "execution_count": 89,
     "metadata": {},
     "output_type": "execute_result"
    }
   ],
   "source": [
    "from scipy.stats import mode\n",
    "\n",
    "d=[1,2,2,3,5,5,5,5,10,1000]\n",
    "mode(d)"
   ]
  },
  {
   "cell_type": "code",
   "execution_count": 90,
   "id": "aa9150ea",
   "metadata": {},
   "outputs": [
    {
     "name": "stderr",
     "output_type": "stream",
     "text": [
      "/var/folders/28/yz261nq91vq_lj47hynw_10r0000gn/T/ipykernel_30152/2471374511.py:2: FutureWarning: Unlike other reduction functions (e.g. `skew`, `kurtosis`), the default behavior of `mode` typically preserves the axis it acts along. In SciPy 1.11.0, this behavior will change: the default value of `keepdims` will become False, the `axis` over which the statistic is taken will be eliminated, and the value None will no longer be accepted. Set `keepdims` to True or False to avoid this warning.\n",
      "  mode(e)\n"
     ]
    },
    {
     "data": {
      "text/plain": [
       "ModeResult(mode=array([7]), count=array([6]))"
      ]
     },
     "execution_count": 90,
     "metadata": {},
     "output_type": "execute_result"
    }
   ],
   "source": [
    "e=[1,2,2,3,4,4,4,4,7,7,7,7,7,7,10,1000]\n",
    "mode(e)"
   ]
  },
  {
   "cell_type": "markdown",
   "id": "efeb5829",
   "metadata": {},
   "source": [
    "## 2. 분산도"
   ]
  },
  {
   "cell_type": "code",
   "execution_count": 91,
   "id": "bef63707",
   "metadata": {},
   "outputs": [],
   "source": [
    "# 범위, 분산(표준편차), 사분위간 범위\n",
    "# 데이터가 흩어져 있는 정도"
   ]
  },
  {
   "cell_type": "markdown",
   "id": "e99e8496",
   "metadata": {},
   "source": [
    "### 1) 범위(range)"
   ]
  },
  {
   "cell_type": "code",
   "execution_count": 92,
   "id": "e6a5c961",
   "metadata": {},
   "outputs": [],
   "source": [
    "# 대상 데이터의 최대값과 최소값 사이의 거리\n",
    "# 범위 계산 = 최댓값 - 최솟값"
   ]
  },
  {
   "cell_type": "code",
   "execution_count": 93,
   "id": "62db2da6",
   "metadata": {},
   "outputs": [
    {
     "data": {
      "text/plain": [
       "900"
      ]
     },
     "execution_count": 93,
     "metadata": {},
     "output_type": "execute_result"
    }
   ],
   "source": [
    "b = [100, 200, 400, 500, 600, 700, 800, 900, 1000]\n",
    "import numpy\n",
    "\n",
    "# 최대값에서 최소값을 차감하여 계산\n",
    "# 최댓값 :\n",
    "numpy.max(b)\n",
    "# 최솟값 :\n",
    "numpy.min(b)\n",
    "\n",
    "# 범위 :\n",
    "numpy.max(b) - numpy.min(b)"
   ]
  },
  {
   "cell_type": "markdown",
   "id": "56a977cb",
   "metadata": {},
   "source": [
    "### 2) 분산"
   ]
  },
  {
   "cell_type": "code",
   "execution_count": 94,
   "id": "f82aa837",
   "metadata": {},
   "outputs": [],
   "source": [
    "# 평균에서 데이터가 벗어난 정도를 수치화한 값\n",
    "# 편차의 제곱 합에 대한 평균 개념"
   ]
  },
  {
   "cell_type": "code",
   "execution_count": 95,
   "id": "3f78bb3d",
   "metadata": {},
   "outputs": [
    {
     "data": {
      "text/plain": [
       "83950.61728395062"
      ]
     },
     "execution_count": 95,
     "metadata": {},
     "output_type": "execute_result"
    }
   ],
   "source": [
    "numpy.var(b)"
   ]
  },
  {
   "cell_type": "markdown",
   "id": "c4e685b9",
   "metadata": {},
   "source": [
    "### 3) 표준편차"
   ]
  },
  {
   "cell_type": "code",
   "execution_count": 96,
   "id": "4152c423",
   "metadata": {},
   "outputs": [],
   "source": [
    "# 분산값을 제곱근한 값\n",
    "# numpy.std(변수명)"
   ]
  },
  {
   "cell_type": "code",
   "execution_count": 97,
   "id": "fbd1aa6c",
   "metadata": {},
   "outputs": [
    {
     "data": {
      "text/plain": [
       "289.74232912011774"
      ]
     },
     "execution_count": 97,
     "metadata": {},
     "output_type": "execute_result"
    }
   ],
   "source": [
    "numpy.std(b)"
   ]
  },
  {
   "cell_type": "code",
   "execution_count": 98,
   "id": "fdf782ca",
   "metadata": {},
   "outputs": [
    {
     "data": {
      "text/plain": [
       "289.74232912011774"
      ]
     },
     "execution_count": 98,
     "metadata": {},
     "output_type": "execute_result"
    }
   ],
   "source": [
    "# 표준편차는 분산의 제곱근하여도 무방\n",
    "\n",
    "numpy.sqrt(numpy.var(b))"
   ]
  },
  {
   "cell_type": "markdown",
   "id": "cabffa29",
   "metadata": {},
   "source": [
    "### 4) 사분위간 범위"
   ]
  },
  {
   "cell_type": "code",
   "execution_count": 99,
   "id": "e7a8ee8e",
   "metadata": {},
   "outputs": [],
   "source": [
    "# 사분위간 범위(IQR. InterQuartile Range)는 제3사분위수에서 제1사분위수 간의 범위\n",
    "# 사분위수란 전체 데이터를 작은 값부터 큰 값까지 순서대로 나열한 후 4등분 하였을 때, 각 지점에 해당하는 값\n",
    "\n",
    "# 제1사분위수(Q1) : 25% 지점\n",
    "# 제2사분위수(Q2) : 50% 지점\n",
    "# 제3사분위수(Q3) : 75% 지점\n",
    "# 제1사분위수와 제3사분위수 사이의 구간에는 항상 전체 데이터의 50%가 포함됨"
   ]
  },
  {
   "cell_type": "code",
   "execution_count": 100,
   "id": "598e78e4",
   "metadata": {},
   "outputs": [
    {
     "data": {
      "text/plain": [
       "400.0"
      ]
     },
     "execution_count": 100,
     "metadata": {},
     "output_type": "execute_result"
    }
   ],
   "source": [
    "# 제1사분위수\n",
    "\n",
    "numpy.quantile(b,0.25)"
   ]
  },
  {
   "cell_type": "code",
   "execution_count": 105,
   "id": "c032aad2",
   "metadata": {},
   "outputs": [
    {
     "data": {
      "text/plain": [
       "600.0"
      ]
     },
     "execution_count": 105,
     "metadata": {},
     "output_type": "execute_result"
    }
   ],
   "source": [
    "# 제2사분위수 (50% 지점)\n",
    "# 중간값 :\n",
    "\n",
    "numpy.quantile(b, 0.5)"
   ]
  },
  {
   "cell_type": "code",
   "execution_count": 106,
   "id": "765e30a1",
   "metadata": {},
   "outputs": [
    {
     "data": {
      "text/plain": [
       "600.0"
      ]
     },
     "execution_count": 106,
     "metadata": {},
     "output_type": "execute_result"
    }
   ],
   "source": [
    "numpy.median(b)"
   ]
  },
  {
   "cell_type": "code",
   "execution_count": 107,
   "id": "4bb1ed8c",
   "metadata": {},
   "outputs": [
    {
     "data": {
      "text/plain": [
       "800.0"
      ]
     },
     "execution_count": 107,
     "metadata": {},
     "output_type": "execute_result"
    }
   ],
   "source": [
    "# 제3사분위수(75% 지점)\n",
    "\n",
    "numpy.quantile(b,0.75)"
   ]
  },
  {
   "cell_type": "code",
   "execution_count": 108,
   "id": "ffbc8ca4",
   "metadata": {},
   "outputs": [
    {
     "data": {
      "text/plain": [
       "400.0"
      ]
     },
     "execution_count": 108,
     "metadata": {},
     "output_type": "execute_result"
    }
   ],
   "source": [
    "# 사분위간 범위(Q3-Q1)\n",
    "\n",
    "numpy.quantile(b, 0.75) - numpy.quantile(b, 0.25)"
   ]
  },
  {
   "cell_type": "markdown",
   "id": "96b62356",
   "metadata": {},
   "source": [
    "### 사례 : 평균 구하기"
   ]
  },
  {
   "cell_type": "code",
   "execution_count": 109,
   "id": "4b2e7bb5",
   "metadata": {},
   "outputs": [
    {
     "name": "stdout",
     "output_type": "stream",
     "text": [
      "average : 55940.0\n"
     ]
    }
   ],
   "source": [
    "# 평균 구하기\n",
    "# 첫번째 방법\n",
    "print(f\"average : {result / len(sec)}\")"
   ]
  },
  {
   "cell_type": "code",
   "execution_count": 110,
   "id": "1b0b9faa",
   "metadata": {},
   "outputs": [
    {
     "name": "stdout",
     "output_type": "stream",
     "text": [
      "55940.0\n"
     ]
    }
   ],
   "source": [
    "# 두번째 방법\n",
    "import numpy\n",
    "# 평균 구하기\n",
    "average = numpy.mean(sec)\n",
    "print(average)"
   ]
  },
  {
   "cell_type": "code",
   "execution_count": 112,
   "id": "d029aec7",
   "metadata": {},
   "outputs": [
    {
     "name": "stdout",
     "output_type": "stream",
     "text": [
      "average1 : 55940\n"
     ]
    }
   ],
   "source": [
    "# 세번째 : 파이썬 statiscics 라이브러리를 이용\n",
    "import statistics\n",
    "\n",
    "# 평균 구하기\n",
    "result1 = statistics.mean(sec)\n",
    "# 출력\n",
    "print(f\"average1 : {result1}\")"
   ]
  },
  {
   "cell_type": "markdown",
   "id": "aebf78c9",
   "metadata": {},
   "source": [
    "### 리스트 인덱싱"
   ]
  },
  {
   "cell_type": "code",
   "execution_count": 113,
   "id": "28e35a58",
   "metadata": {},
   "outputs": [
    {
     "data": {
      "text/plain": [
       "55300"
      ]
     },
     "execution_count": 113,
     "metadata": {},
     "output_type": "execute_result"
    }
   ],
   "source": [
    "# 리스트의 인덱스 값을 통해 리스트가 가리키는 값에 접근\n",
    "# 리스트에 있는 데이터에 한개씩 접근할 때는 인덱싱 사용\n",
    "# 리스트의 인덱싱은 문자열 인덱싱과 동일\n",
    "sec = [55300, 55800, 56400, 56200, 56000]\n",
    "sec[0]"
   ]
  },
  {
   "cell_type": "code",
   "execution_count": 114,
   "id": "63e23bad",
   "metadata": {},
   "outputs": [
    {
     "data": {
      "text/plain": [
       "56000"
      ]
     },
     "execution_count": 114,
     "metadata": {},
     "output_type": "execute_result"
    }
   ],
   "source": [
    "sec[4]"
   ]
  },
  {
   "cell_type": "code",
   "execution_count": 115,
   "id": "5657e3f1",
   "metadata": {},
   "outputs": [],
   "source": [
    "# 리스트를 인덱싱할 때 [-1]은 리스트의 데이터 중 맨 마지막에 있는 데이터"
   ]
  },
  {
   "cell_type": "code",
   "execution_count": 116,
   "id": "9c32e216",
   "metadata": {},
   "outputs": [
    {
     "data": {
      "text/plain": [
       "56000"
      ]
     },
     "execution_count": 116,
     "metadata": {},
     "output_type": "execute_result"
    }
   ],
   "source": [
    "sec[-1]"
   ]
  },
  {
   "cell_type": "code",
   "execution_count": 118,
   "id": "08d680de",
   "metadata": {},
   "outputs": [
    {
     "data": {
      "text/plain": [
       "56200"
      ]
     },
     "execution_count": 118,
     "metadata": {},
     "output_type": "execute_result"
    }
   ],
   "source": [
    "sec[-2]"
   ]
  },
  {
   "cell_type": "markdown",
   "id": "2c6fe73d",
   "metadata": {},
   "source": [
    "### 5) 리스트 슬라이싱"
   ]
  },
  {
   "cell_type": "code",
   "execution_count": 119,
   "id": "137adcff",
   "metadata": {},
   "outputs": [],
   "source": [
    "# 리스트에 있는 여러 개의 데이터에 동시에 접근 하는 경우 슬라이싱 이용\n",
    "# 리스트의 슬라이싱은 문자열 슬라이싱과 동일"
   ]
  },
  {
   "cell_type": "code",
   "execution_count": 120,
   "id": "cff0e0b2",
   "metadata": {},
   "outputs": [],
   "source": [
    "kospi_top7=['삼성전자','LG엔솔','SK하이닉스','삼바','LG화학','현대차','NAVER']"
   ]
  },
  {
   "cell_type": "code",
   "execution_count": 122,
   "id": "9cc7a816",
   "metadata": {},
   "outputs": [
    {
     "name": "stdout",
     "output_type": "stream",
     "text": [
      "['삼성전자', 'LG엔솔', 'SK하이닉스', '삼바', 'LG화학', '현대차', 'NAVER']\n"
     ]
    }
   ],
   "source": [
    "print(kospi_top7)"
   ]
  },
  {
   "cell_type": "code",
   "execution_count": 123,
   "id": "e0c7272c",
   "metadata": {},
   "outputs": [
    {
     "name": "stdout",
     "output_type": "stream",
     "text": [
      "LG화학\n"
     ]
    }
   ],
   "source": [
    "print(kospi_top7[4])"
   ]
  },
  {
   "cell_type": "code",
   "execution_count": 124,
   "id": "e47d93b6",
   "metadata": {},
   "outputs": [],
   "source": [
    "# 첫번쨰 종목에서 3개만 갖고 오기\n",
    "kospi_top3 = kospi_top7[0:3]"
   ]
  },
  {
   "cell_type": "code",
   "execution_count": 125,
   "id": "abf82a65",
   "metadata": {},
   "outputs": [
    {
     "name": "stdout",
     "output_type": "stream",
     "text": [
      "['삼성전자', 'LG엔솔', 'SK하이닉스']\n"
     ]
    }
   ],
   "source": [
    "print(kospi_top3)"
   ]
  },
  {
   "cell_type": "code",
   "execution_count": 127,
   "id": "faba3699",
   "metadata": {},
   "outputs": [
    {
     "name": "stdout",
     "output_type": "stream",
     "text": [
      "['삼성전자', 'LG엔솔', 'SK하이닉스', '삼바', 'LG화학']\n"
     ]
    }
   ],
   "source": [
    "# 첫번째 종목에서 5개만 갖고 오기\n",
    "kospi_top5 = kospi_top7[0:5]\n",
    "print(kospi_top5)"
   ]
  },
  {
   "cell_type": "code",
   "execution_count": 128,
   "id": "5be61468",
   "metadata": {},
   "outputs": [
    {
     "data": {
      "text/plain": [
       "['삼바', 'LG화학', '현대차', 'NAVER']"
      ]
     },
     "execution_count": 128,
     "metadata": {},
     "output_type": "execute_result"
    }
   ],
   "source": [
    "kospi_top7[3:]"
   ]
  },
  {
   "cell_type": "code",
   "execution_count": 129,
   "id": "fe35a29b",
   "metadata": {},
   "outputs": [
    {
     "data": {
      "text/plain": [
       "['삼바', 'LG화학']"
      ]
     },
     "execution_count": 129,
     "metadata": {},
     "output_type": "execute_result"
    }
   ],
   "source": [
    "kospi_top7[3:5]"
   ]
  },
  {
   "cell_type": "markdown",
   "id": "bb4cf8fc",
   "metadata": {},
   "source": [
    "### 6) 리스트에 데이터 추가"
   ]
  },
  {
   "cell_type": "code",
   "execution_count": 130,
   "id": "10aa2606",
   "metadata": {},
   "outputs": [],
   "source": [
    "# 리스트에 데이터 추가\n",
    "# 기존 리스트에 새로운 데이터를 추가 : append 메서드 사용 (이 경우 데이터 맨 뒷줄에 추가)"
   ]
  },
  {
   "cell_type": "code",
   "execution_count": 131,
   "id": "42d3db8e",
   "metadata": {},
   "outputs": [],
   "source": [
    "kospi_top7 = ['삼성전자','LG엔솔','SK하이닉스','삼바','LG화학','현대차','NAVER']\n",
    "kospi_top7.append('SK텔레콤')"
   ]
  },
  {
   "cell_type": "code",
   "execution_count": 132,
   "id": "056dce23",
   "metadata": {},
   "outputs": [
    {
     "data": {
      "text/plain": [
       "['삼성전자', 'LG엔솔', 'SK하이닉스', '삼바', 'LG화학', '현대차', 'NAVER', 'SK텔레콤']"
      ]
     },
     "execution_count": 132,
     "metadata": {},
     "output_type": "execute_result"
    }
   ],
   "source": [
    "kospi_top7"
   ]
  },
  {
   "cell_type": "code",
   "execution_count": 133,
   "id": "4b5b53d2",
   "metadata": {},
   "outputs": [
    {
     "data": {
      "text/plain": [
       "['삼성전자', 'LG엔솔', 'SK하이닉스', '삼바', 'LG화학', '현대차', 'NAVER', 'SK텔레콤']"
      ]
     },
     "execution_count": 133,
     "metadata": {},
     "output_type": "execute_result"
    }
   ],
   "source": [
    "# 위의 경우 추가된 리스트를 새롭게 명명하는게 적절\n",
    "kospi_top8 = kospi_top7\n",
    "kospi_top8"
   ]
  },
  {
   "cell_type": "code",
   "execution_count": 134,
   "id": "ea1ed1e5",
   "metadata": {},
   "outputs": [],
   "source": [
    "# 리스트에 데이터르르 사용자가 원하는 특정 위치에 추가\n",
    "# insert 메서드를 사용"
   ]
  },
  {
   "cell_type": "code",
   "execution_count": 135,
   "id": "d4aa3111",
   "metadata": {},
   "outputs": [],
   "source": [
    "kospi_top8.insert(2, '카카오')"
   ]
  },
  {
   "cell_type": "code",
   "execution_count": 136,
   "id": "052566c0",
   "metadata": {},
   "outputs": [],
   "source": [
    "kospi_top9=kospi_top8"
   ]
  },
  {
   "cell_type": "code",
   "execution_count": 137,
   "id": "cdfb1f68",
   "metadata": {},
   "outputs": [
    {
     "data": {
      "text/plain": [
       "['삼성전자', 'LG엔솔', '카카오', 'SK하이닉스', '삼바', 'LG화학', '현대차', 'NAVER', 'SK텔레콤']"
      ]
     },
     "execution_count": 137,
     "metadata": {},
     "output_type": "execute_result"
    }
   ],
   "source": [
    "kospi_top9"
   ]
  },
  {
   "cell_type": "markdown",
   "id": "d2b30d09",
   "metadata": {},
   "source": [
    "### 7) 리스트에 데이터 삭제"
   ]
  },
  {
   "cell_type": "code",
   "execution_count": 138,
   "id": "0fa90001",
   "metadata": {},
   "outputs": [
    {
     "data": {
      "text/plain": [
       "'SK텔레콤'"
      ]
     },
     "execution_count": 138,
     "metadata": {},
     "output_type": "execute_result"
    }
   ],
   "source": [
    "kospi_top9[-1]"
   ]
  },
  {
   "cell_type": "code",
   "execution_count": 139,
   "id": "2e538f3f",
   "metadata": {},
   "outputs": [],
   "source": [
    "del kospi_top9[-1]"
   ]
  },
  {
   "cell_type": "code",
   "execution_count": 140,
   "id": "8914aec4",
   "metadata": {},
   "outputs": [
    {
     "data": {
      "text/plain": [
       "['삼성전자', 'LG엔솔', '카카오', 'SK하이닉스', '삼바', 'LG화학', '현대차', 'NAVER']"
      ]
     },
     "execution_count": 140,
     "metadata": {},
     "output_type": "execute_result"
    }
   ],
   "source": [
    ">>> kospi_top9"
   ]
  },
  {
   "cell_type": "code",
   "execution_count": 141,
   "id": "ab3810c0",
   "metadata": {},
   "outputs": [
    {
     "data": {
      "text/plain": [
       "8"
      ]
     },
     "execution_count": 141,
     "metadata": {},
     "output_type": "execute_result"
    }
   ],
   "source": [
    "len(kospi_top9)"
   ]
  },
  {
   "cell_type": "markdown",
   "id": "38c866a0",
   "metadata": {},
   "source": [
    "## 튜플(tuple)\n",
    "### 1) 튜플 이해"
   ]
  },
  {
   "cell_type": "code",
   "execution_count": 142,
   "id": "c8165130",
   "metadata": {},
   "outputs": [],
   "source": [
    "# 튜플과 리스트 차이 : 리스트는 리스트 내의 원소를 변경할 수 있지만 튜플은 변경할 수 없다\n",
    "# 리스트는 대괄호'[]' 사용, 튜플은 소괄호'()' 사용\n",
    "# 튜플은 리스트보다 속도가 빠르다는 장점 : 데이터 수정이 필요 없는 경우는 리스트보다 튜플을 사용하는 것이 효율적"
   ]
  },
  {
   "cell_type": "code",
   "execution_count": 143,
   "id": "37ed0ff6",
   "metadata": {},
   "outputs": [],
   "source": [
    "kospi_top =('삼성전자','LG엔솔','SK하이닉스','삼바','LG화학','현대차','NAVER')"
   ]
  },
  {
   "cell_type": "code",
   "execution_count": 144,
   "id": "416a6683",
   "metadata": {},
   "outputs": [
    {
     "data": {
      "text/plain": [
       "('삼성전자', 'LG엔솔', 'SK하이닉스', '삼바', 'LG화학', '현대차', 'NAVER')"
      ]
     },
     "execution_count": 144,
     "metadata": {},
     "output_type": "execute_result"
    }
   ],
   "source": [
    "kospi_top"
   ]
  },
  {
   "cell_type": "markdown",
   "id": "f28a0e71",
   "metadata": {},
   "source": [
    "### 2) 튜플 데이터 확인"
   ]
  },
  {
   "cell_type": "code",
   "execution_count": 145,
   "id": "7e5371dc",
   "metadata": {},
   "outputs": [
    {
     "data": {
      "text/plain": [
       "7"
      ]
     },
     "execution_count": 145,
     "metadata": {},
     "output_type": "execute_result"
    }
   ],
   "source": [
    "# 갯수 확인\n",
    "len(kospi_top)"
   ]
  },
  {
   "cell_type": "code",
   "execution_count": 146,
   "id": "00fdfc72",
   "metadata": {},
   "outputs": [
    {
     "data": {
      "text/plain": [
       "'삼성전자'"
      ]
     },
     "execution_count": 146,
     "metadata": {},
     "output_type": "execute_result"
    }
   ],
   "source": [
    "kospi_top[0]"
   ]
  },
  {
   "cell_type": "code",
   "execution_count": 148,
   "id": "57266019",
   "metadata": {},
   "outputs": [
    {
     "data": {
      "text/plain": [
       "'NAVER'"
      ]
     },
     "execution_count": 148,
     "metadata": {},
     "output_type": "execute_result"
    }
   ],
   "source": [
    "kospi_top[-1]"
   ]
  },
  {
   "cell_type": "code",
   "execution_count": 149,
   "id": "6f256626",
   "metadata": {},
   "outputs": [
    {
     "data": {
      "text/plain": [
       "'현대차'"
      ]
     },
     "execution_count": 149,
     "metadata": {},
     "output_type": "execute_result"
    }
   ],
   "source": [
    "kospi_top[-2]"
   ]
  },
  {
   "cell_type": "markdown",
   "id": "b8075de8",
   "metadata": {},
   "source": [
    "## 3. 딕셔너리(dictionary)\n",
    "### 1) 딕셔너리(dictionary) 이해"
   ]
  },
  {
   "cell_type": "code",
   "execution_count": 150,
   "id": "ac86594b",
   "metadata": {},
   "outputs": [],
   "source": [
    "# 딕셔너리도 키(key)와 값(value)이라는 것을 쌍으로 저장함으로써 더 쉽게 저장된 값을 찾을 수 있는 구조\n",
    "# 딕셔너리는 중괄호 '{}' 기호 사용\n",
    "# 요소가 여러개인 경우 콜마{.)로 구분\n",
    "# 딕셔너리는 리스트와 튜플과 달리 인덱싱을 지원하지 않음\n",
    "# 사례 ; 주식종목 : 주가"
   ]
  },
  {
   "cell_type": "code",
   "execution_count": 151,
   "id": "989174e0",
   "metadata": {},
   "outputs": [],
   "source": [
    "sec_price = {}"
   ]
  },
  {
   "cell_type": "code",
   "execution_count": 152,
   "id": "e87eb320",
   "metadata": {},
   "outputs": [
    {
     "data": {
      "text/plain": [
       "dict"
      ]
     },
     "execution_count": 152,
     "metadata": {},
     "output_type": "execute_result"
    }
   ],
   "source": [
    "type(sec_price)"
   ]
  },
  {
   "cell_type": "code",
   "execution_count": 154,
   "id": "df05da77",
   "metadata": {},
   "outputs": [],
   "source": [
    "sec_price['삼성전자'] = 58000"
   ]
  },
  {
   "cell_type": "code",
   "execution_count": 155,
   "id": "54b17756",
   "metadata": {},
   "outputs": [
    {
     "data": {
      "text/plain": [
       "{'삼성전자': 58000}"
      ]
     },
     "execution_count": 155,
     "metadata": {},
     "output_type": "execute_result"
    }
   ],
   "source": [
    "sec_price"
   ]
  },
  {
   "cell_type": "code",
   "execution_count": 156,
   "id": "e3a29bf7",
   "metadata": {},
   "outputs": [],
   "source": [
    "sec_price['sk하이닉스'] = 80000"
   ]
  },
  {
   "cell_type": "code",
   "execution_count": 157,
   "id": "193d1dea",
   "metadata": {},
   "outputs": [
    {
     "data": {
      "text/plain": [
       "{'삼성전자': 58000, 'sk하이닉스': 80000}"
      ]
     },
     "execution_count": 157,
     "metadata": {},
     "output_type": "execute_result"
    }
   ],
   "source": [
    "sec_price"
   ]
  },
  {
   "cell_type": "code",
   "execution_count": 158,
   "id": "30e07cec",
   "metadata": {},
   "outputs": [],
   "source": [
    "score ={}"
   ]
  },
  {
   "cell_type": "code",
   "execution_count": 159,
   "id": "a8bef5da",
   "metadata": {},
   "outputs": [
    {
     "data": {
      "text/plain": [
       "dict"
      ]
     },
     "execution_count": 159,
     "metadata": {},
     "output_type": "execute_result"
    }
   ],
   "source": [
    "type(score)"
   ]
  },
  {
   "cell_type": "code",
   "execution_count": 175,
   "id": "25ad5568",
   "metadata": {},
   "outputs": [],
   "source": [
    "score[\"박태원\"] =100"
   ]
  },
  {
   "cell_type": "code",
   "execution_count": 180,
   "id": "c673aa11",
   "metadata": {},
   "outputs": [],
   "source": [
    "score[\"정지영\"] =70"
   ]
  },
  {
   "cell_type": "code",
   "execution_count": 181,
   "id": "17d5ab0c",
   "metadata": {},
   "outputs": [
    {
     "data": {
      "text/plain": [
       "{'박태원': 100, '김정표': 10, '정지영': 70}"
      ]
     },
     "execution_count": 181,
     "metadata": {},
     "output_type": "execute_result"
    }
   ],
   "source": [
    "score"
   ]
  },
  {
   "cell_type": "code",
   "execution_count": 164,
   "id": "6954a252",
   "metadata": {},
   "outputs": [
    {
     "data": {
      "text/plain": [
       "dict"
      ]
     },
     "execution_count": 164,
     "metadata": {},
     "output_type": "execute_result"
    }
   ],
   "source": [
    "type(score)"
   ]
  },
  {
   "cell_type": "code",
   "execution_count": 165,
   "id": "c39351c2",
   "metadata": {},
   "outputs": [
    {
     "data": {
      "text/plain": [
       "2"
      ]
     },
     "execution_count": 165,
     "metadata": {},
     "output_type": "execute_result"
    }
   ],
   "source": [
    "len(score)"
   ]
  },
  {
   "cell_type": "code",
   "execution_count": 166,
   "id": "25a7a044",
   "metadata": {},
   "outputs": [
    {
     "data": {
      "text/plain": [
       "100"
      ]
     },
     "execution_count": 166,
     "metadata": {},
     "output_type": "execute_result"
    }
   ],
   "source": [
    "score[\"박태원\"]"
   ]
  },
  {
   "cell_type": "markdown",
   "id": "df2290ed",
   "metadata": {},
   "source": [
    "### 2) 딕셔너리(dictionary) 확인"
   ]
  },
  {
   "cell_type": "code",
   "execution_count": 167,
   "id": "7c4b6e4a",
   "metadata": {},
   "outputs": [
    {
     "data": {
      "text/plain": [
       "2"
      ]
     },
     "execution_count": 167,
     "metadata": {},
     "output_type": "execute_result"
    }
   ],
   "source": [
    "len(sec_price)"
   ]
  },
  {
   "cell_type": "code",
   "execution_count": 168,
   "id": "dbb5c69a",
   "metadata": {},
   "outputs": [
    {
     "data": {
      "text/plain": [
       "58000"
      ]
     },
     "execution_count": 168,
     "metadata": {},
     "output_type": "execute_result"
    }
   ],
   "source": [
    "sec_price['삼성전자']"
   ]
  },
  {
   "cell_type": "code",
   "execution_count": 182,
   "id": "cba98f94",
   "metadata": {},
   "outputs": [],
   "source": [
    "score[\"김정표\"]= 10"
   ]
  },
  {
   "cell_type": "code",
   "execution_count": 183,
   "id": "9d97a07c",
   "metadata": {},
   "outputs": [
    {
     "data": {
      "text/plain": [
       "{'박태원': 100, '김정표': 10, '정지영': 70}"
      ]
     },
     "execution_count": 183,
     "metadata": {},
     "output_type": "execute_result"
    }
   ],
   "source": [
    "score"
   ]
  },
  {
   "cell_type": "code",
   "execution_count": 184,
   "id": "747259c2",
   "metadata": {},
   "outputs": [],
   "source": [
    "del score[\"정지영\"]"
   ]
  },
  {
   "cell_type": "code",
   "execution_count": 185,
   "id": "216a3a44",
   "metadata": {},
   "outputs": [
    {
     "data": {
      "text/plain": [
       "{'박태원': 100, '김정표': 10}"
      ]
     },
     "execution_count": 185,
     "metadata": {},
     "output_type": "execute_result"
    }
   ],
   "source": [
    "score"
   ]
  },
  {
   "cell_type": "code",
   "execution_count": 186,
   "id": "4924b918",
   "metadata": {},
   "outputs": [
    {
     "name": "stdout",
     "output_type": "stream",
     "text": [
      "{'박태원': 100, '김정표': 10}\n"
     ]
    }
   ],
   "source": [
    "print(score)"
   ]
  },
  {
   "cell_type": "markdown",
   "id": "143279d6",
   "metadata": {},
   "source": [
    "### 3) 딕셔너리에 데이터 삽입"
   ]
  },
  {
   "cell_type": "code",
   "execution_count": 187,
   "id": "e0b9da9e",
   "metadata": {},
   "outputs": [],
   "source": [
    "# 딕셔너리는 리스트의 append나 insert 같은 메서드를 지원하지 않음\n",
    "# 리스트와는 달리 Dictionary 변수에 추가하고자하는 데이터에 대한 key와 value를 추가 입력하여야 함"
   ]
  },
  {
   "cell_type": "code",
   "execution_count": 189,
   "id": "2c691fab",
   "metadata": {},
   "outputs": [
    {
     "data": {
      "text/plain": [
       "{'삼성전자': 58000, 'sk하이닉스': 80000, 'naver': 150000}"
      ]
     },
     "execution_count": 189,
     "metadata": {},
     "output_type": "execute_result"
    }
   ],
   "source": [
    "# naver 추가\n",
    "sec_price['naver']= 150000\n",
    "sec_price"
   ]
  },
  {
   "cell_type": "markdown",
   "id": "f916bae2",
   "metadata": {},
   "source": [
    "### 4) 딕셔너리에 데이터 삭제"
   ]
  },
  {
   "cell_type": "code",
   "execution_count": 190,
   "id": "b8060ce5",
   "metadata": {},
   "outputs": [],
   "source": [
    "# 리스트와 마찬가지로 del을 사용\n",
    "del sec_price['sk하이닉스']"
   ]
  },
  {
   "cell_type": "code",
   "execution_count": 191,
   "id": "991fb012",
   "metadata": {},
   "outputs": [
    {
     "data": {
      "text/plain": [
       "{'삼성전자': 58000, 'naver': 150000}"
      ]
     },
     "execution_count": 191,
     "metadata": {},
     "output_type": "execute_result"
    }
   ],
   "source": [
    "sec_price"
   ]
  },
  {
   "cell_type": "markdown",
   "id": "6acbcc2f",
   "metadata": {},
   "source": [
    "### 5) 딕셔너리로부터 key-value 구하기"
   ]
  },
  {
   "cell_type": "code",
   "execution_count": 193,
   "id": "8d2f3efa",
   "metadata": {},
   "outputs": [
    {
     "data": {
      "text/plain": [
       "{'삼성전자': 58000, 'naver': 150000}"
      ]
     },
     "execution_count": 193,
     "metadata": {},
     "output_type": "execute_result"
    }
   ],
   "source": [
    "# 딕셔너리에 있는 key 값만 구하는 경우\n",
    "# key 값만 구하는 경우 : \"딕셔너리이름.keys()\" 라고 호출 --> 딕셔너리이름 다음에 마침표 하나 붙이고 keys()라고 적을 것 !!\n",
    "sec_price"
   ]
  },
  {
   "cell_type": "code",
   "execution_count": 194,
   "id": "ce6548ce",
   "metadata": {},
   "outputs": [],
   "source": [
    "sec_price['sk하이닉스']= 80000"
   ]
  },
  {
   "cell_type": "code",
   "execution_count": 195,
   "id": "5a0c0e16",
   "metadata": {},
   "outputs": [
    {
     "data": {
      "text/plain": [
       "{'삼성전자': 58000, 'naver': 150000, 'sk하이닉스': 80000}"
      ]
     },
     "execution_count": 195,
     "metadata": {},
     "output_type": "execute_result"
    }
   ],
   "source": [
    "sec_price"
   ]
  },
  {
   "cell_type": "code",
   "execution_count": 196,
   "id": "b5ae8c15",
   "metadata": {},
   "outputs": [
    {
     "data": {
      "text/plain": [
       "dict_keys(['삼성전자', 'naver', 'sk하이닉스'])"
      ]
     },
     "execution_count": 196,
     "metadata": {},
     "output_type": "execute_result"
    }
   ],
   "source": [
    "# key 값 만 보는 경우\n",
    "sec_price.keys()"
   ]
  },
  {
   "cell_type": "code",
   "execution_count": 197,
   "id": "28ca4502",
   "metadata": {},
   "outputs": [],
   "source": [
    "# value 만 리스트로\n",
    "price_list = list(sec_price.values())"
   ]
  },
  {
   "cell_type": "code",
   "execution_count": 198,
   "id": "2492b2a1",
   "metadata": {},
   "outputs": [
    {
     "data": {
      "text/plain": [
       "[58000, 150000, 80000]"
      ]
     },
     "execution_count": 198,
     "metadata": {},
     "output_type": "execute_result"
    }
   ],
   "source": [
    "price_list"
   ]
  },
  {
   "cell_type": "code",
   "execution_count": 199,
   "id": "d50b9a62",
   "metadata": {},
   "outputs": [
    {
     "data": {
      "text/plain": [
       "58000"
      ]
     },
     "execution_count": 199,
     "metadata": {},
     "output_type": "execute_result"
    }
   ],
   "source": [
    "# 특정 값만\n",
    "sec_price['삼성전자']"
   ]
  },
  {
   "cell_type": "code",
   "execution_count": 200,
   "id": "85002fae",
   "metadata": {},
   "outputs": [],
   "source": [
    "# 연습"
   ]
  },
  {
   "cell_type": "code",
   "execution_count": 201,
   "id": "768feb36",
   "metadata": {},
   "outputs": [
    {
     "name": "stdout",
     "output_type": "stream",
     "text": [
      "{'apple': 3500, 'peer': 2500, 'cherry': 5000}\n"
     ]
    }
   ],
   "source": [
    "## 다른 데이터 구조를 딕셔너리형으로 변환 dict()\n",
    "fruit_price =[['apple',3500],['peer',2500],['cherry',5000]]\n",
    "fruit_price =dict(fruit_price)\n",
    "print(fruit_price)"
   ]
  },
  {
   "cell_type": "markdown",
   "id": "16f83046",
   "metadata": {},
   "source": [
    "## 4. 세트(Set)\n",
    "### 1) 세트 이해"
   ]
  },
  {
   "cell_type": "code",
   "execution_count": 202,
   "id": "87127014",
   "metadata": {},
   "outputs": [],
   "source": [
    "# 집합 성격 데이터\n",
    "# 중괄호 {} 이용\n",
    "# 중괄호 안에 여러개 데이터인 경우 : 콤마로 구분\n",
    "# 데이터의 중복을 허용하지 않는다!!!\n",
    "# 집합 성격이므로 연산관련 함수 제공 (합집합, 교집합 등)"
   ]
  },
  {
   "cell_type": "markdown",
   "id": "371ff2f3",
   "metadata": {},
   "source": [
    "### 2) 세트와 리스트 비교"
   ]
  },
  {
   "cell_type": "code",
   "execution_count": 203,
   "id": "8748e802",
   "metadata": {},
   "outputs": [
    {
     "data": {
      "text/plain": [
       "{'naver', '삼성전자', '하이닉스'}"
      ]
     },
     "execution_count": 203,
     "metadata": {},
     "output_type": "execute_result"
    }
   ],
   "source": [
    "# 집합으로 만든 경우 : 중괄호 사용\n",
    "stock_set={'삼성전자','하이닉스','naver'}\n",
    "stock_set"
   ]
  },
  {
   "cell_type": "code",
   "execution_count": 205,
   "id": "bb49cdea",
   "metadata": {},
   "outputs": [
    {
     "data": {
      "text/plain": [
       "['삼성전자', '하이닉스', 'naver']"
      ]
     },
     "execution_count": 205,
     "metadata": {},
     "output_type": "execute_result"
    }
   ],
   "source": [
    "# 리스트로 만든 경우 : 대괄호 사용\n",
    "stock_list=['삼성전자', '하이닉스', 'naver']\n",
    "stock_list"
   ]
  },
  {
   "cell_type": "code",
   "execution_count": 206,
   "id": "13c6b08f",
   "metadata": {},
   "outputs": [
    {
     "data": {
      "text/plain": [
       "{'naver', '삼성전자', '하이닉스'}"
      ]
     },
     "execution_count": 206,
     "metadata": {},
     "output_type": "execute_result"
    }
   ],
   "source": [
    "# set은 중복은 허용하지 않는다\n",
    "stock_set={'삼성전자','하이닉스','naver','삼성전자'}\n",
    "stock_set"
   ]
  },
  {
   "cell_type": "code",
   "execution_count": 207,
   "id": "5841543f",
   "metadata": {},
   "outputs": [
    {
     "data": {
      "text/plain": [
       "['삼성전자', '하이닉스', 'naver', '삼성전자']"
      ]
     },
     "execution_count": 207,
     "metadata": {},
     "output_type": "execute_result"
    }
   ],
   "source": [
    "# 리스트로 만든 경우 : 중복을 허용한다\n",
    "stock_list=['삼성전자', '하이닉스', 'naver', '삼성전자']\n",
    "stock_list"
   ]
  },
  {
   "cell_type": "markdown",
   "id": "18ccf6e5",
   "metadata": {},
   "source": [
    "### 3) 세트 데이터 확인하기"
   ]
  },
  {
   "cell_type": "code",
   "execution_count": 208,
   "id": "0d0f82ed",
   "metadata": {},
   "outputs": [],
   "source": [
    "# 데이터 추가하기\n",
    "# 세트 명을 기입하고 add(추가할 데이터)"
   ]
  },
  {
   "cell_type": "code",
   "execution_count": 209,
   "id": "5e9907ff",
   "metadata": {},
   "outputs": [
    {
     "data": {
      "text/plain": [
       "{'naver', '삼성전자', '카카오', '하이닉스'}"
      ]
     },
     "execution_count": 209,
     "metadata": {},
     "output_type": "execute_result"
    }
   ],
   "source": [
    "stock_set={'삼성전자', '하이닉스', 'naver', '카카오'}\n",
    "stock_set"
   ]
  },
  {
   "cell_type": "code",
   "execution_count": 210,
   "id": "318978e6",
   "metadata": {},
   "outputs": [],
   "source": [
    "# 다른 세트에 데이터 업데이트 하기\n",
    "# 다른 세트 명을 기입하고 update(추가할 데이터)"
   ]
  },
  {
   "cell_type": "code",
   "execution_count": 211,
   "id": "c5ad396a",
   "metadata": {},
   "outputs": [],
   "source": [
    "stock_set={'삼성전자','하이닉스','naver','카카오'}\n",
    "stock_set1={'카카오뱅크','신한지주'}"
   ]
  },
  {
   "cell_type": "code",
   "execution_count": 212,
   "id": "831ab83f",
   "metadata": {},
   "outputs": [
    {
     "data": {
      "text/plain": [
       "{'신한지주', '카카오뱅크'}"
      ]
     },
     "execution_count": 212,
     "metadata": {},
     "output_type": "execute_result"
    }
   ],
   "source": [
    "stock_set1"
   ]
  },
  {
   "cell_type": "code",
   "execution_count": 214,
   "id": "7e225541",
   "metadata": {},
   "outputs": [
    {
     "data": {
      "text/plain": [
       "{'naver', '삼성전자', '신한지주', '카카오', '카카오뱅크', '하이닉스'}"
      ]
     },
     "execution_count": 214,
     "metadata": {},
     "output_type": "execute_result"
    }
   ],
   "source": [
    "# 기존 stock_set 에 다른 데이터 set (stock_set1)을 추가하는 update\n",
    "stock_set.update(stock_set1)\n",
    "stock_set"
   ]
  },
  {
   "cell_type": "markdown",
   "id": "ac04355d",
   "metadata": {},
   "source": [
    "## 문자열"
   ]
  },
  {
   "cell_type": "code",
   "execution_count": 215,
   "id": "878487e0",
   "metadata": {},
   "outputs": [
    {
     "data": {
      "text/plain": [
       "11"
      ]
     },
     "execution_count": 215,
     "metadata": {},
     "output_type": "execute_result"
    }
   ],
   "source": [
    "# 문자 길이 ()\n",
    "# 단어 사이에 있는 공백도 하나의 문자로 간주\n",
    "string = 'hello world'\n",
    "len(string)"
   ]
  },
  {
   "cell_type": "code",
   "execution_count": 216,
   "id": "566d5a87",
   "metadata": {},
   "outputs": [],
   "source": [
    "# 문자를 인덱싱과 슬라이싱"
   ]
  },
  {
   "cell_type": "code",
   "execution_count": 217,
   "id": "9b37ceca",
   "metadata": {},
   "outputs": [],
   "source": [
    "# 슬라이싱(slice)\n",
    "# 원하는 문자열의 범위를 지정\n",
    "# 소괄호(), 중괄호{}, 대괄호[]\n",
    "# 대괄호[]는 슬라이싱 할 범위를 지정할 떄 사용하는 기호"
   ]
  },
  {
   "cell_type": "code",
   "execution_count": 218,
   "id": "31bf6d71",
   "metadata": {},
   "outputs": [
    {
     "data": {
      "text/plain": [
       "'hello'"
      ]
     },
     "execution_count": 218,
     "metadata": {},
     "output_type": "execute_result"
    }
   ],
   "source": [
    "# 0은 시작 위치, 5는 끝 위치를 의미\n",
    "# 시작과 끝을 구분하기 위해 사이에 콜론(:) 사용\n",
    "string[0:5]"
   ]
  },
  {
   "cell_type": "code",
   "execution_count": 219,
   "id": "1d8a79fb",
   "metadata": {},
   "outputs": [
    {
     "data": {
      "text/plain": [
       "'hello w'"
      ]
     },
     "execution_count": 219,
     "metadata": {},
     "output_type": "execute_result"
    }
   ],
   "source": [
    "string[0:7]"
   ]
  },
  {
   "cell_type": "code",
   "execution_count": 220,
   "id": "9ce4dc7e",
   "metadata": {},
   "outputs": [
    {
     "data": {
      "text/plain": [
       "'world'"
      ]
     },
     "execution_count": 220,
     "metadata": {},
     "output_type": "execute_result"
    }
   ],
   "source": [
    "string[6:11]"
   ]
  },
  {
   "cell_type": "code",
   "execution_count": 221,
   "id": "5fdfc075",
   "metadata": {},
   "outputs": [
    {
     "data": {
      "text/plain": [
       "'wor'"
      ]
     },
     "execution_count": 221,
     "metadata": {},
     "output_type": "execute_result"
    }
   ],
   "source": [
    "string[6:-2]"
   ]
  },
  {
   "cell_type": "code",
   "execution_count": 222,
   "id": "42501af6",
   "metadata": {},
   "outputs": [],
   "source": [
    "# 쉬어가기\n",
    "# string 정도만 입력한 상태에서 키보드의 탭(Tab) 키를 누르면 자동으로 변수명이 완성 --> 변수명이 긴 경우에 유용하게 활용\n",
    "BigData_Analysist=100"
   ]
  },
  {
   "cell_type": "code",
   "execution_count": 223,
   "id": "61f9119c",
   "metadata": {},
   "outputs": [
    {
     "data": {
      "text/plain": [
       "100"
      ]
     },
     "execution_count": 223,
     "metadata": {},
     "output_type": "execute_result"
    }
   ],
   "source": [
    "BigData_Analysist"
   ]
  },
  {
   "cell_type": "code",
   "execution_count": 224,
   "id": "8f135b90",
   "metadata": {},
   "outputs": [],
   "source": [
    "# 문자열 자르기\n",
    "# split : 메서드(method) 지원\n",
    "# 파이썬에서 문자열을 분리하고 싶을 때는 위 코드 split 메서드를 사용"
   ]
  },
  {
   "cell_type": "code",
   "execution_count": 225,
   "id": "fa39a05f",
   "metadata": {},
   "outputs": [],
   "source": [
    "stock = 'SK LG'"
   ]
  },
  {
   "cell_type": "code",
   "execution_count": 226,
   "id": "410ab378",
   "metadata": {},
   "outputs": [
    {
     "data": {
      "text/plain": [
       "'SK LG'"
      ]
     },
     "execution_count": 226,
     "metadata": {},
     "output_type": "execute_result"
    }
   ],
   "source": [
    "stock"
   ]
  },
  {
   "cell_type": "code",
   "execution_count": 227,
   "id": "5be7d897",
   "metadata": {},
   "outputs": [
    {
     "data": {
      "text/plain": [
       "['SK', 'LG']"
      ]
     },
     "execution_count": 227,
     "metadata": {},
     "output_type": "execute_result"
    }
   ],
   "source": [
    "# split('')과 같이 작은따옴표 사이에 공백\n",
    "stock.split(' ')"
   ]
  },
  {
   "cell_type": "code",
   "execution_count": 228,
   "id": "a5cbc06d",
   "metadata": {},
   "outputs": [
    {
     "data": {
      "text/plain": [
       "'SK'"
      ]
     },
     "execution_count": 228,
     "metadata": {},
     "output_type": "execute_result"
    }
   ],
   "source": [
    "# 인덱스 값[0]을 사용해 리스트의 첫 번재 값\n",
    "stock.split(' ')[0]"
   ]
  },
  {
   "cell_type": "code",
   "execution_count": 229,
   "id": "350fe2e9",
   "metadata": {},
   "outputs": [
    {
     "name": "stdout",
     "output_type": "stream",
     "text": [
      "SK\n"
     ]
    }
   ],
   "source": [
    "# 출력 함수 : print\n",
    "print(stock.split(' ')[0])"
   ]
  },
  {
   "cell_type": "code",
   "execution_count": 230,
   "id": "0a08d40d",
   "metadata": {},
   "outputs": [],
   "source": [
    "# 문자열 합치기"
   ]
  },
  {
   "cell_type": "code",
   "execution_count": 231,
   "id": "0ebd841f",
   "metadata": {},
   "outputs": [],
   "source": [
    "meta = \"META\"\n",
    "facebook = \"FACEBOOK\""
   ]
  },
  {
   "cell_type": "code",
   "execution_count": 233,
   "id": "7c62f7d8",
   "metadata": {},
   "outputs": [
    {
     "data": {
      "text/plain": [
       "'METAFACEBOOK'"
      ]
     },
     "execution_count": 233,
     "metadata": {},
     "output_type": "execute_result"
    }
   ],
   "source": [
    "# 이름을 변수로 지정해두지 않으면 문자열 객체를 사용할 떄마다 두 문자열을 합치는 번거로운 작업이 필요\n",
    "# --> 합쳐진 문자열을 다른 변수가 가리키게 해준다\n",
    "meta + facebook"
   ]
  },
  {
   "cell_type": "code",
   "execution_count": 234,
   "id": "9e6ad646",
   "metadata": {},
   "outputs": [
    {
     "data": {
      "text/plain": [
       "'META FACEBOOK'"
      ]
     },
     "execution_count": 234,
     "metadata": {},
     "output_type": "execute_result"
    }
   ],
   "source": [
    "# 공백을 표시하고 싶으면 작은따옴표('') 사이에 공백을 넣어서 표현\n",
    "meta + ' ' + facebook"
   ]
  },
  {
   "cell_type": "markdown",
   "id": "70cad06b",
   "metadata": {},
   "source": [
    "## 날짜와 시간 설정"
   ]
  },
  {
   "cell_type": "code",
   "execution_count": 235,
   "id": "1d4d4b96",
   "metadata": {},
   "outputs": [],
   "source": [
    "# datetime 패키지\n",
    "# 날짜와 시간을 함꼐 저장하는 datetime 클래스\n",
    "# 날짜만 저정하는 date 클래스\n",
    "# 시간만 저장하는 time 클래스\n",
    "# 시간 구간 정보를 저장하는 timedelta 클래스 등을 제공"
   ]
  },
  {
   "cell_type": "code",
   "execution_count": 236,
   "id": "8124aba1",
   "metadata": {},
   "outputs": [
    {
     "data": {
      "text/plain": [
       "datetime.datetime(2023, 3, 24, 3, 27, 21, 882859)"
      ]
     },
     "execution_count": 236,
     "metadata": {},
     "output_type": "execute_result"
    }
   ],
   "source": [
    "import datetime as dt\n",
    "x = dt.datetime.now()\n",
    "x"
   ]
  },
  {
   "cell_type": "code",
   "execution_count": 237,
   "id": "c364108d",
   "metadata": {},
   "outputs": [],
   "source": [
    "# 다음과 같은 메서드도 제공\n",
    "# weekday : 요일 반환 (0:월, 1:화, 2:수, 3:목, 4:금, 5:토, 6:일)\n",
    "# strftime : 문자열 반환\n",
    "# date : 날짜 정보만 가지는 date 클래스 객체 반환\n",
    "# time : 시간 정보만 가지는 time 클래스 객체 반환"
   ]
  },
  {
   "cell_type": "code",
   "execution_count": 238,
   "id": "006d3e8f",
   "metadata": {},
   "outputs": [
    {
     "data": {
      "text/plain": [
       "4"
      ]
     },
     "execution_count": 238,
     "metadata": {},
     "output_type": "execute_result"
    }
   ],
   "source": [
    "x.weekday()"
   ]
  },
  {
   "cell_type": "code",
   "execution_count": 241,
   "id": "faa2bc98",
   "metadata": {},
   "outputs": [
    {
     "data": {
      "text/plain": [
       "datetime.date(2023, 3, 24)"
      ]
     },
     "execution_count": 241,
     "metadata": {},
     "output_type": "execute_result"
    }
   ],
   "source": [
    "x.date()"
   ]
  },
  {
   "cell_type": "code",
   "execution_count": 242,
   "id": "fe979ca4",
   "metadata": {},
   "outputs": [
    {
     "data": {
      "text/plain": [
       "datetime.time(3, 27, 21, 882859)"
      ]
     },
     "execution_count": 242,
     "metadata": {},
     "output_type": "execute_result"
    }
   ],
   "source": [
    "x.time()"
   ]
  },
  {
   "cell_type": "code",
   "execution_count": null,
   "id": "e4e23ee0",
   "metadata": {},
   "outputs": [],
   "source": []
  }
 ],
 "metadata": {
  "kernelspec": {
   "display_name": "Python 3 (ipykernel)",
   "language": "python",
   "name": "python3"
  },
  "language_info": {
   "codemirror_mode": {
    "name": "ipython",
    "version": 3
   },
   "file_extension": ".py",
   "mimetype": "text/x-python",
   "name": "python",
   "nbconvert_exporter": "python",
   "pygments_lexer": "ipython3",
   "version": "3.9.13"
  }
 },
 "nbformat": 4,
 "nbformat_minor": 5
}
