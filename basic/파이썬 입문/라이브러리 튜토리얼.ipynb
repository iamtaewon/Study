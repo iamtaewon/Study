{
 "cells": [
  {
   "cell_type": "markdown",
   "id": "22c470cd",
   "metadata": {},
   "source": [
    "# 라이브러리 튜토리얼"
   ]
  },
  {
   "cell_type": "markdown",
   "id": "7a337770",
   "metadata": {},
   "source": [
    "## [Pandas](https://pandas.pydata.org/pandas-docs/stable/user_guide/10min.html#)\n",
    "## [DataReader](https://pandas-datareader.readthedocs.io/en/latest/see-also.html)\n",
    "## [FinanceDataReader](https://financedata.github.io/posts/finance-data-reader-users-guide.html)\n",
    "## [OpenDataReader](https://github.com/FinanceData/OpenDartReader)\n",
    "## [Statsmodels](https://www.statsmodels.org/stable/gettingstarted.html)"
   ]
  },
  {
   "cell_type": "code",
   "execution_count": null,
   "id": "04697e7d",
   "metadata": {},
   "outputs": [],
   "source": []
  }
 ],
 "metadata": {
  "kernelspec": {
   "display_name": "Python 3 (ipykernel)",
   "language": "python",
   "name": "python3"
  },
  "language_info": {
   "codemirror_mode": {
    "name": "ipython",
    "version": 3
   },
   "file_extension": ".py",
   "mimetype": "text/x-python",
   "name": "python",
   "nbconvert_exporter": "python",
   "pygments_lexer": "ipython3",
   "version": "3.9.13"
  }
 },
 "nbformat": 4,
 "nbformat_minor": 5
}
