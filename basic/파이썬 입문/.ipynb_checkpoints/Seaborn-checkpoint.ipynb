{
 "cells": [
  {
   "cell_type": "markdown",
   "id": "2bcda636",
   "metadata": {},
   "source": [
    "# Seaborn\n",
    "## https://seaborn.pydata.org/\n",
    "## https://seaborn.pydata.org/api.html#distribution-api"
   ]
  },
  {
   "cell_type": "code",
   "execution_count": 1,
   "id": "7e4570f8",
   "metadata": {},
   "outputs": [],
   "source": [
    "# matplotlib을 기반으로 고수준의 그래프 작성\n",
    "# 통계 그래프를 위한 인터페이스 제공"
   ]
  },
  {
   "cell_type": "code",
   "execution_count": null,
   "id": "da1b84bd",
   "metadata": {},
   "outputs": [],
   "source": []
  }
 ],
 "metadata": {
  "kernelspec": {
   "display_name": "Python 3 (ipykernel)",
   "language": "python",
   "name": "python3"
  },
  "language_info": {
   "codemirror_mode": {
    "name": "ipython",
    "version": 3
   },
   "file_extension": ".py",
   "mimetype": "text/x-python",
   "name": "python",
   "nbconvert_exporter": "python",
   "pygments_lexer": "ipython3",
   "version": "3.9.13"
  }
 },
 "nbformat": 4,
 "nbformat_minor": 5
}
