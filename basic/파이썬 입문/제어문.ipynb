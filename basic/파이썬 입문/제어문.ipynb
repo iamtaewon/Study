{
 "cells": [
  {
   "cell_type": "markdown",
   "id": "f3af8b79",
   "metadata": {},
   "source": [
    "# 제어문"
   ]
  },
  {
   "cell_type": "code",
   "execution_count": 3,
   "id": "0226357b",
   "metadata": {},
   "outputs": [],
   "source": [
    "# 조건문 : 어떤 조건을 보고 코드를 수행하는 것\n",
    "# 반복문 : 어떤 조건하에서 반복적으로 코드를 수행하는 것\n",
    "# 제어문(조건문, 반복문) : 조건문이나 반복문 처럼 프로그램 명령어가 기술된 순서대로 순차 수행하는 경우\n",
    "# 제어문 : if, for, while"
   ]
  },
  {
   "cell_type": "markdown",
   "id": "6077b2ec",
   "metadata": {},
   "source": [
    "## 1. if 조건문\n",
    "### 1) if 조건문 이해"
   ]
  },
  {
   "cell_type": "code",
   "execution_count": 4,
   "id": "02a3f657",
   "metadata": {},
   "outputs": [],
   "source": [
    "# 특정 조건에 따라 코드 실행이 다르게 수행하는 조건문\n",
    "# if : 조건문을 표현\n",
    "# if 문의 끝에는 콜론(:)을 입력\n",
    "# .if 문의 조건이 True일 때 실행되는 문장은 들여쓰기"
   ]
  },
  {
   "cell_type": "code",
   "execution_count": 5,
   "id": "8fafdeca",
   "metadata": {},
   "outputs": [],
   "source": [
    "# \"삼성전자의 현재가가 55,000원 이하이면 100주 매수\"\n",
    "# \"삼성전자의 현재가가 80,000원 이상이면 100주 매도\""
   ]
  },
  {
   "cell_type": "code",
   "execution_count": 7,
   "id": "429edd71",
   "metadata": {},
   "outputs": [
    {
     "name": "stdout",
     "output_type": "stream",
     "text": [
      "Buy 100\n"
     ]
    }
   ],
   "source": [
    "# if 문의 조건식이 참이므로 4칸의 공백으로 들여쓰기된 'print(\"Buy 100\")'이라는 문장이 실행\n",
    "# 들여쓰기 : 들여쓰기를 통해 문장의 시작과 끝을 표시\n",
    "# if 문의 조건식이 true이면 실행되고 false면 실행하지 않는다.\n",
    "# 아래 사례 : True 경우\n",
    "\n",
    "삼성전자_sec_price = 50000\n",
    "if 삼성전자_sec_price <= 50000 :\n",
    "    print(\"Buy 100\")"
   ]
  },
  {
   "cell_type": "code",
   "execution_count": 8,
   "id": "df06c3c3",
   "metadata": {},
   "outputs": [],
   "source": [
    "# if 문의 조건식이 true이면 실행되고 False면 실행하지 않는다.\n",
    "# 아래 사례 : False의 겨우\n",
    "\n",
    "삼성전자_sec_price = 70000\n",
    "if 삼성전자_sec_price <= 55000 :\n",
    "    print(\"Buy 100\")"
   ]
  },
  {
   "cell_type": "markdown",
   "id": "553bba9d",
   "metadata": {},
   "source": [
    "### 2) if ~ else문"
   ]
  },
  {
   "cell_type": "code",
   "execution_count": 9,
   "id": "44aa6b10",
   "metadata": {},
   "outputs": [],
   "source": [
    "# if문은 조건문은 조건에 true이면 실행되고, false면 실행하지 않는다\n",
    "# 만일 ~ 참이면 (if) + '그렇지 않으면'(else) 라는 새로운 조건이 추가\n",
    "# 즉, else는 if의 조건에 맞지 않을 때 실행 --> 즉, 조건문의 조건이 false이면 실행되고 true면 실행되지 않는다"
   ]
  },
  {
   "cell_type": "code",
   "execution_count": 10,
   "id": "0646806d",
   "metadata": {},
   "outputs": [
    {
     "name": "stdout",
     "output_type": "stream",
     "text": [
      "Buy 100\n"
     ]
    }
   ],
   "source": [
    "삼성전자_sec_price = 50000\n",
    "if 삼성전자_sec_price <= 55000:\n",
    "    print(\"Buy 100\")\n",
    "else :\n",
    "    print(\"Sell\")"
   ]
  },
  {
   "cell_type": "code",
   "execution_count": 11,
   "id": "2633517f",
   "metadata": {},
   "outputs": [
    {
     "name": "stdout",
     "output_type": "stream",
     "text": [
      "Sell\n"
     ]
    }
   ],
   "source": [
    "삼성전자_sec_price = 70000\n",
    "if 삼성전자_sec_price <= 55000:\n",
    "    print(\"Buy 100\")\n",
    "else:\n",
    "    print(\"Sell\")"
   ]
  },
  {
   "cell_type": "markdown",
   "id": "ee906d59",
   "metadata": {},
   "source": [
    "### 3) elif"
   ]
  },
  {
   "cell_type": "code",
   "execution_count": 13,
   "id": "059d3dca",
   "metadata": {},
   "outputs": [],
   "source": [
    "# elif라는 것을 사용하면 여러 개의 조건을 검사해서 그 중에서 맘에 드는 것을 선택"
   ]
  },
  {
   "cell_type": "code",
   "execution_count": 14,
   "id": "b36c24b9",
   "metadata": {},
   "outputs": [],
   "source": [
    "# IF (조건 식1이 참이면) THEN\n",
    "#                  문장1을 수행한다.\n",
    "#           ELSE IF (조건 식2가 참이면) THEN\n",
    "#                  문장2를 수행한다.\n",
    "#           ELSE IF (조건 식3이 참이면) THEN\n",
    "#                  문장3을 수행한다.\n",
    "#           ....\n",
    "#           ELSE IF (조건 식n이 참이면) THEN\n",
    "#                  문장n을 수행한다.\n",
    "#           ELSE\n",
    "#                  문장n+1을 수행한다"
   ]
  },
  {
   "cell_type": "code",
   "execution_count": 15,
   "id": "a2037b83",
   "metadata": {},
   "outputs": [
    {
     "name": "stdout",
     "output_type": "stream",
     "text": [
      "Buy 100\n"
     ]
    }
   ],
   "source": [
    "삼성전자_sec_price = 45000\n",
    "if 삼성전자_sec_price <= 55000:\n",
    "    print(\"Buy 100\")\n",
    "elif 삼성전자_sec_price >= 65000 and 삼성전자_sec_price <= 65000:\n",
    "    print(\"Sell\")\n",
    "else:\n",
    "    print(\"관망\")"
   ]
  },
  {
   "cell_type": "code",
   "execution_count": 16,
   "id": "f77aa185",
   "metadata": {},
   "outputs": [
    {
     "name": "stdout",
     "output_type": "stream",
     "text": [
      "관망\n"
     ]
    }
   ],
   "source": [
    "삼성전자_sec_price = 60000\n",
    "if 삼성전자_sec_price <= 55000:\n",
    "    print(\"Buy 100\")\n",
    "elif 삼성전자_sec_price >= 65000 and 삼성전자_sec_price <= 65000:\n",
    "    print(\"Sell\")\n",
    "else:\n",
    "    print(\"관망\")"
   ]
  },
  {
   "cell_type": "code",
   "execution_count": 18,
   "id": "3c71afd0",
   "metadata": {},
   "outputs": [
    {
     "name": "stdout",
     "output_type": "stream",
     "text": [
      "Sell\n"
     ]
    }
   ],
   "source": [
    "삼성전자_sec_price = 80000\n",
    "if 삼성전자_sec_price <= 55000:\n",
    "    print(\"Buy 100\")\n",
    "elif 삼성전자_sec_price >= 55000 and 삼성전자_sec_price <= 65000:\n",
    "    print(\"관망\")\n",
    "else:\n",
    "    print(\"Sell\")"
   ]
  },
  {
   "cell_type": "markdown",
   "id": "d308d181",
   "metadata": {},
   "source": [
    "### 4) 이중 if : kospi 조건을 제약"
   ]
  },
  {
   "cell_type": "code",
   "execution_count": 20,
   "id": "7980706f",
   "metadata": {},
   "outputs": [
    {
     "name": "stdout",
     "output_type": "stream",
     "text": [
      "비중확대\n"
     ]
    }
   ],
   "source": [
    "# kospi 2200pt 이하, 삼성전자 50000 이하 : 비중 확대\n",
    "# kospi 2400pt 이상, 삼성전자 65000 이상 : 매도\n",
    "\n",
    "kospi = 2150\n",
    "삼성전자_sec_price = 50000\n",
    "if 삼성전자_sec_price <= 50000 and kospi <= 2200:\n",
    "    print(\"비중확대\")\n",
    "elif 삼성전자_sec_price >= 65000 and 삼성전자_sec_price >= 2400:\n",
    "    print(\"비중축소\")\n",
    "else:\n",
    "    print(\"비중유지\")"
   ]
  },
  {
   "cell_type": "code",
   "execution_count": 22,
   "id": "76b3ecd7",
   "metadata": {},
   "outputs": [
    {
     "name": "stdout",
     "output_type": "stream",
     "text": [
      "비중축소\n"
     ]
    }
   ],
   "source": [
    "kospi = 2500\n",
    "삼성전자_sec_price = 80000\n",
    "if 삼성전자_sec_price <= 50000 and kospi <= 2200:\n",
    "    print(\"비중확대\")\n",
    "elif 삼성전자_sec_price >= 65000 and 삼성전자_sec_price >= 2400:\n",
    "    print(\"비중축소\")\n",
    "else:\n",
    "    print(\"비중유지\")"
   ]
  },
  {
   "cell_type": "code",
   "execution_count": 23,
   "id": "5ff251e5",
   "metadata": {},
   "outputs": [
    {
     "name": "stdout",
     "output_type": "stream",
     "text": [
      "비중유지\n"
     ]
    }
   ],
   "source": [
    "kospi = 2300\n",
    "삼성전자_sec_price = 58000\n",
    "if 삼성전자_sec_price <= 50000 and kospi <= 2200:\n",
    "    print(\"비중확대\")\n",
    "elif 삼성전자_sec_price >= 65000 and 삼성전자_sec_price >= 2400:\n",
    "    print(\"비중축소\")\n",
    "else:\n",
    "    print(\"비중유지\")"
   ]
  },
  {
   "cell_type": "markdown",
   "id": "f545c954",
   "metadata": {},
   "source": [
    "## 2. 반복문(for 문)\n",
    "### 1) 기본 이해"
   ]
  },
  {
   "cell_type": "code",
   "execution_count": 24,
   "id": "e8abf297",
   "metadata": {},
   "outputs": [],
   "source": [
    "# 반복되는 경우 효율성 제고\n",
    "# 특정 횟수만큼 반복 실행\n",
    "# 자료를 순서대로 할당\n",
    "\n",
    "# 작성 방법 ==> for [변수] in [변수 반복 하려는 인지] :\n",
    "               # 들여쓰기 수행문"
   ]
  },
  {
   "cell_type": "code",
   "execution_count": 25,
   "id": "f26aa7c1",
   "metadata": {},
   "outputs": [
    {
     "name": "stdout",
     "output_type": "stream",
     "text": [
      "1\n"
     ]
    }
   ],
   "source": [
    "print(1)"
   ]
  },
  {
   "cell_type": "code",
   "execution_count": 26,
   "id": "cf01bb4f",
   "metadata": {},
   "outputs": [
    {
     "name": "stdout",
     "output_type": "stream",
     "text": [
      "2\n"
     ]
    }
   ],
   "source": [
    "print(2)"
   ]
  },
  {
   "cell_type": "code",
   "execution_count": 27,
   "id": "273fb9c8",
   "metadata": {},
   "outputs": [
    {
     "name": "stdout",
     "output_type": "stream",
     "text": [
      "3\n"
     ]
    }
   ],
   "source": [
    "print(3)"
   ]
  },
  {
   "cell_type": "code",
   "execution_count": 28,
   "id": "ffdc6dec",
   "metadata": {},
   "outputs": [
    {
     "name": "stdout",
     "output_type": "stream",
     "text": [
      "0\n",
      "1\n",
      "2\n",
      "3\n",
      "4\n",
      "5\n"
     ]
    }
   ],
   "source": [
    "# for 문을 사용하면 중복된 부분의 코드를 줄일 수 있어 프로그램을 빨리 작성할 수 있고 코드의 가독성도 향상 \n",
    "\n",
    "# 작성 방법 ==> for [지정한 변수명] in [반복 인자] :\n",
    "               # 들여쓰기 수행문\n",
    "\n",
    "# for 문장 끝에 콜론(:)\n",
    "# for 문에서 수행되는 문장은 들여쓰기.\n",
    "# for () in : 리스트 안에 있는 각 값을 print()\n",
    "\n",
    "for a in [0,1,2,3,4,5]:\n",
    "    print(a)"
   ]
  },
  {
   "cell_type": "code",
   "execution_count": 29,
   "id": "801c3340",
   "metadata": {},
   "outputs": [
    {
     "name": "stdout",
     "output_type": "stream",
     "text": [
      "10\n",
      "11\n",
      "12\n",
      "13\n",
      "14\n",
      "15\n"
     ]
    }
   ],
   "source": [
    "# 수행문이 a 변수에 5를 더한 값\n",
    "# a 변수에 10을 더한 값을 new_a에 담는다\n",
    "\n",
    "for a in [0,1,2,3,4,5]:\n",
    "    new_a = a+10\n",
    "    print(new_a)"
   ]
  },
  {
   "cell_type": "code",
   "execution_count": 30,
   "id": "7e889b5a",
   "metadata": {},
   "outputs": [
    {
     "name": "stdout",
     "output_type": "stream",
     "text": [
      "0\n",
      "0\n",
      "1\n",
      "1\n",
      "2\n",
      "2\n",
      "3\n",
      "3\n",
      "4\n",
      "4\n",
      "5\n",
      "5\n"
     ]
    }
   ],
   "source": [
    "for a in [0,1,2,3,4,5,]:\n",
    "    print(a)\n",
    "    print(a)"
   ]
  },
  {
   "cell_type": "markdown",
   "id": "2239243e",
   "metadata": {},
   "source": [
    "### 2) for문 range 함수와 함께"
   ]
  },
  {
   "cell_type": "code",
   "execution_count": 31,
   "id": "9c09265a",
   "metadata": {},
   "outputs": [],
   "source": [
    "# for문은 range라는 함수와 함께 많이 사용\n",
    "# range 함수는 숫자(정수) 리스트를 자동으로 생성\n",
    "# 정수 범위를 표현"
   ]
  },
  {
   "cell_type": "code",
   "execution_count": 32,
   "id": "3ffbf158",
   "metadata": {},
   "outputs": [
    {
     "data": {
      "text/plain": [
       "range(1, 5)"
      ]
     },
     "execution_count": 32,
     "metadata": {},
     "output_type": "execute_result"
    }
   ],
   "source": [
    "range(1,5)"
   ]
  },
  {
   "cell_type": "code",
   "execution_count": 33,
   "id": "6c12cbf2",
   "metadata": {},
   "outputs": [
    {
     "data": {
      "text/plain": [
       "[1, 2, 3, 4]"
      ]
     },
     "execution_count": 33,
     "metadata": {},
     "output_type": "execute_result"
    }
   ],
   "source": [
    "# range(1,10)을 list라는 키워드를 통해 리스트 객체로 변환\n",
    "# 1부터 4까지의 경우\n",
    "list(range(1,5))"
   ]
  },
  {
   "cell_type": "code",
   "execution_count": 34,
   "id": "3f0ff2f0",
   "metadata": {},
   "outputs": [
    {
     "data": {
      "text/plain": [
       "range(1, 11)"
      ]
     },
     "execution_count": 34,
     "metadata": {},
     "output_type": "execute_result"
    }
   ],
   "source": [
    "# 만약 1부터 10까지 출력\n",
    "range(1,11)"
   ]
  },
  {
   "cell_type": "code",
   "execution_count": 35,
   "id": "6357e97e",
   "metadata": {},
   "outputs": [
    {
     "data": {
      "text/plain": [
       "[1, 2, 3, 4, 5, 6, 7, 8, 9, 10]"
      ]
     },
     "execution_count": 35,
     "metadata": {},
     "output_type": "execute_result"
    }
   ],
   "source": [
    "list(range(1,11))"
   ]
  },
  {
   "cell_type": "code",
   "execution_count": 37,
   "id": "c44a7754",
   "metadata": {},
   "outputs": [
    {
     "name": "stdout",
     "output_type": "stream",
     "text": [
      "1\n",
      "2\n",
      "3\n",
      "4\n",
      "5\n",
      "6\n",
      "7\n",
      "8\n",
      "9\n",
      "10\n"
     ]
    }
   ],
   "source": [
    "# for 변수 in range(시작숫자, 끝숫자)\n",
    "for num in range(1,11):\n",
    "    print(num)"
   ]
  },
  {
   "cell_type": "code",
   "execution_count": 38,
   "id": "4242f98d",
   "metadata": {},
   "outputs": [
    {
     "name": "stdout",
     "output_type": "stream",
     "text": [
      "1\n",
      "2\n",
      "3\n",
      "4\n",
      "5\n",
      "6\n",
      "7\n",
      "8\n",
      "9\n",
      "10\n"
     ]
    }
   ],
   "source": [
    "for abc in range(1,11):\n",
    "    print(abc)"
   ]
  },
  {
   "cell_type": "code",
   "execution_count": 39,
   "id": "c731ba2e",
   "metadata": {},
   "outputs": [
    {
     "name": "stdout",
     "output_type": "stream",
     "text": [
      "1\n",
      "2\n",
      "3\n",
      "4\n",
      "5\n",
      "6\n",
      "7\n",
      "8\n",
      "9\n",
      "10\n"
     ]
    }
   ],
   "source": [
    "for a in list(range(1,11)):\n",
    "    print(a)"
   ]
  },
  {
   "cell_type": "code",
   "execution_count": 40,
   "id": "b0acfcd2",
   "metadata": {},
   "outputs": [
    {
     "name": "stdout",
     "output_type": "stream",
     "text": [
      "0\n",
      "1\n",
      "2\n"
     ]
    }
   ],
   "source": [
    "# range(숫자) : 0부터 입력한 숫자전까지 정수를 반환한다\n",
    "for num in range(3):\n",
    "    print(num)"
   ]
  },
  {
   "cell_type": "code",
   "execution_count": 41,
   "id": "94a95348",
   "metadata": {},
   "outputs": [
    {
     "name": "stdout",
     "output_type": "stream",
     "text": [
      "1\n",
      "4\n",
      "7\n",
      "10\n",
      "13\n",
      "16\n",
      "19\n",
      "22\n",
      "25\n",
      "28\n"
     ]
    }
   ],
   "source": [
    "# range(숫자1, 숫자2, 숫자3) : 숫자1부터 숫자2 전까지 숫자3씩 증가하는 정수를 반환한다\n",
    "for num in range(1,30,3):\n",
    "    print(num)"
   ]
  },
  {
   "cell_type": "markdown",
   "id": "538c087a",
   "metadata": {},
   "source": [
    "## 3. 반복문(While문)"
   ]
  },
  {
   "cell_type": "code",
   "execution_count": 42,
   "id": "7924598b",
   "metadata": {},
   "outputs": [],
   "source": [
    "# while 문은 반복해야 할 횟수가 특별히 정해지지 않고 어떤 조건을 충족하는 동안만 실행될 때 주로 사용\n",
    "# for문을 사용한 경우나 while문을 사용한 경우의 결과는 동일 함"
   ]
  },
  {
   "cell_type": "code",
   "execution_count": 1,
   "id": "f34afd34",
   "metadata": {},
   "outputs": [
    {
     "name": "stdout",
     "output_type": "stream",
     "text": [
      "1\n",
      "3\n",
      "5\n",
      "7\n",
      "9\n"
     ]
    }
   ],
   "source": [
    "# 0부터 10까지의 숫자 중에서 홀수만 화면에 출력하는 프로그램 구현 사례\n",
    "# 나머지 값 : %\n",
    "# 사칙연산 참고\n",
    "num = 0\n",
    "while num <= 10:\n",
    "    if num % 2 == 1:\n",
    "        print(num)\n",
    "    num += 1"
   ]
  },
  {
   "cell_type": "markdown",
   "id": "cf54c0f6",
   "metadata": {},
   "source": [
    "# Boolean"
   ]
  },
  {
   "cell_type": "code",
   "execution_count": 2,
   "id": "4cf5c0dd",
   "metadata": {},
   "outputs": [],
   "source": [
    "# --> True 또는 False라는 값만 바인딩\n",
    "# bool : Boolean의 줄임말\n",
    "# 사용 : 어떤 두 값을 비교하는 데 사용되는 비교 연산자에서 많이 사용\n",
    "\n",
    "# 파이썬 비교 연산자\n",
    "# == 같다\n",
    "# != 다르다\n",
    "# >크다 <작다\n",
    "# >=크거나 같다 <=작거나 같다"
   ]
  },
  {
   "cell_type": "code",
   "execution_count": 3,
   "id": "bd9b0bd3",
   "metadata": {},
   "outputs": [
    {
     "data": {
      "text/plain": [
       "True"
      ]
     },
     "execution_count": 3,
     "metadata": {},
     "output_type": "execute_result"
    }
   ],
   "source": [
    "10 == 10"
   ]
  },
  {
   "cell_type": "code",
   "execution_count": 4,
   "id": "e9f05da1",
   "metadata": {},
   "outputs": [
    {
     "data": {
      "text/plain": [
       "False"
      ]
     },
     "execution_count": 4,
     "metadata": {},
     "output_type": "execute_result"
    }
   ],
   "source": [
    "10!=10"
   ]
  },
  {
   "cell_type": "code",
   "execution_count": 5,
   "id": "472937c5",
   "metadata": {},
   "outputs": [
    {
     "data": {
      "text/plain": [
       "False"
      ]
     },
     "execution_count": 5,
     "metadata": {},
     "output_type": "execute_result"
    }
   ],
   "source": [
    "10>10"
   ]
  },
  {
   "cell_type": "code",
   "execution_count": 6,
   "id": "16eeced7",
   "metadata": {},
   "outputs": [
    {
     "data": {
      "text/plain": [
       "False"
      ]
     },
     "execution_count": 6,
     "metadata": {},
     "output_type": "execute_result"
    }
   ],
   "source": [
    "10<10"
   ]
  },
  {
   "cell_type": "code",
   "execution_count": 7,
   "id": "ded45da9",
   "metadata": {},
   "outputs": [
    {
     "data": {
      "text/plain": [
       "True"
      ]
     },
     "execution_count": 7,
     "metadata": {},
     "output_type": "execute_result"
    }
   ],
   "source": [
    "10>=10"
   ]
  },
  {
   "cell_type": "code",
   "execution_count": 8,
   "id": "828f4e35",
   "metadata": {},
   "outputs": [
    {
     "data": {
      "text/plain": [
       "True"
      ]
     },
     "execution_count": 8,
     "metadata": {},
     "output_type": "execute_result"
    }
   ],
   "source": [
    "10<=10"
   ]
  },
  {
   "cell_type": "markdown",
   "id": "13214c03",
   "metadata": {},
   "source": [
    "# 논리 연산자"
   ]
  },
  {
   "cell_type": "code",
   "execution_count": 9,
   "id": "7ec38416",
   "metadata": {},
   "outputs": [],
   "source": [
    "# 논리연산은 다음의 경우 사용\n",
    "# 예를 들어 '둘 중 하나가 참이면 참이다.', '둘 다 참(True)이면 이 조건문은 참(True)이다.'\n",
    "# 처럼 조건문이 True인지? False인지? 판단하는 것\n",
    "# and : '그리고'\n",
    "# or : '또는'\n",
    "# not : '-아닌'이라는 의미로 A가 거짓이라면 참(True)를 반환하고 A가 참이라면 거짓(False)을 반환"
   ]
  },
  {
   "cell_type": "code",
   "execution_count": 10,
   "id": "e963b68c",
   "metadata": {},
   "outputs": [
    {
     "data": {
      "text/plain": [
       "True"
      ]
     },
     "execution_count": 10,
     "metadata": {},
     "output_type": "execute_result"
    }
   ],
   "source": [
    "d1 = 100000\n",
    "d2 = 130000\n",
    "((d2-d1)==(d1*0.3))or((d2-d1)>(d1*0.29))"
   ]
  },
  {
   "cell_type": "markdown",
   "id": "155067df",
   "metadata": {},
   "source": [
    "# 파이썬 함수(function)\n",
    "## 1) 함수란?"
   ]
  },
  {
   "cell_type": "code",
   "execution_count": 11,
   "id": "6be71361",
   "metadata": {},
   "outputs": [],
   "source": [
    "# 프로그램을 개발 과정에서 중복으로 사용되는 코드일 때\n",
    "# 중복 코드를 재사용하고 싶을 때는 함수(function) 형태로 코드를 작성\n",
    "# 입력값을 넣으면 원하는 출력값을 얻을 수 있음.--> 입력값을 연산을 통해 새로운 출력값을 얻을 수 있다.\n",
    "# 입력값  --> 함수 --> 출력 값"
   ]
  },
  {
   "cell_type": "code",
   "execution_count": 12,
   "id": "2d445178",
   "metadata": {},
   "outputs": [
    {
     "name": "stdout",
     "output_type": "stream",
     "text": [
      "금융빅데이터\n"
     ]
    }
   ],
   "source": [
    "print(\"금융빅데이터\")"
   ]
  },
  {
   "cell_type": "code",
   "execution_count": 13,
   "id": "71a11d47",
   "metadata": {},
   "outputs": [
    {
     "name": "stdout",
     "output_type": "stream",
     "text": [
      "금융빅데이터\n",
      "금융빅데이터\n",
      "금융빅데이터\n"
     ]
    }
   ],
   "source": [
    "for i in range(3):\n",
    "    print(\"금융빅데이터\")"
   ]
  },
  {
   "cell_type": "markdown",
   "id": "8b789845",
   "metadata": {},
   "source": [
    "## 2) 함수 만들기"
   ]
  },
  {
   "cell_type": "code",
   "execution_count": 14,
   "id": "78ef5e47",
   "metadata": {},
   "outputs": [],
   "source": [
    "# def : 파이썬에서는 함수 만들 때 라는 키워드\n",
    "# def : definition\n",
    "# 함수의 기능과 연관된 적당한 함수명을 지정이 필요\n",
    "# 함수라는 것은 처음에 한 번만 잘 만들어 두면 다음에는 호출하여 원하는 기능을 실행\n",
    "# 실행 차례 : 함수 정의(선언)--> 함수 호출"
   ]
  },
  {
   "cell_type": "code",
   "execution_count": 15,
   "id": "8394d509",
   "metadata": {},
   "outputs": [],
   "source": [
    "# def 다음에 함수이름(인자)\n",
    "# 두번째 줄에 들어쓰기 후 함수 본문\n",
    "\n",
    "def print_job():\n",
    "    print(\"금융빅데이터분석가\")"
   ]
  },
  {
   "cell_type": "code",
   "execution_count": 16,
   "id": "4dfcb01e",
   "metadata": {},
   "outputs": [],
   "source": [
    "def print_job(n):\n",
    "    for i in range(n):\n",
    "        print(\"금융빅데이터분석가\")"
   ]
  },
  {
   "cell_type": "code",
   "execution_count": 17,
   "id": "2bdc9e28",
   "metadata": {},
   "outputs": [
    {
     "name": "stdout",
     "output_type": "stream",
     "text": [
      "금융빅데이터분석가\n"
     ]
    }
   ],
   "source": [
    "print_job(1)"
   ]
  },
  {
   "cell_type": "code",
   "execution_count": 19,
   "id": "f15ed840",
   "metadata": {},
   "outputs": [
    {
     "name": "stdout",
     "output_type": "stream",
     "text": [
      "금융빅데이터분석가\n",
      "금융빅데이터분석가\n",
      "금융빅데이터분석가\n",
      "금융빅데이터분석가\n",
      "금융빅데이터분석가\n"
     ]
    }
   ],
   "source": [
    "print_job(5)"
   ]
  },
  {
   "cell_type": "markdown",
   "id": "0bf05a74",
   "metadata": {},
   "source": [
    "# 파이썬 내장 함수"
   ]
  },
  {
   "cell_type": "code",
   "execution_count": 20,
   "id": "6b2d6c61",
   "metadata": {},
   "outputs": [],
   "source": [
    "# 내장 함수(Built-in Functions) 기본 제공\n",
    "# https://docs.python.org/ko/3/library/functions.html\n",
    "    \n",
    "# abs()\tlen() dict () min () 등"
   ]
  },
  {
   "cell_type": "code",
   "execution_count": 21,
   "id": "013ec07f",
   "metadata": {},
   "outputs": [
    {
     "data": {
      "text/plain": [
       "10"
      ]
     },
     "execution_count": 21,
     "metadata": {},
     "output_type": "execute_result"
    }
   ],
   "source": [
    "# abs(x) : 정수형 또는 실수형 값을 입력받은 후 해당 값의 절댓값을 반환하는 함수\n",
    "\n",
    "abs(-10)"
   ]
  },
  {
   "cell_type": "code",
   "execution_count": 22,
   "id": "58f2c9ae",
   "metadata": {},
   "outputs": [
    {
     "data": {
      "text/plain": [
       "6"
      ]
     },
     "execution_count": 22,
     "metadata": {},
     "output_type": "execute_result"
    }
   ],
   "source": [
    "# len() : 리스트, 튜플, 문자열, 딕셔너리 등을 입력받아 해당 객체의 원소 개수를 반환\n",
    "len('금융빅데이터')"
   ]
  },
  {
   "cell_type": "code",
   "execution_count": 23,
   "id": "2b94c4ea",
   "metadata": {},
   "outputs": [
    {
     "data": {
      "text/plain": [
       "['금', '융', '빅', '데', '이', '터']"
      ]
     },
     "execution_count": 23,
     "metadata": {},
     "output_type": "execute_result"
    }
   ],
   "source": [
    "# list() : 문자열이나 튜플을 입력받은 후 리스트 객체로 만들고 해당 리스트를 반환\n",
    "list('금융빅데이터')"
   ]
  },
  {
   "cell_type": "code",
   "execution_count": 24,
   "id": "5429f42a",
   "metadata": {},
   "outputs": [],
   "source": [
    "# max : 입력값 중 최댓값을 반환\n",
    "# min : 입력값 중 최소값을 반환"
   ]
  },
  {
   "cell_type": "code",
   "execution_count": 25,
   "id": "f725e275",
   "metadata": {},
   "outputs": [
    {
     "data": {
      "text/plain": [
       "5"
      ]
     },
     "execution_count": 25,
     "metadata": {},
     "output_type": "execute_result"
    }
   ],
   "source": [
    "max(1,2,3,4,5)"
   ]
  },
  {
   "cell_type": "code",
   "execution_count": 26,
   "id": "8defbfe3",
   "metadata": {},
   "outputs": [
    {
     "data": {
      "text/plain": [
       "1"
      ]
     },
     "execution_count": 26,
     "metadata": {},
     "output_type": "execute_result"
    }
   ],
   "source": [
    "min(1,2,3,4,5)"
   ]
  },
  {
   "cell_type": "code",
   "execution_count": 27,
   "id": "8cd60aab",
   "metadata": {},
   "outputs": [],
   "source": [
    "# sorted : 입력값을 정렬한 후 정렬된 결과값을 '리스트'로 반환"
   ]
  },
  {
   "cell_type": "code",
   "execution_count": 29,
   "id": "ee1f10a2",
   "metadata": {},
   "outputs": [
    {
     "data": {
      "text/plain": [
       "[0, 1, 3, 4, 5]"
      ]
     },
     "execution_count": 29,
     "metadata": {},
     "output_type": "execute_result"
    }
   ],
   "source": [
    "sorted((4,3,1,5,0))"
   ]
  },
  {
   "cell_type": "code",
   "execution_count": 30,
   "id": "8b21cf6c",
   "metadata": {},
   "outputs": [
    {
     "data": {
      "text/plain": [
       "['a', 'b', 'c', 'd']"
      ]
     },
     "execution_count": 30,
     "metadata": {},
     "output_type": "execute_result"
    }
   ],
   "source": [
    "sorted(['c','b','d','a'])"
   ]
  },
  {
   "cell_type": "code",
   "execution_count": 32,
   "id": "12a3cfb1",
   "metadata": {},
   "outputs": [
    {
     "data": {
      "text/plain": [
       "['금융', '데이터', '빅']"
      ]
     },
     "execution_count": 32,
     "metadata": {},
     "output_type": "execute_result"
    }
   ],
   "source": [
    "sorted(['금융','빅','데이터'])"
   ]
  },
  {
   "cell_type": "code",
   "execution_count": null,
   "id": "45623c93",
   "metadata": {},
   "outputs": [],
   "source": []
  }
 ],
 "metadata": {
  "kernelspec": {
   "display_name": "Python 3 (ipykernel)",
   "language": "python",
   "name": "python3"
  },
  "language_info": {
   "codemirror_mode": {
    "name": "ipython",
    "version": 3
   },
   "file_extension": ".py",
   "mimetype": "text/x-python",
   "name": "python",
   "nbconvert_exporter": "python",
   "pygments_lexer": "ipython3",
   "version": "3.9.13"
  }
 },
 "nbformat": 4,
 "nbformat_minor": 5
}
