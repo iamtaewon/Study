{
 "cells": [
  {
   "cell_type": "markdown",
   "id": "dd90b899",
   "metadata": {},
   "source": [
    "# SciKit-Learn\n",
    "## https://scikit-learn.org/stable/tutorial/index.html"
   ]
  },
  {
   "cell_type": "code",
   "execution_count": 1,
   "id": "0cd33f60",
   "metadata": {},
   "outputs": [],
   "source": [
    "# 머신러닝을 위한 알고리즘\n",
    "# classification, regression, clustering\n",
    "# 모형평가(model assessment) 등.\n",
    "# NumPy, SciPy, matplotlib기반으로 빌드"
   ]
  },
  {
   "cell_type": "markdown",
   "id": "11717257",
   "metadata": {},
   "source": [
    "### sklearn"
   ]
  },
  {
   "cell_type": "code",
   "execution_count": 2,
   "id": "c8427adb",
   "metadata": {},
   "outputs": [],
   "source": [
    "# 설치와 임포트에 사용하는 이름은 sklearn"
   ]
  },
  {
   "cell_type": "code",
   "execution_count": 3,
   "id": "d62d4ec5",
   "metadata": {},
   "outputs": [],
   "source": [
    "# Scikit-Learn으로부터 적절한 estimator 클래스를 임포트해서 모델의 클래스 선택"
   ]
  },
  {
   "cell_type": "code",
   "execution_count": 4,
   "id": "f0247eba",
   "metadata": {},
   "outputs": [],
   "source": [
    "#           module        설명\n",
    "# sklearn.datasets : 내장되어 있는 예제 데이터 세트 \n",
    "# sklearn.preprocessing :데이터 전처리 기능 제공 (표준화, 정규화, 스케일링 등) \n",
    "# sklearn.feature_selection :feature를 선택할 수 있는 기능 제공 \n",
    "# sklearn.feature_extraction :feature 추출 사용 \n",
    "# sklearn.decomposition : 차원 축소 관련 알고리즘\n",
    "# sklearn.model_selection : 교차 검증(C.V)을 위해 데이터를 학습용/테스트용으로 분리, \n",
    "# 최적 파라미터를 추출하는 API 제공 :sklearn.metrics \n",
    "# 분류, 회귀, 군집에 대한 다양한 성능 측정 방법 제공 (성능평가 지표 : Accuracy, Precision, Recall, ROC )\n",
    "# sklearn.linear_model :선형 회귀, 로지스틱 회귀 ,릿지(Ridge)회귀, 라쏘(Lasso)회귀등 회귀 관련 알고리즘\n",
    "# •sklearn.svm : 서포트 벡터 머신 알고리즘\n",
    "# •sklearn.neighbors : k-NN 알고리즘\n",
    "# •sklearn.tree ; 의사결정나무 알고리즘\n",
    "# •sklearn.ensemble : 앙상블 알고리즘\n",
    "# sklearn.cluster : 군집분석 알고리즘(k-Means, 계층형 클러스터링, DBSCAN 등)"
   ]
  },
  {
   "cell_type": "code",
   "execution_count": null,
   "id": "4fbadd3f",
   "metadata": {},
   "outputs": [],
   "source": []
  }
 ],
 "metadata": {
  "kernelspec": {
   "display_name": "Python 3 (ipykernel)",
   "language": "python",
   "name": "python3"
  },
  "language_info": {
   "codemirror_mode": {
    "name": "ipython",
    "version": 3
   },
   "file_extension": ".py",
   "mimetype": "text/x-python",
   "name": "python",
   "nbconvert_exporter": "python",
   "pygments_lexer": "ipython3",
   "version": "3.9.13"
  }
 },
 "nbformat": 4,
 "nbformat_minor": 5
}
