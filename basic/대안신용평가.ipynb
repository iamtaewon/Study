{
 "cells": [
  {
   "cell_type": "markdown",
   "id": "987c11b6",
   "metadata": {},
   "source": [
    "# 대안신용평가"
   ]
  },
  {
   "cell_type": "markdown",
   "id": "faab981b",
   "metadata": {},
   "source": [
    "## 기준"
   ]
  },
  {
   "cell_type": "code",
   "execution_count": 3,
   "id": "68e4a505",
   "metadata": {},
   "outputs": [],
   "source": [
    "# 학교생활기록부 상 출결\n",
    "# 개인의 윤리관(윤리의식)\n",
    "# 핸드폰 로그 추적으로 인한 생활 패턴 분석\n",
    "# 신용과 관련한 여러 데이터를 얻을 수 있는 설문/test를 통한 미래신용분석(risk 존재)\n",
    "# 부모/형제 등 가족들의 신용도 분석"
   ]
  },
  {
   "cell_type": "markdown",
   "id": "58f5184b",
   "metadata": {},
   "source": [
    "## 데이터 수집"
   ]
  },
  {
   "cell_type": "code",
   "execution_count": 1,
   "id": "398a9a9e",
   "metadata": {},
   "outputs": [],
   "source": [
    "# 신용불량자들의 데이터\n",
    "# 데이터마이닝을 통한 패턴 분석\n",
    "# 신용도가 높은 고객들의 데이터\n",
    "# 데이터마이닝을 통한 패턴 분석\n",
    "# 모델링\n",
    "# 가족들의 신용관련 데이터를 분석\n",
    "# 유사점을 발견하고 그러한 점에 기반하여\n",
    "# 신용 평가 모델 모델링"
   ]
  },
  {
   "cell_type": "markdown",
   "id": "2892a828",
   "metadata": {},
   "source": [
    "### 대상"
   ]
  },
  {
   "cell_type": "code",
   "execution_count": 5,
   "id": "e90931dd",
   "metadata": {},
   "outputs": [],
   "source": [
    "# 사회 소외계층\n",
    "# 청년층\n",
    "# 사회 초년생\n",
    "# 가정주부\n",
    "# 신파일러"
   ]
  },
  {
   "cell_type": "markdown",
   "id": "e0ede6d8",
   "metadata": {},
   "source": [
    "### 문제점"
   ]
  },
  {
   "cell_type": "code",
   "execution_count": 2,
   "id": "8703246a",
   "metadata": {},
   "outputs": [],
   "source": [
    "# 연체율에 대한 건전성 관리 필요\n",
    "# 금융과 직접적인 관련이 없는 데이터 속에서\n",
    "# 모델을 찾아내는 것은 신뢰성 문제 발생"
   ]
  },
  {
   "cell_type": "code",
   "execution_count": null,
   "id": "46351da2",
   "metadata": {},
   "outputs": [],
   "source": []
  }
 ],
 "metadata": {
  "kernelspec": {
   "display_name": "Python 3 (ipykernel)",
   "language": "python",
   "name": "python3"
  },
  "language_info": {
   "codemirror_mode": {
    "name": "ipython",
    "version": 3
   },
   "file_extension": ".py",
   "mimetype": "text/x-python",
   "name": "python",
   "nbconvert_exporter": "python",
   "pygments_lexer": "ipython3",
   "version": "3.9.13"
  }
 },
 "nbformat": 4,
 "nbformat_minor": 5
}
