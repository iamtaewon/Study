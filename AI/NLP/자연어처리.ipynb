{
 "cells": [
  {
   "cell_type": "markdown",
   "metadata": {},
   "source": [
    "# 자연어처리(NLP)\n",
    "### Natural Language Processing"
   ]
  },
  {
   "cell_type": "markdown",
   "metadata": {},
   "source": [
    "> 자연어 처리란?"
   ]
  },
  {
   "cell_type": "markdown",
   "metadata": {},
   "source": [
    "- 자연어 처리는 컴퓨터가 사람의 언어를 이해하고 분석할 수 있는 기술"
   ]
  },
  {
   "cell_type": "markdown",
   "metadata": {},
   "source": [
    "- 자연어 처리 기술은 음성 인식, 기계 번역, 자동 문서 요약, 텍스트 분석 등 다양한 인공지능 응용 영역에서 사용"
   ]
  },
  {
   "cell_type": "markdown",
   "metadata": {},
   "source": [
    "- ex) Chat GPT"
   ]
  },
  {
   "cell_type": "markdown",
   "metadata": {},
   "source": [
    "- 자연어 처리, 대화, 기계 번역 등 다양한 응용 영역에서 활용될 수 있도록 훈련되었고 다음과 같은 분야에서 활용할 용도로 개발\n",
    "\n",
    "1. Customer Service: 대화 처리 능력을 갖춘 챗봇을 개발하여 고객 서비스를 제공\n",
    "\n",
    "2. Content Generation: 글, 이미지, 영상 등을 자동으로 생성\n",
    "\n",
    "3. Translation: 언어 번역 기술을 개발하여 다양한 언어를 지원\n",
    "\n",
    "4. Sentiment Analysis: 감정 분석 기술을 개발하여 텍스트에 대한 감정을 분석"
   ]
  },
  {
   "cell_type": "markdown",
   "metadata": {},
   "source": [
    "숙제\n",
    "파인튜닝 / 프롬프트 엔지니어링\n",
    "생성형 AI 공부\n",
    "우리가 어떤 방향으로 진행해야하는가 생각\n",
    "외부 은행에서 어떤식으로 쓰이고 있는지(라마, 라마2 등)\n",
    "챗봇에 관한 것\n",
    "\n",
    "\n",
    "고객이 클라우드에 파인튜닝(미세조정)한 데이터를 올리면, 해당 정보는 고객의 클라우드 테넌트(소프트웨어 시스템으로의 공통 접근을 공유하는 사용자들의 그룹)인 어댑터 레이어에 저장된다. 해당 데이터는 고객의 테넌트에 존재하기 때문에 구글클라우드가 컨트롤할 수 없으며, 고객의 소유다.\n",
    "\n"
   ]
  }
 ],
 "metadata": {
  "kernelspec": {
   "display_name": "Python 3",
   "language": "python",
   "name": "python3"
  },
  "language_info": {
   "name": "python",
   "version": "3.9.6"
  },
  "orig_nbformat": 4
 },
 "nbformat": 4,
 "nbformat_minor": 2
}
